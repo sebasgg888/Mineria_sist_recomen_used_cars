{
  "cells": [
    {
      "cell_type": "markdown",
      "source": [
        "# Establecer el entorno Pyspark en Colab"
      ],
      "metadata": {
        "id": "luTLvdP4ygU9"
      }
    },
    {
      "cell_type": "code",
      "execution_count": 1,
      "metadata": {
        "id": "J5hbli6Un38c"
      },
      "outputs": [],
      "source": [
        "# Descargar la máquina virtual de Java (JVM)\n",
        "!apt-get install openjdk-8-jdk-headless -qq > /dev/null"
      ]
    },
    {
      "cell_type": "code",
      "execution_count": 2,
      "metadata": {
        "id": "gae9jNiIoDFx"
      },
      "outputs": [],
      "source": [
        "# Descargar Spark\n",
        "!wget -q https://dlcdn.apache.org/spark/spark-3.4.0/spark-3.4.0-bin-hadoop3.tgz\n",
        "# Unzip the file\n",
        "!tar xf spark-3.4.0-bin-hadoop3.tgz"
      ]
    },
    {
      "cell_type": "code",
      "execution_count": 3,
      "metadata": {
        "id": "d-LKmjExpGNO"
      },
      "outputs": [],
      "source": [
        "import os\n",
        "os.environ[\"JAVA_HOME\"] = \"/usr/lib/jvm/java-8-openjdk-amd64\"\n",
        "os.environ[\"SPARK_HOME\"] = \"/content/spark-3.4.0-bin-hadoop3\""
      ]
    },
    {
      "cell_type": "code",
      "execution_count": 4,
      "metadata": {
        "id": "QKMN-dQwpUz3"
      },
      "outputs": [],
      "source": [
        "!pip install -q findspark\n",
        "import findspark\n",
        "findspark.init()"
      ]
    },
    {
      "cell_type": "code",
      "execution_count": 5,
      "metadata": {
        "id": "Ro2q0v49pbV2"
      },
      "outputs": [],
      "source": [
        "import findspark\n",
        "findspark.init()\n",
        "\n",
        "from pyspark.sql import SparkSession\n",
        "\n",
        "spark = SparkSession.builder \\\n",
        "    .appName(\"My Spark Application\") \\\n",
        "    .config(\"spark.executor.memory\", \"16g\") \\\n",
        "    .config(\"spark.driver.memory\", \"16g\") \\\n",
        "    .master(\"local[*]\") \\\n",
        "    .getOrCreate()"
      ]
    },
    {
      "cell_type": "markdown",
      "source": [
        "### Leer los datos desde Drive"
      ],
      "metadata": {
        "id": "ppWqRYbs1PRD"
      }
    },
    {
      "cell_type": "code",
      "execution_count": 6,
      "metadata": {
        "colab": {
          "base_uri": "https://localhost:8080/"
        },
        "id": "9UUUPWEppj37",
        "outputId": "bb595ec0-e570-4d5a-f532-e5c440f04f4c"
      },
      "outputs": [
        {
          "output_type": "stream",
          "name": "stdout",
          "text": [
            "Mounted at /content/gdrive\n"
          ]
        }
      ],
      "source": [
        "from google.colab import drive\n",
        "drive.mount('/content/gdrive', force_remount=True)"
      ]
    },
    {
      "cell_type": "code",
      "execution_count": 7,
      "metadata": {
        "id": "cF2C3z9DpxNV"
      },
      "outputs": [],
      "source": [
        "df = spark.read.format('csv').option('header','true').option('inferSchema', 'true').load('/content/gdrive/MyDrive/Colab Notebooks/Minería/cleaned_data.csv')"
      ]
    },
    {
      "cell_type": "code",
      "execution_count": 8,
      "metadata": {
        "colab": {
          "base_uri": "https://localhost:8080/"
        },
        "id": "Gufpym_4p4Vm",
        "outputId": "8ed002a7-af8a-4cd4-ee99-b9de8a5d4172"
      },
      "outputs": [
        {
          "output_type": "stream",
          "name": "stdout",
          "text": [
            "+------------+---------------+--------------------+-----------------+------------+----------------+-------------------+-----------+----------------+--------------+-------------+---------+------+----------+------+-------------+---------+---------------+-------+----------+-------+------------------+------+------------+--------------------+---------+-----+----+-------------+---------+------------+------------+-----------------+----------------+------------+-------------+---------------------+---------------+-----------------------+-----------------+----------------------+\n",
            "|back_legroom|      body_type|                city|city_fuel_economy|daysonmarket|engine_cylinders|engine_displacement|engine_type|franchise_dealer|franchise_make|front_legroom|fuel_type|height|horsepower|is_new|listing_color|make_name|maximum_seating|mileage|model_name|  price|     seller_rating|torque|transmission|wheel_system_display|wheelbase|width|year|Backup Camera|Bluetooth|Alloy Wheels|Heated Seats|Navigation System|Sunroof/Moonroof|Remote Start|Leather Seats|Blind Spot Monitoring|Parking Sensors|Adaptive Cruise Control|Third Row Seating|word_count_description|\n",
            "+------------+---------------+--------------------+-----------------+------------+----------------+-------------------+-----------+----------------+--------------+-------------+---------+------+----------+------+-------------+---------+---------------+-------+----------+-------+------------------+------+------------+--------------------+---------+-----+----+-------------+---------+------------+------------+-----------------+----------------+------------+-------------+---------------------+---------------+-----------------------+-----------------+----------------------+\n",
            "|        35.7|SUV / Crossover|             Raynham|             26.0|         183|              I4|             1400.0|         I4|            true|     Chevrolet|         40.8| Gasoline|  64.9|     138.0|  true|        WHITE|Chevrolet|            5.0|    0.0|      Trax|14890.0| 3.097560975609756| 148.0|           A|   Front-Wheel Drive|    100.6| 69.9|2020|            1|        1|           1|           0|                0|               0|           0|            0|                    0|              0|                      0|                0|                   706|\n",
            "|        40.3|SUV / Crossover|     Rochester Hills|             19.0|         130|              V6|             3200.0|         V6|            true|          Jeep|         41.1| Gasoline|  66.2|     271.0|  true|        BLACK|     Jeep|            5.0|    0.0|  Cherokee|39625.0|               4.5| 295.0|           A|    Four-Wheel Drive|    106.6| 73.2|2020|            0|        0|           0|           0|                0|               1|           0|            0|                    0|              0|                      0|                0|                    64|\n",
            "|        37.4|          Sedan|               Tulsa|             29.0|          44|              I4|             1800.0|         I4|           false|        Nissan|         42.5| Gasoline|  58.9|     124.0| false|         GRAY|   Nissan|            5.0|36049.0|    Sentra|13998.0|               4.8| 125.0|           A|   Front-Wheel Drive|    106.3| 69.3|2019|            1|        1|           1|           0|                0|               0|           0|            0|                    0|              0|                      0|                0|                   159|\n",
            "|        37.4|          Sedan|             Atlanta|             29.0|          41|              I4|             2000.0|         I4|            true|        Nissan|         44.0| Gasoline|  56.9|     149.0|  true|         GRAY|   Nissan|            5.0|    6.0|    Sentra|18549.0|3.4444444444444446| 146.0|         CVT|   Front-Wheel Drive|    106.8| 71.5|2020|            0|        0|           0|           0|                0|               0|           0|            0|                    1|              1|                      0|                0|                   263|\n",
            "|        36.8|SUV / Crossover|Beavercreek Township|             15.0|          48|              V6|             3600.0|         V6|            true|     Chevrolet|         41.3| Gasoline|  69.9|     281.0| false|        BLACK|Chevrolet|            8.0|39001.0|  Traverse|26000.0|               4.5| 266.0|           A|   Front-Wheel Drive|    118.9| 78.5|2017|            1|        1|           1|           1|                1|               0|           1|            0|                    1|              1|                      0|                1|                  1176|\n",
            "+------------+---------------+--------------------+-----------------+------------+----------------+-------------------+-----------+----------------+--------------+-------------+---------+------+----------+------+-------------+---------+---------------+-------+----------+-------+------------------+------+------------+--------------------+---------+-----+----+-------------+---------+------------+------------+-----------------+----------------+------------+-------------+---------------------+---------------+-----------------------+-----------------+----------------------+\n",
            "only showing top 5 rows\n",
            "\n"
          ]
        }
      ],
      "source": [
        "df.show(5)"
      ]
    },
    {
      "cell_type": "code",
      "source": [
        "# Crear la columnas \"extras\"\n",
        "from pyspark.sql.functions import col\n",
        "\n",
        "# List of columns to sum\n",
        "columns_to_sum = ['Backup Camera', 'Bluetooth', 'Alloy Wheels', 'Heated Seats', 'Navigation System', \n",
        "                  'Sunroof/Moonroof', 'Remote Start', 'Leather Seats', 'Blind Spot Monitoring', \n",
        "                  'Parking Sensors', 'Adaptive Cruise Control', 'Third Row Seating']\n",
        "\n",
        "# Create new column 'extras' that is the row sum of the specified columns\n",
        "for column in columns_to_sum:\n",
        "    df = df.withColumn(column, df[column].cast(\"double\")) # ensure the columns are of type double\n",
        "\n",
        "df = df.withColumn('extras', sum(df[column] for column in columns_to_sum))\n",
        "\n",
        "# Drop original columns\n",
        "df = df.drop(*columns_to_sum)"
      ],
      "metadata": {
        "id": "SeQivOpJ7auU"
      },
      "execution_count": 9,
      "outputs": []
    },
    {
      "cell_type": "code",
      "execution_count": 10,
      "metadata": {
        "id": "7MSz8Rllq7I6"
      },
      "outputs": [],
      "source": [
        "# List of column names to be converted\n",
        "columns_to_convert = ['city_fuel_economy','width','wheelbase','torque',\n",
        "                      'seller_rating','price','mileage','maximum_seating',\n",
        "                      'horsepower','height','front_legroom']\n",
        "\n",
        "# Convert columns from double to int\n",
        "for column in columns_to_convert:\n",
        "    df = df.withColumn(column, col(column).cast(\"int\"))"
      ]
    },
    {
      "cell_type": "code",
      "execution_count": 11,
      "metadata": {
        "id": "tO0Iod3iq-nC"
      },
      "outputs": [],
      "source": [
        "from pyspark.ml.feature import VectorAssembler\n",
        "from pyspark.ml.regression import LinearRegression"
      ]
    },
    {
      "cell_type": "code",
      "execution_count": 12,
      "metadata": {
        "id": "OYOES3uHrBzu"
      },
      "outputs": [],
      "source": [
        "df = df.na.drop() # Se eliminan los NA para poder correr los modelos"
      ]
    },
    {
      "cell_type": "code",
      "source": [
        "# Se seleccionan solo los carros usados filtrando por la columna is_new\n",
        "df = df.filter(col('is_new') != True)\n",
        "# Leugo se elimina la columna\n",
        "df = df.drop('is_new')"
      ],
      "metadata": {
        "id": "XgrxWLBA1p2K"
      },
      "execution_count": 13,
      "outputs": []
    },
    {
      "cell_type": "markdown",
      "source": [
        "### Agrupar las etiquetas que tienen menos del 1% de frecuencia en la categoría \"otros\""
      ],
      "metadata": {
        "id": "3Nd43he_2-KG"
      }
    },
    {
      "cell_type": "code",
      "source": [
        "from pyspark.sql.functions import count, when, col, desc\n",
        "\n",
        "# Listado de features categóricos\n",
        "categorical_features = ['city', 'model_name', 'make_name', 'body_type','fuel_type',\n",
        "                        'listing_color','transmission', 'wheel_system_display','engine_type']\n",
        "\n",
        "# Crear un diccionario para almacenar el resultado\n",
        "results = {}\n",
        "\n",
        "for feature in categorical_features:\n",
        "    # Calcular el número de valores únicos\n",
        "    unique_count = df.select(feature).distinct().count()\n",
        "\n",
        "    # Calcular el conteo de cada categoría\n",
        "    value_counts = df.groupBy(feature).count().orderBy(desc('count'))\n",
        "\n",
        "    # Obtener la categoría más frecuente y su porcentaje\n",
        "    most_freq_row = value_counts.first()\n",
        "    most_freq_category = most_freq_row[feature]\n",
        "    most_freq_percentage = 100.0 * most_freq_row['count'] / df.count()\n",
        "\n",
        "    least_freq_row = value_counts.orderBy('count').first()\n",
        "    least_freq_category = least_freq_row[feature]\n",
        "    least_freq_percentage = 100.0 * least_freq_row['count'] / df.count()\n",
        "\n",
        "    # Almacenar los resultados en e diccionario\n",
        "    results[feature] = {\n",
        "        'unique_count': unique_count,\n",
        "        'most_freq_category': most_freq_category,\n",
        "        'most_freq_percentage': most_freq_percentage,\n",
        "        'least_freq_category': least_freq_category,\n",
        "        'least_freq_percentage': least_freq_percentage\n",
        "    }\n",
        "\n",
        "# Mostrar los resultados\n",
        "for feature, result in results.items():\n",
        "    print(f\"{feature}:\")\n",
        "    print(f\"  Unique count: {result['unique_count']}\")\n",
        "    print(f\"  Most frequent category: {result['most_freq_category']} ({result['most_freq_percentage']:.2f}%)\")\n",
        "    print(f\"  Least frequent category: {result['least_freq_category']} ({result['least_freq_percentage']:.2f}%)\")\n",
        "    print()\n"
      ],
      "metadata": {
        "colab": {
          "base_uri": "https://localhost:8080/"
        },
        "id": "q68TIpJp3HUX",
        "outputId": "3e77069f-75a7-4736-debc-da9eef232201"
      },
      "execution_count": 14,
      "outputs": [
        {
          "output_type": "stream",
          "name": "stdout",
          "text": [
            "city:\n",
            "  Unique count: 4061\n",
            "  Most frequent category: Houston (1.36%)\n",
            "  Least frequent category: North Las Vegas (0.00%)\n",
            "\n",
            "model_name:\n",
            "  Unique count: 602\n",
            "  Most frequent category: F-150 (2.93%)\n",
            "  Least frequent category: Seville (0.00%)\n",
            "\n",
            "make_name:\n",
            "  Unique count: 44\n",
            "  Most frequent category: Ford (13.11%)\n",
            "  Least frequent category: Isuzu (0.00%)\n",
            "\n",
            "body_type:\n",
            "  Unique count: 9\n",
            "  Most frequent category: SUV / Crossover (46.38%)\n",
            "  Least frequent category: Van (0.07%)\n",
            "\n",
            "fuel_type:\n",
            "  Unique count: 6\n",
            "  Most frequent category: Gasoline (91.46%)\n",
            "  Least frequent category: Compressed Natural Gas (0.00%)\n",
            "\n",
            "listing_color:\n",
            "  Unique count: 15\n",
            "  Most frequent category: BLACK (20.86%)\n",
            "  Least frequent category: PINK (0.01%)\n",
            "\n",
            "transmission:\n",
            "  Unique count: 4\n",
            "  Most frequent category: A (83.83%)\n",
            "  Least frequent category: Dual Clutch (0.39%)\n",
            "\n",
            "wheel_system_display:\n",
            "  Unique count: 5\n",
            "  Most frequent category: Front-Wheel Drive (47.51%)\n",
            "  Least frequent category: 4X2 (3.41%)\n",
            "\n",
            "engine_type:\n",
            "  Unique count: 24\n",
            "  Most frequent category: I4 (49.74%)\n",
            "  Least frequent category: V6 Compressed Natural Gas (0.00%)\n",
            "\n"
          ]
        }
      ]
    },
    {
      "cell_type": "code",
      "source": [
        "# Acá vemos las categoraías que más se repiten y las agrupamos\n",
        "from pyspark.sql.functions import when, col, lit, count\n",
        "def replace_rare_categories(df, columns, threshold=0.01):\n",
        "    for col_name in columns:\n",
        "        # Calcular las frecuencias\n",
        "        total_count = df.count()\n",
        "        freq = df.groupBy(col_name).count()\n",
        "        freq = freq.withColumn('freq', freq['count'] / total_count)\n",
        "\n",
        "        # Identificar las etiquetas raras\n",
        "        rare_labels = freq.filter(freq['freq'] <= threshold).select(col_name).rdd.flatMap(lambda x: x).collect()\n",
        "\n",
        "        # Reemplazarlos con 'Other'\n",
        "        df = df.withColumn(col_name, when(col(col_name).isin(rare_labels), 'Other').otherwise(col(col_name)))\n",
        "    return df\n",
        "\n",
        "# Uso\n",
        "df_replaced = replace_rare_categories(df, ['city', 'model_name', 'make_name',\n",
        "                                           'body_type','fuel_type',\n",
        "                                           'listing_color','transmission',\n",
        "                                           'wheel_system_display','engine_type'])\n"
      ],
      "metadata": {
        "id": "Ips_Yypm4K5L"
      },
      "execution_count": 15,
      "outputs": []
    },
    {
      "cell_type": "markdown",
      "source": [
        "### Encode para realizar los modelos de predicción"
      ],
      "metadata": {
        "id": "v8Cj6Yk05HW_"
      }
    },
    {
      "cell_type": "code",
      "source": [
        "from pyspark.ml.feature import StringIndexer, OneHotEncoder\n",
        "from pyspark.ml import Pipeline\n",
        "\n",
        "# Lista de variables categóricas\n",
        "categorical_features = ['city', 'model_name', 'make_name', 'body_type','fuel_type',\n",
        "                        'listing_color','transmission', 'wheel_system_display','engine_type']\n",
        "\n",
        "# Construir el pipeline para volver dummies\n",
        "stages = []\n",
        "for categorical_col in categorical_features:\n",
        "    string_indexer = StringIndexer(inputCol=categorical_col, outputCol=categorical_col + \"Index\")\n",
        "    encoder = OneHotEncoder(inputCols=[string_indexer.getOutputCol()], outputCols=[categorical_col + \"classVec\"], dropLast=True)\n",
        "    stages += [string_indexer, encoder]\n",
        "\n",
        "# Llamando el pipeline para que haga la transformación\n",
        "pipeline = Pipeline(stages=stages)\n",
        "pipeline_model = pipeline.fit(df_replaced)\n",
        "df_encoded = pipeline_model.transform(df_replaced)\n",
        "\n",
        "# Dropear las columnas intermedias creadas\n",
        "for categorical_col in categorical_features:\n",
        "    df_encoded = df_encoded.drop(categorical_col + \"Index\")\n",
        "\n",
        "df_encoded.show()\n"
      ],
      "metadata": {
        "colab": {
          "base_uri": "https://localhost:8080/"
        },
        "id": "CEimEmDx5GXh",
        "outputId": "64233e23-7643-4561-ff64-ca8e8abdf659"
      },
      "execution_count": 16,
      "outputs": [
        {
          "output_type": "stream",
          "name": "stdout",
          "text": [
            "+------------+---------------+-----+-----------------+------------+--------------------+-------------------+--------------------+----------------+--------------+-------------+-----------------+------+----------+-------------+----------+---------------+-------+--------------+-----+-------------+------+------------+--------------------+---------+-----+----+----------------------+------+-------------+------------------+-----------------+-----------------+-----------------+---------------------+--------------------+----------------------------+-------------------+\n",
            "|back_legroom|      body_type| city|city_fuel_economy|daysonmarket|    engine_cylinders|engine_displacement|         engine_type|franchise_dealer|franchise_make|front_legroom|        fuel_type|height|horsepower|listing_color| make_name|maximum_seating|mileage|    model_name|price|seller_rating|torque|transmission|wheel_system_display|wheelbase|width|year|word_count_description|extras| cityclassVec|model_nameclassVec|make_nameclassVec|body_typeclassVec|fuel_typeclassVec|listing_colorclassVec|transmissionclassVec|wheel_system_displayclassVec|engine_typeclassVec|\n",
            "+------------+---------------+-----+-----------------+------------+--------------------+-------------------+--------------------+----------------+--------------+-------------+-----------------+------+----------+-------------+----------+---------------+-------+--------------+-----+-------------+------+------------+--------------------+---------+-----+----+----------------------+------+-------------+------------------+-----------------+-----------------+-----------------+---------------------+--------------------+----------------------------+-------------------+\n",
            "|        37.4|          Sedan|Other|               29|          44|                  I4|             1800.0|                  I4|           false|        Nissan|           42|         Gasoline|    58|       124|         GRAY|    Nissan|              5|  36049|         Other|13998|            4|   125|           A|   Front-Wheel Drive|      106|   69|2019|                   159|   3.0|(1,[0],[1.0])|    (22,[0],[1.0])|   (24,[3],[1.0])|    (7,[1],[1.0])|    (3,[0],[1.0])|        (8,[2],[1.0])|       (3,[0],[1.0])|               (4,[0],[1.0])|      (8,[0],[1.0])|\n",
            "|        36.8|SUV / Crossover|Other|               15|          48|                  V6|             3600.0|                  V6|            true|     Chevrolet|           41|         Gasoline|    69|       281|        BLACK| Chevrolet|              8|  39001|         Other|26000|            4|   266|           A|   Front-Wheel Drive|      118|   78|2017|                  1176|   9.0|(1,[0],[1.0])|    (22,[0],[1.0])|   (24,[1],[1.0])|    (7,[0],[1.0])|    (3,[0],[1.0])|        (8,[0],[1.0])|       (3,[0],[1.0])|               (4,[0],[1.0])|      (8,[1],[1.0])|\n",
            "|        36.5|        Minivan|Other|               17|          33|V6 Flex Fuel Vehicle|             3600.0|V6 Flex Fuel Vehicle|            true|       Hyundai|           40|Flex Fuel Vehicle|    68|       283|      UNKNOWN|     Dodge|              7|  75655| Grand Caravan|15275|            4|   260|           A|   Front-Wheel Drive|      121|   88|2017|                   144|   8.0|(1,[0],[1.0])|   (22,[18],[1.0])|   (24,[8],[1.0])|    (7,[3],[1.0])|    (3,[1],[1.0])|        (8,[6],[1.0])|       (3,[0],[1.0])|               (4,[0],[1.0])|      (8,[3],[1.0])|\n",
            "|        34.6|          Sedan|Other|               25|         110|                  I4|             1800.0|                  I4|           false|         Honda|           42|         Gasoline|    56|       140|         GRAY|     Honda|              5| 156429|         Civic| 6952|            4|   128|           A|   Front-Wheel Drive|      106|   69|2010|                   161|   3.0|(1,[0],[1.0])|   (22,[17],[1.0])|   (24,[4],[1.0])|    (7,[1],[1.0])|    (3,[0],[1.0])|        (8,[2],[1.0])|       (3,[0],[1.0])|               (4,[0],[1.0])|      (8,[0],[1.0])|\n",
            "|        37.2|SUV / Crossover|Other|               24|           5|                  I4|             2500.0|                  I4|            true|        Toyota|           42|         Gasoline|    65|       176|         BLUE|    Toyota|              5| 104225|          RAV4|13491|            4|   172|           A|   Front-Wheel Drive|      104|   72|2014|                   371|   2.0|(1,[0],[1.0])|   (22,[15],[1.0])|   (24,[2],[1.0])|    (7,[0],[1.0])|    (3,[0],[1.0])|        (8,[5],[1.0])|       (3,[0],[1.0])|               (4,[0],[1.0])|      (8,[0],[1.0])|\n",
            "|        36.9|SUV / Crossover|Other|               16|         377|                  V6|             3600.0|                  V6|           false|           GMC|           41|         Gasoline|    69|       288|        WHITE|       GMC|              7| 149000|         Other| 8995|            4|   270|           A|     All-Wheel Drive|      118|   78|2011|                   780|   7.0|(1,[0],[1.0])|    (22,[0],[1.0])|   (24,[9],[1.0])|    (7,[0],[1.0])|    (3,[0],[1.0])|        (8,[1],[1.0])|       (3,[0],[1.0])|               (4,[1],[1.0])|      (8,[1],[1.0])|\n",
            "|        39.8|          Sedan|Other|               21|          44|                  I4|             2500.0|                  I4|           false|     Chevrolet|           45|         Gasoline|    58|       195|         GRAY| Chevrolet|              5|  90056|         Other|10999|            3|   256|           A|   Front-Wheel Drive|      111|   84|2014|                   116|   3.0|(1,[0],[1.0])|    (22,[0],[1.0])|   (24,[1],[1.0])|    (7,[1],[1.0])|    (3,[0],[1.0])|        (8,[2],[1.0])|       (3,[0],[1.0])|               (4,[0],[1.0])|      (8,[0],[1.0])|\n",
            "|        39.9|SUV / Crossover|Other|               26|           6|                  I4|             1500.0|                  I4|            true|         Buick|           40|         Gasoline|    65|       170|       SILVER| Chevrolet|              5|  17296|       Equinox|23991|            4|   203|           A|   Front-Wheel Drive|      107|   72|2020|                   804|   3.0|(1,[0],[1.0])|    (22,[4],[1.0])|   (24,[1],[1.0])|    (7,[0],[1.0])|    (3,[0],[1.0])|        (8,[3],[1.0])|       (3,[0],[1.0])|               (4,[0],[1.0])|      (8,[0],[1.0])|\n",
            "|        36.2|          Sedan|Other|               28|           9|                  I4|             1800.0|                  I4|           false|         Honda|           42|         Gasoline|    56|       140|          RED|     Honda|              5|  96199|         Civic| 7750|            4|   128|           A|   Front-Wheel Drive|      105|   69|2012|                    54|   6.0|(1,[0],[1.0])|   (22,[17],[1.0])|   (24,[4],[1.0])|    (7,[1],[1.0])|    (3,[0],[1.0])|        (8,[4],[1.0])|       (3,[0],[1.0])|               (4,[0],[1.0])|      (8,[0],[1.0])|\n",
            "|        40.9|   Pickup Truck|Other|               16|          37|                  V8|             6200.0|                  V8|            true|        Subaru|           45|         Gasoline|    74|       420|        WHITE|       GMC|              6|  35308|         Other|30879|            4|   383|           A|                 4X2|      143|   80|2017|                  1035|   8.0|(1,[0],[1.0])|    (22,[0],[1.0])|   (24,[9],[1.0])|    (7,[2],[1.0])|    (3,[0],[1.0])|        (8,[1],[1.0])|       (3,[0],[1.0])|                   (4,[],[])|      (8,[2],[1.0])|\n",
            "|        39.1|          Sedan|Other|               30|          45|           I4 Diesel|             2000.0|               Other|            true|    Volkswagen|           42|            Other|    58|       140|        WHITE|Volkswagen|              5|  38472|         Other|16899|            4|   236|           A|   Front-Wheel Drive|      110|   72|2014|                   419|   8.0|(1,[0],[1.0])|    (22,[0],[1.0])|  (24,[13],[1.0])|    (7,[1],[1.0])|        (3,[],[])|        (8,[1],[1.0])|       (3,[0],[1.0])|               (4,[0],[1.0])|      (8,[6],[1.0])|\n",
            "|        40.2|          Sedan|Other|               19|          37|                  V6|             3500.0|                  V6|           false|         Dodge|           41|         Gasoline|    58|       250|        WHITE|     Dodge|              5|  97298|         Other| 9999|            3|   390|           A|    Rear-Wheel Drive|      120|   74|2008|                   443|   0.0|(1,[0],[1.0])|    (22,[0],[1.0])|   (24,[8],[1.0])|    (7,[1],[1.0])|    (3,[0],[1.0])|        (8,[1],[1.0])|       (3,[0],[1.0])|               (4,[3],[1.0])|      (8,[1],[1.0])|\n",
            "|        34.5|          Sedan|Other|               20|         156|                  V6|             3500.0|                  V6|           false|         Acura|           42|         Gasoline|    57|       290|        BLACK|     Acura|              5|    677|         Other|24999|            5|   267|           A|   Front-Wheel Drive|      109|   73|2019|                   907|   9.0|(1,[0],[1.0])|    (22,[0],[1.0])|  (24,[23],[1.0])|    (7,[1],[1.0])|    (3,[0],[1.0])|        (8,[0],[1.0])|       (3,[0],[1.0])|               (4,[0],[1.0])|      (8,[1],[1.0])|\n",
            "|        40.9|   Pickup Truck|Other|               16|           9|                  V8|             5300.0|                  V8|            true|          Ford|           45|         Gasoline|    74|       355|        BLACK| Chevrolet|              6|  59853|Silverado 1500|32398|            4|   383|           A|    Four-Wheel Drive|      143|   80|2017|                   980|   5.0|(1,[0],[1.0])|    (22,[2],[1.0])|   (24,[1],[1.0])|    (7,[2],[1.0])|    (3,[0],[1.0])|        (8,[0],[1.0])|       (3,[0],[1.0])|               (4,[2],[1.0])|      (8,[2],[1.0])|\n",
            "|        36.9|SUV / Crossover|Other|               16|          15|                  V6|             3600.0|                  V6|           false|         Buick|           41|         Gasoline|    72|       288|        BROWN|     Buick|              8| 113328|         Other|11995|            4|   270|           A|     All-Wheel Drive|      118|   79|2009|                   877|   9.0|(1,[0],[1.0])|    (22,[0],[1.0])|  (24,[15],[1.0])|    (7,[0],[1.0])|    (3,[0],[1.0])|            (8,[],[])|       (3,[0],[1.0])|               (4,[1],[1.0])|      (8,[1],[1.0])|\n",
            "|        38.1|          Sedan|Other|               27|          54|                  I4|             1500.0|                  I4|            true|     Chevrolet|           42|         Gasoline|    57|       160|       SILVER| Chevrolet|              5|  48676|        Malibu|14290|            4|   184|           A|   Front-Wheel Drive|      111|   73|2017|                   775|   4.0|(1,[0],[1.0])|   (22,[14],[1.0])|   (24,[1],[1.0])|    (7,[1],[1.0])|    (3,[0],[1.0])|        (8,[3],[1.0])|       (3,[0],[1.0])|               (4,[0],[1.0])|      (8,[0],[1.0])|\n",
            "|        41.4|          Sedan|Other|               28|          34|                  I4|             1800.0|                  I4|            true|        Toyota|           42|         Gasoline|    57|       132|        BLACK|    Toyota|              5|  21860|       Corolla|18598|            3|   128|         CVT|   Front-Wheel Drive|      106|   69|2018|                   488|   3.0|(1,[0],[1.0])|    (22,[8],[1.0])|   (24,[2],[1.0])|    (7,[1],[1.0])|    (3,[0],[1.0])|        (8,[0],[1.0])|       (3,[1],[1.0])|               (4,[0],[1.0])|      (8,[0],[1.0])|\n",
            "|        41.4|          Sedan|Other|               30|          13|                  I4|             1800.0|                  I4|            true|         Honda|           42|         Gasoline|    56|       139|        WHITE|    Toyota|              5|  30583|       Corolla|19999|            5|   182|         CVT|   Front-Wheel Drive|      106|   70|2020|                   249|   3.0|(1,[0],[1.0])|    (22,[8],[1.0])|   (24,[2],[1.0])|    (7,[1],[1.0])|    (3,[0],[1.0])|        (8,[1],[1.0])|       (3,[1],[1.0])|               (4,[0],[1.0])|      (8,[0],[1.0])|\n",
            "|        36.3|SUV / Crossover|Other|               17|          35|                  V6|             3600.0|                  V6|            true|      Cadillac|           41|         Gasoline|    65|       308|        BLACK|  Cadillac|              5|  84529|         Other|20947|            3|   265|           A|   Front-Wheel Drive|      110|   75|2016|                   612|  10.0|(1,[0],[1.0])|    (22,[0],[1.0])|  (24,[20],[1.0])|    (7,[0],[1.0])|    (3,[0],[1.0])|        (8,[0],[1.0])|       (3,[0],[1.0])|               (4,[0],[1.0])|      (8,[1],[1.0])|\n",
            "|        36.1|          Sedan|Other|               24|         369|                  I4|             2000.0|                  I4|           false|          Ford|           41|         Gasoline|    58|       140|          RED|      Ford|              5| 100690|         Other| 4995|            3|   136|           A|   Front-Wheel Drive|      102|   67|2009|                   436|   0.0|(1,[0],[1.0])|    (22,[0],[1.0])|   (24,[0],[1.0])|    (7,[1],[1.0])|    (3,[0],[1.0])|        (8,[4],[1.0])|       (3,[0],[1.0])|               (4,[0],[1.0])|      (8,[0],[1.0])|\n",
            "+------------+---------------+-----+-----------------+------------+--------------------+-------------------+--------------------+----------------+--------------+-------------+-----------------+------+----------+-------------+----------+---------------+-------+--------------+-----+-------------+------+------------+--------------------+---------+-----+----+----------------------+------+-------------+------------------+-----------------+-----------------+-----------------+---------------------+--------------------+----------------------------+-------------------+\n",
            "only showing top 20 rows\n",
            "\n"
          ]
        }
      ]
    },
    {
      "cell_type": "code",
      "source": [
        "df = df_encoded"
      ],
      "metadata": {
        "id": "lCGBGakg6AIP"
      },
      "execution_count": 17,
      "outputs": []
    },
    {
      "cell_type": "markdown",
      "source": [
        "# Construcción de modelos de predicción"
      ],
      "metadata": {
        "id": "2oP1_YVg2k_K"
      }
    },
    {
      "cell_type": "code",
      "source": [
        "# Partir en train y test\n",
        "# Separar la variable objetivo\n",
        "df = df.withColumnRenamed('price', 'label')\n",
        "\n",
        "# Hacer el split\n",
        "train, test = df.randomSplit([0.8, 0.2], seed=42)\n",
        "\n",
        "# Now 'train' corresponds to the combined 'X_train' and 'y_train' from sklearn,\n",
        "# and 'test' corresponds to the combined 'X_test' and 'y_test'.\n",
        "\n"
      ],
      "metadata": {
        "id": "wClHUc4q6cwG"
      },
      "execution_count": 18,
      "outputs": []
    },
    {
      "cell_type": "markdown",
      "metadata": {
        "id": "w2NKJJc-rKf_"
      },
      "source": [
        "# Regresión Lineal"
      ]
    },
    {
      "cell_type": "code",
      "source": [
        "from pyspark.ml.feature import VectorAssembler, StandardScaler\n",
        "from pyspark.ml.regression import LinearRegression\n",
        "from pyspark.ml import Pipeline\n",
        "\n",
        "# Replace 'continuous_feature_cols' with a list of column names of the continuous features\n",
        "continuous_feature_cols = ['back_legroom', 'city_fuel_economy', 'daysonmarket',\n",
        "                           'engine_displacement', 'front_legroom', 'height',\n",
        "                           'horsepower', 'maximum_seating', 'mileage', 'seller_rating',\n",
        "                           'torque', 'wheelbase', 'width', 'year', 'word_count_description', \n",
        "                           'extras']\n",
        "\n",
        "# Unir todos los features en un mismo vector\n",
        "assembler = VectorAssembler(inputCols=continuous_feature_cols, outputCol=\"features\")\n",
        "\n",
        "# Estandarizar los features\n",
        "scaler = StandardScaler(inputCol=\"features\", outputCol=\"scaledFeatures\",\n",
        "                        withStd=True, withMean=True)\n",
        "\n",
        "# Hacer la regresión RIDGE para regularizar\n",
        "ridge = LinearRegression(featuresCol=\"scaledFeatures\", labelCol=\"label\",\n",
        "                         elasticNetParam=0, regParam=1.0)\n",
        "\n",
        "# Crear el pipeline\n",
        "pipeline = Pipeline(stages=[assembler, scaler, ridge])\n",
        "\n",
        "# Fit and transform the training data\n",
        "model = pipeline.fit(train)\n",
        "\n",
        "# Transformar los datos de test\n",
        "test_scaled = model.transform(test)\n"
      ],
      "metadata": {
        "id": "CzI1LBHb69N-"
      },
      "execution_count": 19,
      "outputs": []
    },
    {
      "cell_type": "code",
      "source": [
        "from pyspark.ml.tuning import CrossValidator, ParamGridBuilder\n",
        "from pyspark.ml.evaluation import RegressionEvaluator\n",
        "\n",
        "# Definir el conjunto de hiperparámetros a probar: \n",
        "# Se pueden añadir otros, por simplicidad no se hace\n",
        "paramGrid = ParamGridBuilder() \\\n",
        "    .addGrid(ridge.regParam, [1.0]) \\\n",
        "    .build()\n",
        "\n",
        "# Define cross-validation procedure\n",
        "crossval = CrossValidator(estimator=pipeline,  \n",
        "                          estimatorParamMaps=paramGrid,  # Aca se llaman los hiperparámetros\n",
        "                          evaluator=RegressionEvaluator(metricName=\"rmse\"),  # Evaluar el modelo con el RMSE\n",
        "                          numFolds=5)  # Número de folds en CV\n",
        "\n",
        "# Correr el CV\n",
        "cvModel = crossval.fit(train)\n",
        "\n",
        "# Obtener el RMSE del mejor modelo\n",
        "rmse = cvModel.avgMetrics[0]\n",
        "print(f'Ridge Regression CV RMSE: {rmse}') \n"
      ],
      "metadata": {
        "colab": {
          "base_uri": "https://localhost:8080/"
        },
        "id": "GdyxttjlBwe_",
        "outputId": "da4e437c-1ad3-46a4-9e44-33781c0d915d"
      },
      "execution_count": 20,
      "outputs": [
        {
          "output_type": "stream",
          "name": "stdout",
          "text": [
            "Ridge Regression CV RMSE: 5475.736785613694\n"
          ]
        }
      ]
    },
    {
      "cell_type": "markdown",
      "source": [
        "#### Ver las métricas en test"
      ],
      "metadata": {
        "id": "9oSnXnbODK6W"
      }
    },
    {
      "cell_type": "code",
      "source": [
        "from pyspark.sql.functions import col, abs\n",
        "from pyspark.ml.evaluation import RegressionEvaluator\n",
        "\n",
        "# Construir un evaluador de la regresión\n",
        "rmse_evaluator = RegressionEvaluator(predictionCol=\"prediction\", labelCol=\"label\", metricName=\"rmse\")\n",
        "\n",
        "# Para el R2\n",
        "r2_evaluator = RegressionEvaluator(predictionCol=\"prediction\", labelCol=\"label\", metricName=\"r2\")\n",
        "\n",
        "# Definir la función para el MAPE\n",
        "def calculate_mape(df):\n",
        "    return df.select(100 * abs(col(\"label\") - col(\"prediction\")) / col(\"label\")).agg({\"*\": \"avg\"}).collect()[0][0]\n",
        "\n",
        "# Predicciones en conjunto de entrenamiento\n",
        "train_pred = model.transform(train)\n",
        "rmse_train = rmse_evaluator.evaluate(train_pred)\n",
        "mape_train = calculate_mape(train_pred)\n",
        "r2_train = r2_evaluator.evaluate(train_pred)\n",
        "print(f'Ridge Regression Train RMSE: {rmse_train}, Train MAPE: {mape_train}%, Train R-squared: {r2_train}')\n",
        "\n",
        "# Predicciones en conjunto de prueba\n",
        "test_pred = model.transform(test)\n",
        "rmse_test = rmse_evaluator.evaluate(test_pred)\n",
        "mape_test = calculate_mape(test_pred)\n",
        "r2_test = r2_evaluator.evaluate(test_pred)\n",
        "print(f'Ridge Regression Test RMSE: {rmse_test}, Test MAPE: {mape_test}%, Test R-squared: {r2_test}')\n"
      ],
      "metadata": {
        "colab": {
          "base_uri": "https://localhost:8080/"
        },
        "id": "o9w3ZJDKDKLP",
        "outputId": "354b0a05-a9ed-4639-a4fc-a9f6109239cb"
      },
      "execution_count": null,
      "outputs": [
        {
          "output_type": "stream",
          "name": "stdout",
          "text": [
            "Ridge Regression Train RMSE: 5474.615215734273, Train MAPE: 24.170553344236666%, Train R-squared: 0.7632112138161617\n",
            "Ridge Regression Test RMSE: 5442.804854944251, Test MAPE: 23.7189723348648%, Test R-squared: 0.7688984175876103\n"
          ]
        }
      ]
    },
    {
      "cell_type": "markdown",
      "source": [
        "# Random Forest"
      ],
      "metadata": {
        "id": "L4wS7FPeG4PB"
      }
    },
    {
      "cell_type": "code",
      "source": [
        "from pyspark.ml.feature import VectorAssembler\n",
        "\n",
        "# Definir los features\n",
        "feature_cols = [ 'city_fuel_economy', 'daysonmarket', \n",
        "                'engine_displacement','franchise_dealer','front_legroom', \n",
        "                'height', 'horsepower','maximum_seating', \n",
        "                'mileage', 'seller_rating', 'torque', \n",
        "                'wheelbase', 'width', 'year', 'word_count_description', 'extras', 'cityclassVec', \n",
        "                'model_nameclassVec', 'make_nameclassVec', 'body_typeclassVec', 'fuel_typeclassVec', \n",
        "                'listing_colorclassVec', 'transmissionclassVec', 'wheel_system_displayclassVec', 'engine_typeclassVec']\n",
        "\n",
        "# Inicializar el vector con la información\n",
        "assembler = VectorAssembler(inputCols=feature_cols, outputCol=\"features\")\n",
        "\n",
        "# Transformar los datos\n",
        "train = assembler.transform(train)\n",
        "test = assembler.transform(test)\n"
      ],
      "metadata": {
        "id": "AiQDCIG9O6ey"
      },
      "execution_count": null,
      "outputs": []
    },
    {
      "cell_type": "code",
      "source": [
        "from pyspark.ml.regression import RandomForestRegressor\n",
        "from pyspark.ml.tuning import CrossValidator, ParamGridBuilder\n",
        "from pyspark.ml.evaluation import RegressionEvaluator\n",
        "from pyspark.sql.functions import col, abs\n",
        "\n",
        "# Crear el objeto de la regresion con Random Forest\n",
        "rf = RandomForestRegressor(featuresCol=\"features\", labelCol=\"label\")\n",
        "\n",
        "# definir el grid de hiperparámetros:\n",
        "paramGrid = ParamGridBuilder() \\\n",
        "    .addGrid(rf.numTrees, [10]) \\\n",
        "    .build()\n",
        "\n",
        "# Hacer el cross validation\n",
        "crossval = CrossValidator(estimator=rf,\n",
        "                          estimatorParamMaps=paramGrid,\n",
        "                          evaluator=RegressionEvaluator(metricName=\"rmse\"),\n",
        "                          numFolds=5)\n",
        "\n",
        "# Ejecutar el CV\n",
        "cvModel = crossval.fit(train)\n",
        "\n",
        "# Definir la función de MAPE\n",
        "def calculate_mape(df):\n",
        "    return df.select(100 * abs(col(\"label\") - col(\"prediction\")) / col(\"label\")).agg({\"*\": \"avg\"}).collect()[0][0]\n",
        "\n",
        "# Crear un evaluador para el RMSE\n",
        "rmse_evaluator = RegressionEvaluator(predictionCol=\"prediction\", labelCol=\"label\", metricName=\"rmse\")\n",
        "\n",
        "# Crear un evaluador para el R2\n",
        "r2_evaluator = RegressionEvaluator(predictionCol=\"prediction\", labelCol=\"label\", metricName=\"r2\")"
      ],
      "metadata": {
        "id": "8nCH8dLDKR-Y"
      },
      "execution_count": null,
      "outputs": []
    },
    {
      "cell_type": "code",
      "source": [
        "# Predicciones en train\n",
        "train_pred = cvModel.transform(train)\n",
        "rmse_train = rmse_evaluator.evaluate(train_pred)\n",
        "mape_train = calculate_mape(train_pred)\n",
        "r2_train = r2_evaluator.evaluate(train_pred)\n",
        "print(f'Random Forest Train RMSE: {rmse_train}, Train MAPE: {mape_train}%, Train R-squared: {r2_train}')\n",
        "\n",
        "# Predicciones en test\n",
        "test_pred = cvModel.transform(test)\n",
        "rmse_test = rmse_evaluator.evaluate(test_pred)\n",
        "mape_test = calculate_mape(test_pred)\n",
        "r2_test = r2_evaluator.evaluate(test_pred)\n",
        "print(f'Random Forest Test RMSE: {rmse_test}, Test MAPE: {mape_test}%, Test R-squared: {r2_test}')\n"
      ],
      "metadata": {
        "colab": {
          "base_uri": "https://localhost:8080/"
        },
        "id": "DS6UbGviKR5p",
        "outputId": "244f2eee-05b1-4b38-8eaf-6b6a69d28918"
      },
      "execution_count": null,
      "outputs": [
        {
          "output_type": "stream",
          "name": "stdout",
          "text": [
            "Random Forest Train RMSE: 4927.262089810299, Train MAPE: 19.153222462177542%, Train R-squared: 0.8081926440807524\n",
            "Random Forest Test RMSE: 4943.073808221099, Test MAPE: 19.181414064034183%, Test R-squared: 0.8093874099113136\n"
          ]
        }
      ]
    },
    {
      "cell_type": "code",
      "source": [],
      "metadata": {
        "id": "ogJvhuQCKR07"
      },
      "execution_count": null,
      "outputs": []
    },
    {
      "cell_type": "code",
      "source": [],
      "metadata": {
        "id": "NEnrn0SxKRvs"
      },
      "execution_count": null,
      "outputs": []
    }
  ],
  "metadata": {
    "colab": {
      "provenance": []
    },
    "kernelspec": {
      "display_name": "Python 3",
      "name": "python3"
    },
    "language_info": {
      "name": "python"
    }
  },
  "nbformat": 4,
  "nbformat_minor": 0
}