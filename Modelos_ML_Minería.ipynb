{
 "cells": [
  {
   "cell_type": "code",
   "execution_count": 248,
   "id": "76b38ff8",
   "metadata": {},
   "outputs": [],
   "source": [
    "#Load the sampled data\n",
    "import pandas as pd\n",
    "import numpy as np\n",
    "import seaborn as sns\n",
    "import matplotlib.pyplot as plt"
   ]
  },
  {
   "cell_type": "code",
   "execution_count": 249,
   "id": "2f49fe0d",
   "metadata": {},
   "outputs": [],
   "source": [
    "df= pd.read_csv('cleaned_data.csv',low_memory=False) # Se llama el dataset limpio"
   ]
  },
  {
   "cell_type": "code",
   "execution_count": 250,
   "id": "004a8cb5",
   "metadata": {},
   "outputs": [
    {
     "data": {
      "text/plain": [
       "(293710, 41)"
      ]
     },
     "execution_count": 250,
     "metadata": {},
     "output_type": "execute_result"
    }
   ],
   "source": [
    "df.shape"
   ]
  },
  {
   "cell_type": "code",
   "execution_count": 251,
   "id": "2064c2e1",
   "metadata": {},
   "outputs": [
    {
     "data": {
      "text/html": [
       "<div>\n",
       "<style scoped>\n",
       "    .dataframe tbody tr th:only-of-type {\n",
       "        vertical-align: middle;\n",
       "    }\n",
       "\n",
       "    .dataframe tbody tr th {\n",
       "        vertical-align: top;\n",
       "    }\n",
       "\n",
       "    .dataframe thead th {\n",
       "        text-align: right;\n",
       "    }\n",
       "</style>\n",
       "<table border=\"1\" class=\"dataframe\">\n",
       "  <thead>\n",
       "    <tr style=\"text-align: right;\">\n",
       "      <th></th>\n",
       "      <th>back_legroom</th>\n",
       "      <th>body_type</th>\n",
       "      <th>city</th>\n",
       "      <th>city_fuel_economy</th>\n",
       "      <th>daysonmarket</th>\n",
       "      <th>engine_cylinders</th>\n",
       "      <th>engine_displacement</th>\n",
       "      <th>engine_type</th>\n",
       "      <th>franchise_dealer</th>\n",
       "      <th>franchise_make</th>\n",
       "      <th>...</th>\n",
       "      <th>Heated Seats</th>\n",
       "      <th>Navigation System</th>\n",
       "      <th>Sunroof/Moonroof</th>\n",
       "      <th>Remote Start</th>\n",
       "      <th>Leather Seats</th>\n",
       "      <th>Blind Spot Monitoring</th>\n",
       "      <th>Parking Sensors</th>\n",
       "      <th>Adaptive Cruise Control</th>\n",
       "      <th>Third Row Seating</th>\n",
       "      <th>word_count_description</th>\n",
       "    </tr>\n",
       "  </thead>\n",
       "  <tbody>\n",
       "    <tr>\n",
       "      <th>0</th>\n",
       "      <td>35.7</td>\n",
       "      <td>SUV / Crossover</td>\n",
       "      <td>Raynham</td>\n",
       "      <td>26.0</td>\n",
       "      <td>183</td>\n",
       "      <td>I4</td>\n",
       "      <td>1400.0</td>\n",
       "      <td>I4</td>\n",
       "      <td>True</td>\n",
       "      <td>Chevrolet</td>\n",
       "      <td>...</td>\n",
       "      <td>0</td>\n",
       "      <td>0</td>\n",
       "      <td>0</td>\n",
       "      <td>0</td>\n",
       "      <td>0</td>\n",
       "      <td>0</td>\n",
       "      <td>0</td>\n",
       "      <td>0</td>\n",
       "      <td>0</td>\n",
       "      <td>706</td>\n",
       "    </tr>\n",
       "    <tr>\n",
       "      <th>1</th>\n",
       "      <td>40.3</td>\n",
       "      <td>SUV / Crossover</td>\n",
       "      <td>Rochester Hills</td>\n",
       "      <td>19.0</td>\n",
       "      <td>130</td>\n",
       "      <td>V6</td>\n",
       "      <td>3200.0</td>\n",
       "      <td>V6</td>\n",
       "      <td>True</td>\n",
       "      <td>Jeep</td>\n",
       "      <td>...</td>\n",
       "      <td>0</td>\n",
       "      <td>0</td>\n",
       "      <td>1</td>\n",
       "      <td>0</td>\n",
       "      <td>0</td>\n",
       "      <td>0</td>\n",
       "      <td>0</td>\n",
       "      <td>0</td>\n",
       "      <td>0</td>\n",
       "      <td>64</td>\n",
       "    </tr>\n",
       "    <tr>\n",
       "      <th>2</th>\n",
       "      <td>37.4</td>\n",
       "      <td>Sedan</td>\n",
       "      <td>Tulsa</td>\n",
       "      <td>29.0</td>\n",
       "      <td>44</td>\n",
       "      <td>I4</td>\n",
       "      <td>1800.0</td>\n",
       "      <td>I4</td>\n",
       "      <td>False</td>\n",
       "      <td>Nissan</td>\n",
       "      <td>...</td>\n",
       "      <td>0</td>\n",
       "      <td>0</td>\n",
       "      <td>0</td>\n",
       "      <td>0</td>\n",
       "      <td>0</td>\n",
       "      <td>0</td>\n",
       "      <td>0</td>\n",
       "      <td>0</td>\n",
       "      <td>0</td>\n",
       "      <td>159</td>\n",
       "    </tr>\n",
       "    <tr>\n",
       "      <th>3</th>\n",
       "      <td>37.4</td>\n",
       "      <td>Sedan</td>\n",
       "      <td>Atlanta</td>\n",
       "      <td>29.0</td>\n",
       "      <td>41</td>\n",
       "      <td>I4</td>\n",
       "      <td>2000.0</td>\n",
       "      <td>I4</td>\n",
       "      <td>True</td>\n",
       "      <td>Nissan</td>\n",
       "      <td>...</td>\n",
       "      <td>0</td>\n",
       "      <td>0</td>\n",
       "      <td>0</td>\n",
       "      <td>0</td>\n",
       "      <td>0</td>\n",
       "      <td>1</td>\n",
       "      <td>1</td>\n",
       "      <td>0</td>\n",
       "      <td>0</td>\n",
       "      <td>263</td>\n",
       "    </tr>\n",
       "    <tr>\n",
       "      <th>4</th>\n",
       "      <td>36.8</td>\n",
       "      <td>SUV / Crossover</td>\n",
       "      <td>Beavercreek Township</td>\n",
       "      <td>15.0</td>\n",
       "      <td>48</td>\n",
       "      <td>V6</td>\n",
       "      <td>3600.0</td>\n",
       "      <td>V6</td>\n",
       "      <td>True</td>\n",
       "      <td>Chevrolet</td>\n",
       "      <td>...</td>\n",
       "      <td>1</td>\n",
       "      <td>1</td>\n",
       "      <td>0</td>\n",
       "      <td>1</td>\n",
       "      <td>0</td>\n",
       "      <td>1</td>\n",
       "      <td>1</td>\n",
       "      <td>0</td>\n",
       "      <td>1</td>\n",
       "      <td>1176</td>\n",
       "    </tr>\n",
       "  </tbody>\n",
       "</table>\n",
       "<p>5 rows × 41 columns</p>\n",
       "</div>"
      ],
      "text/plain": [
       "   back_legroom        body_type                  city  city_fuel_economy  \\\n",
       "0          35.7  SUV / Crossover               Raynham               26.0   \n",
       "1          40.3  SUV / Crossover       Rochester Hills               19.0   \n",
       "2          37.4            Sedan                 Tulsa               29.0   \n",
       "3          37.4            Sedan               Atlanta               29.0   \n",
       "4          36.8  SUV / Crossover  Beavercreek Township               15.0   \n",
       "\n",
       "   daysonmarket engine_cylinders  engine_displacement engine_type  \\\n",
       "0           183               I4               1400.0          I4   \n",
       "1           130               V6               3200.0          V6   \n",
       "2            44               I4               1800.0          I4   \n",
       "3            41               I4               2000.0          I4   \n",
       "4            48               V6               3600.0          V6   \n",
       "\n",
       "   franchise_dealer franchise_make  ...  Heated Seats Navigation System  \\\n",
       "0              True      Chevrolet  ...             0                 0   \n",
       "1              True           Jeep  ...             0                 0   \n",
       "2             False         Nissan  ...             0                 0   \n",
       "3              True         Nissan  ...             0                 0   \n",
       "4              True      Chevrolet  ...             1                 1   \n",
       "\n",
       "   Sunroof/Moonroof  Remote Start  Leather Seats Blind Spot Monitoring  \\\n",
       "0                 0             0              0                     0   \n",
       "1                 1             0              0                     0   \n",
       "2                 0             0              0                     0   \n",
       "3                 0             0              0                     1   \n",
       "4                 0             1              0                     1   \n",
       "\n",
       "  Parking Sensors  Adaptive Cruise Control  Third Row Seating  \\\n",
       "0               0                        0                  0   \n",
       "1               0                        0                  0   \n",
       "2               0                        0                  0   \n",
       "3               1                        0                  0   \n",
       "4               1                        0                  1   \n",
       "\n",
       "  word_count_description  \n",
       "0                    706  \n",
       "1                     64  \n",
       "2                    159  \n",
       "3                    263  \n",
       "4                   1176  \n",
       "\n",
       "[5 rows x 41 columns]"
      ]
     },
     "execution_count": 251,
     "metadata": {},
     "output_type": "execute_result"
    }
   ],
   "source": [
    "df.head()"
   ]
  },
  {
   "cell_type": "code",
   "execution_count": 252,
   "id": "1d14f044",
   "metadata": {},
   "outputs": [],
   "source": [
    "import numpy as np\n",
    "\n",
    "# Filtrar por el rango intercuartil del precio\n",
    "\n",
    "Q1 = df['price'].quantile(0.25)\n",
    "Q3 = df['price'].quantile(0.75)\n",
    "IQR = Q3 - Q1\n",
    "\n",
    "filter = (df['price'] >= Q1 - 1.5 * IQR) & (df['price'] <= Q3 + 1.5 *IQR)\n",
    "df_new = df.loc[filter]  \n"
   ]
  },
  {
   "cell_type": "code",
   "execution_count": 253,
   "id": "7d1fb8ec",
   "metadata": {},
   "outputs": [
    {
     "data": {
      "text/plain": [
       "(286205, 41)"
      ]
     },
     "execution_count": 253,
     "metadata": {},
     "output_type": "execute_result"
    }
   ],
   "source": [
    "df_new.shape"
   ]
  },
  {
   "cell_type": "code",
   "execution_count": 254,
   "id": "c589bb4c",
   "metadata": {},
   "outputs": [],
   "source": [
    "df=df_new.copy()"
   ]
  },
  {
   "cell_type": "code",
   "execution_count": 255,
   "id": "fbc9a159",
   "metadata": {
    "scrolled": true
   },
   "outputs": [
    {
     "name": "stdout",
     "output_type": "stream",
     "text": [
      "<class 'pandas.core.frame.DataFrame'>\n",
      "Int64Index: 286205 entries, 0 to 293709\n",
      "Data columns (total 41 columns):\n",
      " #   Column                   Non-Null Count   Dtype  \n",
      "---  ------                   --------------   -----  \n",
      " 0   back_legroom             264069 non-null  float64\n",
      " 1   body_type                284891 non-null  object \n",
      " 2   city                     286205 non-null  object \n",
      " 3   city_fuel_economy        278168 non-null  float64\n",
      " 4   daysonmarket             286205 non-null  int64  \n",
      " 5   engine_cylinders         277141 non-null  object \n",
      " 6   engine_displacement      284271 non-null  float64\n",
      " 7   engine_type              277141 non-null  object \n",
      " 8   franchise_dealer         286205 non-null  bool   \n",
      " 9   franchise_make           285812 non-null  object \n",
      " 10  front_legroom            270482 non-null  float64\n",
      " 11  fuel_type                278713 non-null  object \n",
      " 12  height                   271183 non-null  float64\n",
      " 13  horsepower               269983 non-null  float64\n",
      " 14  is_new                   286205 non-null  bool   \n",
      " 15  listing_color            286205 non-null  object \n",
      " 16  make_name                286205 non-null  object \n",
      " 17  maximum_seating          271182 non-null  float64\n",
      " 18  mileage                  272483 non-null  float64\n",
      " 19  model_name               286205 non-null  object \n",
      " 20  price                    286205 non-null  float64\n",
      " 21  seller_rating            282248 non-null  float64\n",
      " 22  torque                   269983 non-null  float64\n",
      " 23  transmission             280454 non-null  object \n",
      " 24  wheel_system_display     272324 non-null  object \n",
      " 25  wheelbase                271184 non-null  float64\n",
      " 26  width                    271181 non-null  float64\n",
      " 27  year                     286205 non-null  int64  \n",
      " 28  Backup Camera            286205 non-null  int64  \n",
      " 29  Bluetooth                286205 non-null  int64  \n",
      " 30  Alloy Wheels             286205 non-null  int64  \n",
      " 31  Heated Seats             286205 non-null  int64  \n",
      " 32  Navigation System        286205 non-null  int64  \n",
      " 33  Sunroof/Moonroof         286205 non-null  int64  \n",
      " 34  Remote Start             286205 non-null  int64  \n",
      " 35  Leather Seats            286205 non-null  int64  \n",
      " 36  Blind Spot Monitoring    286205 non-null  int64  \n",
      " 37  Parking Sensors          286205 non-null  int64  \n",
      " 38  Adaptive Cruise Control  286205 non-null  int64  \n",
      " 39  Third Row Seating        286205 non-null  int64  \n",
      " 40  word_count_description   286205 non-null  int64  \n",
      "dtypes: bool(2), float64(13), int64(15), object(11)\n",
      "memory usage: 87.9+ MB\n"
     ]
    }
   ],
   "source": [
    "df.info()"
   ]
  },
  {
   "cell_type": "code",
   "execution_count": 256,
   "id": "efd0383d",
   "metadata": {},
   "outputs": [],
   "source": [
    "df = df.drop(['engine_cylinders', 'franchise_make'], axis=1)\n"
   ]
  },
  {
   "cell_type": "code",
   "execution_count": 257,
   "id": "e0e3661c",
   "metadata": {},
   "outputs": [
    {
     "data": {
      "text/plain": [
       "(286205, 39)"
      ]
     },
     "execution_count": 257,
     "metadata": {},
     "output_type": "execute_result"
    }
   ],
   "source": [
    "df.shape"
   ]
  },
  {
   "cell_type": "code",
   "execution_count": 258,
   "id": "ced5906c",
   "metadata": {},
   "outputs": [
    {
     "data": {
      "text/plain": [
       "(147061, 39)"
      ]
     },
     "execution_count": 258,
     "metadata": {},
     "output_type": "execute_result"
    }
   ],
   "source": [
    "# Dejar solo los datos de los carros usados\n",
    "df = df[df['is_new'] != True]\n",
    "df.shape"
   ]
  },
  {
   "cell_type": "code",
   "execution_count": 259,
   "id": "f8041117",
   "metadata": {},
   "outputs": [],
   "source": [
    "df = df.drop(['is_new'], axis=1)\n"
   ]
  },
  {
   "cell_type": "code",
   "execution_count": 260,
   "id": "9cdfaf0b",
   "metadata": {},
   "outputs": [
    {
     "data": {
      "text/plain": [
       "(147061, 38)"
      ]
     },
     "execution_count": 260,
     "metadata": {},
     "output_type": "execute_result"
    }
   ],
   "source": [
    "df.shape"
   ]
  },
  {
   "cell_type": "markdown",
   "id": "719737eb",
   "metadata": {},
   "source": [
    "### Unir si tiene cámara de reversa, calefaccion en los asientos, etc, en una columna que se llame \"extras\""
   ]
  },
  {
   "cell_type": "code",
   "execution_count": 261,
   "id": "bac9636a",
   "metadata": {},
   "outputs": [],
   "source": [
    "# List of columns to sum\n",
    "columns_to_sum = ['Backup Camera', 'Bluetooth', 'Alloy Wheels', 'Heated Seats', 'Navigation System', \n",
    "                  'Sunroof/Moonroof', 'Remote Start', 'Leather Seats', 'Blind Spot Monitoring', \n",
    "                  'Parking Sensors', 'Adaptive Cruise Control', 'Third Row Seating']\n",
    "\n",
    "# Create new column 'extras' that is the row sum of the specified columns\n",
    "df['extras'] = df[columns_to_sum].sum(axis=1)\n",
    "\n",
    "# Drop original columns\n",
    "df = df.drop(columns=columns_to_sum)\n"
   ]
  },
  {
   "cell_type": "code",
   "execution_count": 262,
   "id": "139a269a",
   "metadata": {
    "scrolled": true
   },
   "outputs": [
    {
     "data": {
      "text/html": [
       "<div>\n",
       "<style scoped>\n",
       "    .dataframe tbody tr th:only-of-type {\n",
       "        vertical-align: middle;\n",
       "    }\n",
       "\n",
       "    .dataframe tbody tr th {\n",
       "        vertical-align: top;\n",
       "    }\n",
       "\n",
       "    .dataframe thead th {\n",
       "        text-align: right;\n",
       "    }\n",
       "</style>\n",
       "<table border=\"1\" class=\"dataframe\">\n",
       "  <thead>\n",
       "    <tr style=\"text-align: right;\">\n",
       "      <th></th>\n",
       "      <th>back_legroom</th>\n",
       "      <th>city_fuel_economy</th>\n",
       "      <th>daysonmarket</th>\n",
       "      <th>engine_displacement</th>\n",
       "      <th>front_legroom</th>\n",
       "      <th>height</th>\n",
       "      <th>horsepower</th>\n",
       "      <th>maximum_seating</th>\n",
       "      <th>mileage</th>\n",
       "      <th>price</th>\n",
       "      <th>seller_rating</th>\n",
       "      <th>torque</th>\n",
       "      <th>wheelbase</th>\n",
       "      <th>width</th>\n",
       "      <th>year</th>\n",
       "      <th>word_count_description</th>\n",
       "      <th>extras</th>\n",
       "    </tr>\n",
       "  </thead>\n",
       "  <tbody>\n",
       "    <tr>\n",
       "      <th>count</th>\n",
       "      <td>137224.000000</td>\n",
       "      <td>143297.000000</td>\n",
       "      <td>147061.000000</td>\n",
       "      <td>146148.000000</td>\n",
       "      <td>140154.000000</td>\n",
       "      <td>140733.000000</td>\n",
       "      <td>141081.000000</td>\n",
       "      <td>140733.000000</td>\n",
       "      <td>145515.000000</td>\n",
       "      <td>147061.000000</td>\n",
       "      <td>144408.000000</td>\n",
       "      <td>141081.000000</td>\n",
       "      <td>140734.000000</td>\n",
       "      <td>140731.000000</td>\n",
       "      <td>147061.000000</td>\n",
       "      <td>147061.000000</td>\n",
       "      <td>147061.000000</td>\n",
       "    </tr>\n",
       "    <tr>\n",
       "      <th>mean</th>\n",
       "      <td>37.554685</td>\n",
       "      <td>21.949071</td>\n",
       "      <td>53.271588</td>\n",
       "      <td>3035.611503</td>\n",
       "      <td>42.246272</td>\n",
       "      <td>65.042720</td>\n",
       "      <td>243.880693</td>\n",
       "      <td>5.468682</td>\n",
       "      <td>58121.333698</td>\n",
       "      <td>21736.518126</td>\n",
       "      <td>4.294684</td>\n",
       "      <td>258.953206</td>\n",
       "      <td>114.187280</td>\n",
       "      <td>77.684848</td>\n",
       "      <td>2015.572715</td>\n",
       "      <td>458.061906</td>\n",
       "      <td>4.500432</td>\n",
       "    </tr>\n",
       "    <tr>\n",
       "      <th>std</th>\n",
       "      <td>2.902069</td>\n",
       "      <td>8.760526</td>\n",
       "      <td>88.547463</td>\n",
       "      <td>1301.218606</td>\n",
       "      <td>1.542933</td>\n",
       "      <td>7.190792</td>\n",
       "      <td>82.802591</td>\n",
       "      <td>1.098719</td>\n",
       "      <td>46227.429969</td>\n",
       "      <td>11561.380403</td>\n",
       "      <td>0.495293</td>\n",
       "      <td>108.366628</td>\n",
       "      <td>13.091046</td>\n",
       "      <td>7.221869</td>\n",
       "      <td>4.588697</td>\n",
       "      <td>262.022967</td>\n",
       "      <td>2.857709</td>\n",
       "    </tr>\n",
       "    <tr>\n",
       "      <th>min</th>\n",
       "      <td>0.000000</td>\n",
       "      <td>8.000000</td>\n",
       "      <td>0.000000</td>\n",
       "      <td>700.000000</td>\n",
       "      <td>29.000000</td>\n",
       "      <td>43.900000</td>\n",
       "      <td>65.000000</td>\n",
       "      <td>2.000000</td>\n",
       "      <td>0.000000</td>\n",
       "      <td>250.000000</td>\n",
       "      <td>1.000000</td>\n",
       "      <td>68.000000</td>\n",
       "      <td>73.500000</td>\n",
       "      <td>61.400000</td>\n",
       "      <td>1915.000000</td>\n",
       "      <td>0.000000</td>\n",
       "      <td>0.000000</td>\n",
       "    </tr>\n",
       "    <tr>\n",
       "      <th>25%</th>\n",
       "      <td>35.800000</td>\n",
       "      <td>17.000000</td>\n",
       "      <td>12.000000</td>\n",
       "      <td>2000.000000</td>\n",
       "      <td>41.200000</td>\n",
       "      <td>57.900000</td>\n",
       "      <td>175.000000</td>\n",
       "      <td>5.000000</td>\n",
       "      <td>25432.500000</td>\n",
       "      <td>13660.000000</td>\n",
       "      <td>4.033333</td>\n",
       "      <td>178.000000</td>\n",
       "      <td>106.300000</td>\n",
       "      <td>72.400000</td>\n",
       "      <td>2014.000000</td>\n",
       "      <td>269.000000</td>\n",
       "      <td>2.000000</td>\n",
       "    </tr>\n",
       "    <tr>\n",
       "      <th>50%</th>\n",
       "      <td>37.900000</td>\n",
       "      <td>21.000000</td>\n",
       "      <td>28.000000</td>\n",
       "      <td>2500.000000</td>\n",
       "      <td>42.000000</td>\n",
       "      <td>66.000000</td>\n",
       "      <td>242.000000</td>\n",
       "      <td>5.000000</td>\n",
       "      <td>41162.000000</td>\n",
       "      <td>19250.000000</td>\n",
       "      <td>4.363636</td>\n",
       "      <td>256.035000</td>\n",
       "      <td>110.500000</td>\n",
       "      <td>75.800000</td>\n",
       "      <td>2017.000000</td>\n",
       "      <td>438.000000</td>\n",
       "      <td>4.000000</td>\n",
       "    </tr>\n",
       "    <tr>\n",
       "      <th>75%</th>\n",
       "      <td>39.400000</td>\n",
       "      <td>25.000000</td>\n",
       "      <td>56.000000</td>\n",
       "      <td>3600.000000</td>\n",
       "      <td>43.000000</td>\n",
       "      <td>69.900000</td>\n",
       "      <td>295.000000</td>\n",
       "      <td>6.000000</td>\n",
       "      <td>83343.000000</td>\n",
       "      <td>28000.000000</td>\n",
       "      <td>4.631579</td>\n",
       "      <td>281.000000</td>\n",
       "      <td>116.100000</td>\n",
       "      <td>81.800000</td>\n",
       "      <td>2018.000000</td>\n",
       "      <td>623.000000</td>\n",
       "      <td>7.000000</td>\n",
       "    </tr>\n",
       "    <tr>\n",
       "      <th>max</th>\n",
       "      <td>59.800000</td>\n",
       "      <td>127.000000</td>\n",
       "      <td>2915.000000</td>\n",
       "      <td>8300.000000</td>\n",
       "      <td>67.000000</td>\n",
       "      <td>117.600000</td>\n",
       "      <td>707.000000</td>\n",
       "      <td>15.000000</td>\n",
       "      <td>388017.000000</td>\n",
       "      <td>67142.000000</td>\n",
       "      <td>5.000000</td>\n",
       "      <td>935.000000</td>\n",
       "      <td>201.000000</td>\n",
       "      <td>106.000000</td>\n",
       "      <td>2021.000000</td>\n",
       "      <td>2221.000000</td>\n",
       "      <td>12.000000</td>\n",
       "    </tr>\n",
       "  </tbody>\n",
       "</table>\n",
       "</div>"
      ],
      "text/plain": [
       "        back_legroom  city_fuel_economy   daysonmarket  engine_displacement  \\\n",
       "count  137224.000000      143297.000000  147061.000000        146148.000000   \n",
       "mean       37.554685          21.949071      53.271588          3035.611503   \n",
       "std         2.902069           8.760526      88.547463          1301.218606   \n",
       "min         0.000000           8.000000       0.000000           700.000000   \n",
       "25%        35.800000          17.000000      12.000000          2000.000000   \n",
       "50%        37.900000          21.000000      28.000000          2500.000000   \n",
       "75%        39.400000          25.000000      56.000000          3600.000000   \n",
       "max        59.800000         127.000000    2915.000000          8300.000000   \n",
       "\n",
       "       front_legroom         height     horsepower  maximum_seating  \\\n",
       "count  140154.000000  140733.000000  141081.000000    140733.000000   \n",
       "mean       42.246272      65.042720     243.880693         5.468682   \n",
       "std         1.542933       7.190792      82.802591         1.098719   \n",
       "min        29.000000      43.900000      65.000000         2.000000   \n",
       "25%        41.200000      57.900000     175.000000         5.000000   \n",
       "50%        42.000000      66.000000     242.000000         5.000000   \n",
       "75%        43.000000      69.900000     295.000000         6.000000   \n",
       "max        67.000000     117.600000     707.000000        15.000000   \n",
       "\n",
       "             mileage          price  seller_rating         torque  \\\n",
       "count  145515.000000  147061.000000  144408.000000  141081.000000   \n",
       "mean    58121.333698   21736.518126       4.294684     258.953206   \n",
       "std     46227.429969   11561.380403       0.495293     108.366628   \n",
       "min         0.000000     250.000000       1.000000      68.000000   \n",
       "25%     25432.500000   13660.000000       4.033333     178.000000   \n",
       "50%     41162.000000   19250.000000       4.363636     256.035000   \n",
       "75%     83343.000000   28000.000000       4.631579     281.000000   \n",
       "max    388017.000000   67142.000000       5.000000     935.000000   \n",
       "\n",
       "           wheelbase          width           year  word_count_description  \\\n",
       "count  140734.000000  140731.000000  147061.000000           147061.000000   \n",
       "mean      114.187280      77.684848    2015.572715              458.061906   \n",
       "std        13.091046       7.221869       4.588697              262.022967   \n",
       "min        73.500000      61.400000    1915.000000                0.000000   \n",
       "25%       106.300000      72.400000    2014.000000              269.000000   \n",
       "50%       110.500000      75.800000    2017.000000              438.000000   \n",
       "75%       116.100000      81.800000    2018.000000              623.000000   \n",
       "max       201.000000     106.000000    2021.000000             2221.000000   \n",
       "\n",
       "              extras  \n",
       "count  147061.000000  \n",
       "mean        4.500432  \n",
       "std         2.857709  \n",
       "min         0.000000  \n",
       "25%         2.000000  \n",
       "50%         4.000000  \n",
       "75%         7.000000  \n",
       "max        12.000000  "
      ]
     },
     "execution_count": 262,
     "metadata": {},
     "output_type": "execute_result"
    }
   ],
   "source": [
    "df.describe()"
   ]
  },
  {
   "cell_type": "code",
   "execution_count": 263,
   "id": "b6ae859e",
   "metadata": {
    "scrolled": false
   },
   "outputs": [
    {
     "data": {
      "image/png": "[encoded data removed]",
      "text/plain": [
       "<Figure size 720x720 with 2 Axes>"
      ]
     },
     "metadata": {
      "needs_background": "light"
     },
     "output_type": "display_data"
    }
   ],
   "source": [
    "# Ver la matriz de correlación\n",
    "\n",
    "numerical_features = [\"back_legroom\", \"city_fuel_economy\",\n",
    "                     \"daysonmarket\", \"engine_displacement\", \"front_legroom\", \"height\",\n",
    "                     \"horsepower\",'maximum_seating', \"mileage\",\n",
    "                     \"price\",\"seller_rating\",\"torque\", \"wheelbase\",\n",
    "                     \"width\",'year','extras','word_count_description']\n",
    "\n",
    "corr_matrix = df[numerical_features].corr()\n",
    "\n",
    "# Filtar las variables con correlación abosulta de menos del 10%\n",
    "high_corr = corr_matrix[(corr_matrix > 0.10) | (corr_matrix < -0.10)]\n",
    "\n",
    "# Filtrar la parte superior de la matriz\n",
    "mask = np.triu(np.ones_like(high_corr, dtype=bool))\n",
    "\n",
    "# Establecer los márgenes del gráfico\n",
    "f, ax = plt.subplots(figsize=(10, 10))\n",
    "\n",
    "# Dibujar el mapa de calor\n",
    "sns.heatmap(high_corr, mask=mask, cmap='viridis', vmax=1, vmin=-1, center=0,\n",
    "            square=True, linewidths=.5, annot=True, fmt=\".2f\", cbar_kws={\"shrink\": .5})\n",
    "\n",
    "# Títulos y ejes\n",
    "plt.title('Correlation Plot for High Correlation Features', size=18)\n",
    "plt.xticks(fontsize=11)\n",
    "plt.yticks(fontsize=11)\n",
    "\n",
    "# Guardar la figura\n",
    "plt.savefig('correlation_plot.png', dpi=300, bbox_inches='tight')\n",
    "\n",
    "plt.show()"
   ]
  },
  {
   "cell_type": "markdown",
   "id": "f5120192",
   "metadata": {},
   "source": [
    "### Porcentaje de datos por fuera del rango intercuartil"
   ]
  },
  {
   "cell_type": "code",
   "execution_count": 264,
   "id": "1ab75f2c",
   "metadata": {},
   "outputs": [
    {
     "name": "stdout",
     "output_type": "stream",
     "text": [
      "back_legroom: 2.05%\n",
      "city_fuel_economy: 2.21%\n",
      "daysonmarket: 9.02%\n",
      "engine_displacement: 4.09%\n",
      "front_legroom: 0.87%\n",
      "height: 0.15%\n",
      "horsepower: 0.25%\n",
      "maximum_seating: 8.77%\n",
      "mileage: 2.82%\n",
      "price: 2.57%\n",
      "seller_rating: 2.70%\n",
      "torque: 4.73%\n",
      "wheelbase: 11.09%\n",
      "width: 3.78%\n",
      "year: 5.44%\n",
      "extras: 0.00%\n",
      "word_count_description: 1.17%\n"
     ]
    }
   ],
   "source": [
    "# Crear un diccionario para los resultados\n",
    "outliers_percentage = {}\n",
    "\n",
    "for feature in numerical_features:\n",
    "    # CCalcular el rango intercuartil\n",
    "    Q1 = df[feature].quantile(0.25)\n",
    "    Q3 = df[feature].quantile(0.75)\n",
    "    IQR = Q3 - Q1\n",
    "\n",
    "    # Determinar el número de outliers\n",
    "    num_outliers = ((df[feature] < (Q1 - 1.5 * IQR)) | (df[feature] > (Q3 + 1.5 * IQR))).sum()\n",
    "\n",
    "    # Determinar el porcentaje\n",
    "    outliers_percentage[feature] = num_outliers / df.shape[0] * 100\n",
    "\n",
    "# Ver el resultado\n",
    "for feature, percentage in outliers_percentage.items():\n",
    "    print(f'{feature}: {percentage:.2f}%')"
   ]
  },
  {
   "cell_type": "markdown",
   "id": "225d2b0b",
   "metadata": {},
   "source": [
    "# Para evitar alta dimensionalidad, solo tomar los labels que se repiten más del 1% de las veces en cada categoría, agrupando el resto en \"otros\""
   ]
  },
  {
   "cell_type": "markdown",
   "id": "926ab670",
   "metadata": {},
   "source": [
    "### Primero vemos cuántas etiquetas tiene cada categoría y cuál es el porcentaje de la que más se repite y de la que menos se repite"
   ]
  },
  {
   "cell_type": "code",
   "execution_count": 265,
   "id": "afb75760",
   "metadata": {},
   "outputs": [
    {
     "name": "stdout",
     "output_type": "stream",
     "text": [
      "city:\n",
      "  Unique count: 4281\n",
      "  Most frequent category: Houston (1.39%)\n",
      "  Least frequent category: Fern Park (0.00%)\n",
      "\n",
      "model_name:\n",
      "  Unique count: 936\n",
      "  Most frequent category: F-150 (3.27%)\n",
      "  Least frequent category: Marauder (0.00%)\n",
      "\n",
      "make_name:\n",
      "  Unique count: 66\n",
      "  Most frequent category: Ford (14.47%)\n",
      "  Least frequent category: Austin-Healey (0.00%)\n",
      "\n",
      "body_type:\n",
      "  Unique count: 9\n",
      "  Most frequent category: SUV / Crossover (43.37%)\n",
      "  Least frequent category: Van (0.88%)\n",
      "\n",
      "fuel_type:\n",
      "  Unique count: 8\n",
      "  Most frequent category: Gasoline (88.97%)\n",
      "  Least frequent category: Propane (0.00%)\n",
      "\n",
      "listing_color:\n",
      "  Unique count: 15\n",
      "  Most frequent category: WHITE (21.84%)\n",
      "  Least frequent category: PINK (0.01%)\n",
      "\n",
      "transmission:\n",
      "  Unique count: 4\n",
      "  Most frequent category: A (84.41%)\n",
      "  Least frequent category: Dual Clutch (0.41%)\n",
      "\n",
      "wheel_system_display:\n",
      "  Unique count: 5\n",
      "  Most frequent category: Front-Wheel Drive (45.79%)\n",
      "  Least frequent category: 4X2 (3.73%)\n",
      "\n",
      "engine_type:\n",
      "  Unique count: 34\n",
      "  Most frequent category: I4 (47.62%)\n",
      "  Least frequent category: W12 Flex Fuel Vehicle (0.00%)\n",
      "\n"
     ]
    }
   ],
   "source": [
    "# Lista de features categóricos a reducir\n",
    "categorical_features = ['city', 'model_name', 'make_name', 'body_type','fuel_type',\n",
    "                        'listing_color','transmission', 'wheel_system_display','engine_type']\n",
    "\n",
    "# Crear el diccionario para guardar el resultado\n",
    "results = {}\n",
    "\n",
    "for feature in categorical_features:\n",
    "    # Calcular el número de valores únicos\n",
    "    unique_count = df[feature].nunique()\n",
    "\n",
    "    # Calcualar el conteo para cada categoría\n",
    "    value_counts = df[feature].value_counts(normalize=True)\n",
    "\n",
    "    # Escoger la etuqueta más y menor frecuente\n",
    "    most_freq_category = value_counts.idxmax()\n",
    "    most_freq_percentage = value_counts.max() * 100\n",
    "\n",
    "    least_freq_category = value_counts.idxmin()\n",
    "    least_freq_percentage = value_counts.min() * 100\n",
    "\n",
    "    # guardar los resultados en el diccionario\n",
    "    results[feature] = {\n",
    "        'unique_count': unique_count,\n",
    "        'most_freq_category': most_freq_category,\n",
    "        'most_freq_percentage': most_freq_percentage,\n",
    "        'least_freq_category': least_freq_category,\n",
    "        'least_freq_percentage': least_freq_percentage\n",
    "    }\n",
    "\n",
    "# Ver los resultados\n",
    "for feature, result in results.items():\n",
    "    print(f\"{feature}:\")\n",
    "    print(f\"  Unique count: {result['unique_count']}\")\n",
    "    print(f\"  Most frequent category: {result['most_freq_category']} ({result['most_freq_percentage']:.2f}%)\")\n",
    "    print(f\"  Least frequent category: {result['least_freq_category']} ({result['least_freq_percentage']:.2f}%)\")\n",
    "    print()\n"
   ]
  },
  {
   "cell_type": "markdown",
   "id": "cfb0c098",
   "metadata": {},
   "source": [
    "### Luego, procedemos a agrupar las que se repite menos del 1% en la categoría \"otros\""
   ]
  },
  {
   "cell_type": "code",
   "execution_count": 247,
   "id": "ad769cfb",
   "metadata": {},
   "outputs": [],
   "source": [
    "def replace_rare_categories(df, columns, threshold=0.01):\n",
    "    for col in columns:\n",
    "        freq = df[col].value_counts(normalize=True)\n",
    "        rare_labels = freq[freq <= threshold].index\n",
    "        df[col] = df[col].apply(lambda x: 'Other' if x in rare_labels else x)\n",
    "    return df\n",
    "\n",
    "# usage\n",
    "df_replaced = replace_rare_categories(df, ['city', 'model_name', 'make_name',\n",
    "                                           'body_type','fuel_type',\n",
    "                                           'listing_color','transmission',\n",
    "                                           'wheel_system_display','engine_type'])\n"
   ]
  },
  {
   "cell_type": "code",
   "execution_count": 217,
   "id": "b7e8b97b",
   "metadata": {},
   "outputs": [
    {
     "data": {
      "text/plain": [
       "(147061, 27)"
      ]
     },
     "execution_count": 217,
     "metadata": {},
     "output_type": "execute_result"
    }
   ],
   "source": [
    "df_replaced.shape"
   ]
  },
  {
   "cell_type": "code",
   "execution_count": 218,
   "id": "210f20f6",
   "metadata": {},
   "outputs": [],
   "source": [
    "#Exportar sin encoded para el sistema de recomendación\n",
    "df_replaced.to_csv('cars_data_no_encoded.csv', index=False)"
   ]
  },
  {
   "cell_type": "code",
   "execution_count": 200,
   "id": "fd5abdeb",
   "metadata": {},
   "outputs": [],
   "source": [
    "df_encoded = pd.get_dummies(df_replaced, columns=['city', 'model_name', 'make_name',\n",
    "                                           'body_type','fuel_type',\n",
    "                                           'listing_color','transmission',\n",
    "                                           'wheel_system_display','engine_type'], drop_first=True)\n"
   ]
  },
  {
   "cell_type": "code",
   "execution_count": 201,
   "id": "b838cdac",
   "metadata": {},
   "outputs": [
    {
     "data": {
      "text/plain": [
       "(147061, 99)"
      ]
     },
     "execution_count": 201,
     "metadata": {},
     "output_type": "execute_result"
    }
   ],
   "source": [
    "df_encoded.shape"
   ]
  },
  {
   "cell_type": "code",
   "execution_count": 202,
   "id": "d1c3d688",
   "metadata": {},
   "outputs": [
    {
     "data": {
      "text/plain": [
       "Index(['back_legroom', 'city_fuel_economy', 'daysonmarket',\n",
       "       'engine_displacement', 'franchise_dealer', 'front_legroom', 'height',\n",
       "       'horsepower', 'maximum_seating', 'mileage', 'price', 'seller_rating',\n",
       "       'torque', 'wheelbase', 'width', 'year', 'word_count_description',\n",
       "       'extras', 'city_Other', 'model_name_Accord', 'model_name_Altima',\n",
       "       'model_name_CR-V', 'model_name_Camry', 'model_name_Civic',\n",
       "       'model_name_Corolla', 'model_name_Edge', 'model_name_Elantra',\n",
       "       'model_name_Equinox', 'model_name_Escape', 'model_name_Explorer',\n",
       "       'model_name_F-150', 'model_name_Fusion', 'model_name_Grand Caravan',\n",
       "       'model_name_Grand Cherokee', 'model_name_Malibu', 'model_name_Other',\n",
       "       'model_name_RAV4', 'model_name_Rogue', 'model_name_Sentra',\n",
       "       'model_name_Silverado 1500', 'make_name_Audi', 'make_name_BMW',\n",
       "       'make_name_Buick', 'make_name_Cadillac', 'make_name_Chevrolet',\n",
       "       'make_name_Chrysler', 'make_name_Dodge', 'make_name_Ford',\n",
       "       'make_name_GMC', 'make_name_Honda', 'make_name_Hyundai',\n",
       "       'make_name_INFINITI', 'make_name_Jeep', 'make_name_Kia',\n",
       "       'make_name_Lexus', 'make_name_Lincoln', 'make_name_Mazda',\n",
       "       'make_name_Mercedes-Benz', 'make_name_Nissan', 'make_name_Other',\n",
       "       'make_name_RAM', 'make_name_Subaru', 'make_name_Toyota',\n",
       "       'make_name_Volkswagen', 'body_type_Coupe', 'body_type_Hatchback',\n",
       "       'body_type_Minivan', 'body_type_Other', 'body_type_Pickup Truck',\n",
       "       'body_type_SUV / Crossover', 'body_type_Sedan', 'body_type_Wagon',\n",
       "       'fuel_type_Flex Fuel Vehicle', 'fuel_type_Gasoline', 'fuel_type_Hybrid',\n",
       "       'fuel_type_Other', 'listing_color_BLUE', 'listing_color_BROWN',\n",
       "       'listing_color_GRAY', 'listing_color_Other', 'listing_color_RED',\n",
       "       'listing_color_SILVER', 'listing_color_UNKNOWN', 'listing_color_WHITE',\n",
       "       'transmission_CVT', 'transmission_M', 'transmission_Other',\n",
       "       'wheel_system_display_All-Wheel Drive',\n",
       "       'wheel_system_display_Four-Wheel Drive',\n",
       "       'wheel_system_display_Front-Wheel Drive',\n",
       "       'wheel_system_display_Rear-Wheel Drive', 'engine_type_I4',\n",
       "       'engine_type_I4 Hybrid', 'engine_type_I6', 'engine_type_Other',\n",
       "       'engine_type_V6', 'engine_type_V6 Flex Fuel Vehicle', 'engine_type_V8',\n",
       "       'engine_type_V8 Flex Fuel Vehicle'],\n",
       "      dtype='object')"
      ]
     },
     "execution_count": 202,
     "metadata": {},
     "output_type": "execute_result"
    }
   ],
   "source": [
    "df_encoded.columns"
   ]
  },
  {
   "cell_type": "code",
   "execution_count": 203,
   "id": "d2b22363",
   "metadata": {},
   "outputs": [
    {
     "name": "stdout",
     "output_type": "stream",
     "text": [
      "Other             0.674863\n",
      "F-150             0.032660\n",
      "Silverado 1500    0.022848\n",
      "Escape            0.020046\n",
      "Equinox           0.019244\n",
      "1500              0.017544\n",
      "Rogue             0.016721\n",
      "Camry             0.016463\n",
      "Corolla           0.016102\n",
      "Explorer          0.015449\n",
      "Grand Cherokee    0.014667\n",
      "Altima            0.014205\n",
      "Accord            0.013668\n",
      "CR-V              0.013131\n",
      "Malibu            0.012784\n",
      "Fusion            0.012614\n",
      "RAV4              0.012097\n",
      "Civic             0.011777\n",
      "Sentra            0.011356\n",
      "Grand Caravan     0.011104\n",
      "Edge              0.010608\n",
      "Elantra           0.010050\n",
      "Name: model_name, dtype: float64\n"
     ]
    }
   ],
   "source": [
    "relative_freq = df['model_name'].value_counts(normalize=True)\n",
    "print(relative_freq)"
   ]
  },
  {
   "cell_type": "code",
   "execution_count": 204,
   "id": "1647f901",
   "metadata": {},
   "outputs": [
    {
     "data": {
      "text/plain": [
       "(130963, 99)"
      ]
     },
     "execution_count": 204,
     "metadata": {},
     "output_type": "execute_result"
    }
   ],
   "source": [
    "df_encoded = df_encoded.dropna()\n",
    "df_encoded.shape"
   ]
  },
  {
   "cell_type": "code",
   "execution_count": 205,
   "id": "3200844c",
   "metadata": {},
   "outputs": [],
   "source": [
    "df_encoded.to_csv('cars_data_encoded.csv', index=False)"
   ]
  },
  {
   "cell_type": "code",
   "execution_count": 206,
   "id": "04082239",
   "metadata": {},
   "outputs": [],
   "source": [
    "df=df_encoded.copy()"
   ]
  },
  {
   "cell_type": "markdown",
   "id": "195eac71",
   "metadata": {},
   "source": [
    "# Modelos de Machine learning "
   ]
  },
  {
   "cell_type": "code",
   "execution_count": 207,
   "id": "df4135be",
   "metadata": {},
   "outputs": [],
   "source": [
    "from sklearn.model_selection import train_test_split\n",
    "\n",
    "X = df.drop('price', axis=1)  # Assuming 'price' is your target variable\n",
    "y = df['price']\n",
    "\n",
    "X_train, X_test, y_train, y_test = train_test_split(X, y, test_size=0.2, random_state=42)\n"
   ]
  },
  {
   "cell_type": "markdown",
   "id": "4be862e8",
   "metadata": {},
   "source": [
    "### Linear Regression"
   ]
  },
  {
   "cell_type": "code",
   "execution_count": 208,
   "id": "18c00c02",
   "metadata": {},
   "outputs": [
    {
     "data": {
      "text/plain": [
       "Ridge()"
      ]
     },
     "execution_count": 208,
     "metadata": {},
     "output_type": "execute_result"
    }
   ],
   "source": [
    "from sklearn.compose import ColumnTransformer\n",
    "from sklearn.preprocessing import StandardScaler\n",
    "\n",
    "# Replace 'continuous_feature_cols' with a list of column names or indices of the continuous features\n",
    "continuous_feature_cols = ['back_legroom', 'city_fuel_economy',\n",
    "                           'daysonmarket','engine_displacement','front_legroom','height',\n",
    "                          'horsepower','maximum_seating','mileage','seller_rating','torque',\n",
    "                          'wheelbase','width','year','word_count_description','extras']\n",
    "\n",
    "# Create a ColumnTransformer that applies StandardScaler to the continuous features only\n",
    "preprocessor = ColumnTransformer(transformers=[\n",
    "    ('num', StandardScaler(), continuous_feature_cols)\n",
    "], remainder='passthrough')\n",
    "\n",
    "# Fit and transform the training data\n",
    "X_train_scaled = preprocessor.fit_transform(X_train)\n",
    "\n",
    "# Transform the test data\n",
    "X_test_scaled = preprocessor.transform(X_test)\n",
    "\n",
    "# Now you can use the scaled data to fit your Ridge regression model (L2 Regularization)\n",
    "ridge = Ridge(alpha=1.0)\n",
    "ridge.fit(X_train_scaled, y_train)"
   ]
  },
  {
   "cell_type": "code",
   "execution_count": 209,
   "id": "2d3bf7b0",
   "metadata": {},
   "outputs": [
    {
     "name": "stdout",
     "output_type": "stream",
     "text": [
      "Ridge Regression CV RMSE: 4141.768689626309\n",
      "Ridge Regression Train RMSE: 4136.515254531641, Train MAPE: 19.773308880349315%\n",
      "Ridge Regression Test RMSE: 4152.190810487826, Test MAPE: 20.076029672469968%\n"
     ]
    }
   ],
   "source": [
    "from sklearn.linear_model import Ridge\n",
    "from sklearn.model_selection import cross_val_score\n",
    "from sklearn.metrics import mean_squared_error, mean_absolute_error\n",
    "import numpy as np\n",
    "\n",
    "# Cross validation\n",
    "scores = cross_val_score(ridge, X_train_scaled, y_train, cv=5, scoring='neg_mean_squared_error')\n",
    "print(f'Ridge Regression CV RMSE: {np.sqrt(-scores.mean())}') \n"
   ]
  },
  {
   "cell_type": "code",
   "execution_count": 268,
   "id": "928c425e",
   "metadata": {},
   "outputs": [
    {
     "name": "stdout",
     "output_type": "stream",
     "text": [
      "Ridge Regression Train RMSE: 4136.515254531641, Train MAPE: 19.773308880349315%, Train R-squared: 0.8578332772064429\n",
      "Ridge Regression Test RMSE: 4152.190810487826, Test MAPE: 20.076029672469968%, Test R-squared: 0.8572168801819473\n"
     ]
    }
   ],
   "source": [
    "# RMSE, MAPE & R-squared on Train\n",
    "from sklearn.metrics import r2_score\n",
    "\n",
    "y_train_pred = ridge.predict(X_train_scaled)\n",
    "rmse_train = np.sqrt(mean_squared_error(y_train, y_train_pred))\n",
    "mape_train = np.mean(np.abs((y_train - y_train_pred) / y_train)) * 100\n",
    "r2_train = r2_score(y_train, y_train_pred)\n",
    "print(f'Ridge Regression Train RMSE: {rmse_train}, Train MAPE: {mape_train}%, Train R-squared: {r2_train}')\n",
    "\n",
    "# RMSE, MAPE & R-squared on Test\n",
    "y_test_pred = ridge.predict(X_test_scaled)\n",
    "rmse_test = np.sqrt(mean_squared_error(y_test, y_test_pred))\n",
    "mape_test = np.mean(np.abs((y_test - y_test_pred) / y_test)) * 100\n",
    "r2_test = r2_score(y_test, y_test_pred)\n",
    "print(f'Ridge Regression Test RMSE: {rmse_test}, Test MAPE: {mape_test}%, Test R-squared: {r2_test}')"
   ]
  },
  {
   "cell_type": "code",
   "execution_count": 266,
   "id": "2f2c0dce",
   "metadata": {
    "scrolled": false
   },
   "outputs": [
    {
     "data": {
      "image/png": "[encoded data removed]",
      "text/plain": [
       "<Figure size 720x720 with 1 Axes>"
      ]
     },
     "metadata": {
      "needs_background": "light"
     },
     "output_type": "display_data"
    }
   ],
   "source": [
    "# For Ridge Regression\n",
    "coefficients = ridge.coef_\n",
    "indices = np.argsort(np.abs(coefficients))[-15:]  # Get indices of top 15 features\n",
    "\n",
    "plt.figure(figsize=(10,10))\n",
    "plt.title('Feature Importance (Ridge Regression)')\n",
    "plt.barh(range(len(indices)), np.abs(coefficients[indices]), color='b', align='center')\n",
    "plt.yticks(range(len(indices)), [X_train.columns[i] for i in indices])\n",
    "plt.xlabel('Absolute Coefficient Value')\n",
    "plt.show()\n"
   ]
  },
  {
   "cell_type": "markdown",
   "id": "0b5c12eb",
   "metadata": {},
   "source": [
    "# Random Forest"
   ]
  },
  {
   "cell_type": "code",
   "execution_count": 211,
   "id": "14e42375",
   "metadata": {},
   "outputs": [
    {
     "name": "stdout",
     "output_type": "stream",
     "text": [
      "Random Forest CV RMSE: 2855.7571743454964\n",
      "Random Forest Train RMSE: 2672.6269443603337, Train MAPE: 11.036658197904515%\n",
      "Random Forest Test RMSE: 2829.246487105499, Test MAPE: 11.743698398997925%\n"
     ]
    }
   ],
   "source": [
    "from sklearn.ensemble import RandomForestRegressor\n",
    "import matplotlib.pyplot as plt\n",
    "\n",
    "rf = RandomForestRegressor(n_estimators=300, random_state=42,max_depth=14,n_jobs=-1,\n",
    "                           min_samples_split=6,min_samples_leaf=4,max_features=\"sqrt\")\n",
    "rf.fit(X_train, y_train)\n",
    "\n",
    "# Cross validation\n",
    "scores = cross_val_score(rf, X_train, y_train, cv=5, scoring='neg_mean_squared_error')\n",
    "print(f'Random Forest CV RMSE: {np.sqrt(-scores.mean())}') "
   ]
  },
  {
   "cell_type": "code",
   "execution_count": 269,
   "id": "74406c9e",
   "metadata": {},
   "outputs": [
    {
     "name": "stdout",
     "output_type": "stream",
     "text": [
      "Random Forest Train RMSE: 2672.6269443603337, Train MAPE: 11.036658197904515%, Train R-squared: 0.940652097203093\n",
      "Random Forest Test RMSE: 2829.2464871054995, Test MAPE: 11.743698398997921%, Test R-squared: 0.9337075863117351\n"
     ]
    }
   ],
   "source": [
    "# RMSE, MAPE & R-squared on Train\n",
    "y_train_pred = rf.predict(X_train)\n",
    "rmse_train = np.sqrt(mean_squared_error(y_train, y_train_pred))\n",
    "mape_train = np.mean(np.abs((y_train - y_train_pred) / y_train)) * 100\n",
    "r2_train = r2_score(y_train, y_train_pred)\n",
    "print(f'Random Forest Train RMSE: {rmse_train}, Train MAPE: {mape_train}%, Train R-squared: {r2_train}')\n",
    "\n",
    "# RMSE, MAPE & R-squared on Test\n",
    "y_test_pred = rf.predict(X_test)\n",
    "rmse_test = np.sqrt(mean_squared_error(y_test, y_test_pred))\n",
    "mape_test = np.mean(np.abs((y_test - y_test_pred) / y_test)) * 100\n",
    "r2_test = r2_score(y_test, y_test_pred)\n",
    "print(f'Random Forest Test RMSE: {rmse_test}, Test MAPE: {mape_test}%, Test R-squared: {r2_test}')\n"
   ]
  },
  {
   "cell_type": "code",
   "execution_count": 213,
   "id": "52f7a8a5",
   "metadata": {},
   "outputs": [
    {
     "data": {
      "image/png": "[encoded data removed]",
      "text/plain": [
       "<Figure size 720x720 with 1 Axes>"
      ]
     },
     "metadata": {
      "needs_background": "light"
     },
     "output_type": "display_data"
    }
   ],
   "source": [
    "# Plot top 15 features \n",
    "importances = rf.feature_importances_\n",
    "indices = np.argsort(importances)[-15:]  # Get indices of top 15 features\n",
    "\n",
    "plt.figure(figsize=(10,10))\n",
    "plt.title('Feature Importances')\n",
    "plt.barh(range(len(indices)), importances[indices], color='b', align='center')\n",
    "plt.yticks(range(len(indices)), [X_train.columns[i] for i in indices])\n",
    "plt.xlabel('Relative Importance')\n",
    "plt.show()\n"
   ]
  },
  {
   "cell_type": "markdown",
   "id": "ad625f4e",
   "metadata": {},
   "source": [
    "### AdaBoost"
   ]
  },
  {
   "cell_type": "code",
   "execution_count": 175,
   "id": "458ba2d6",
   "metadata": {},
   "outputs": [
    {
     "name": "stdout",
     "output_type": "stream",
     "text": [
      "AdaBoost CV RMSE: 7525.83251196227\n",
      "AdaBoost Train RMSE: 7694.337836307602, Train MAPE: 37.22842779097852%\n",
      "AdaBoost Test RMSE: 7701.829696887573, Test MAPE: 37.38488249245499%\n"
     ]
    }
   ],
   "source": [
    "from sklearn.ensemble import AdaBoostRegressor\n",
    "\n",
    "ada = AdaBoostRegressor(n_estimators=250, random_state=42)\n",
    "ada.fit(X_train, y_train)\n",
    "\n",
    "# Cross validation\n",
    "scores = cross_val_score(ada, X_train, y_train, cv=5, scoring='neg_mean_squared_error')\n",
    "print(f'AdaBoost CV RMSE: {np.sqrt(-scores.mean())}') \n",
    "\n",
    "# RMSE & MAPE on Train\n",
    "y_train_pred = ada.predict(X_train)\n",
    "rmse_train = np.sqrt(mean_squared_error(y_train, y_train_pred))\n",
    "mape_train = np.mean(np.abs((y_train - y_train_pred) / y_train)) * 100\n",
    "print(f'AdaBoost Train RMSE: {rmse_train}, Train MAPE: {mape_train}%')\n",
    "\n",
    "# RMSE & MAPE on Test\n",
    "y_test_pred = ada.predict(X_test)\n",
    "rmse_test = np.sqrt(mean_squared_error(y_test, y_test_pred))\n",
    "mape_test = np.mean(np.abs((y_test - y_test_pred) / y_test)) * 100\n",
    "print(f'AdaBoost Test RMSE: {rmse_test}, Test MAPE: {mape_test}%')\n"
   ]
  },
  {
   "cell_type": "code",
   "execution_count": 179,
   "id": "7152df51",
   "metadata": {},
   "outputs": [
    {
     "data": {
      "image/png": "[encoded data removed]",
      "text/plain": [
       "<Figure size 720x720 with 1 Axes>"
      ]
     },
     "metadata": {
      "needs_background": "light"
     },
     "output_type": "display_data"
    }
   ],
   "source": [
    "# Plot top 15 features \n",
    "importances = ada.feature_importances_\n",
    "indices = np.argsort(importances)[-15:]  # Get indices of top 15 features\n",
    "plt.figure(figsize=(10,10))\n",
    "plt.title('Feature Importances')\n",
    "plt.barh(range(len(indices)), importances[indices], color='b', align='center')\n",
    "plt.yticks(range(len(indices)), [X_train.columns[i] for i in indices])\n",
    "plt.xlabel('Relative Importance')\n",
    "plt.show()\n"
   ]
  },
  {
   "cell_type": "markdown",
   "id": "bd5c958b",
   "metadata": {},
   "source": [
    "### Gradient Boosting Regressor"
   ]
  },
  {
   "cell_type": "code",
   "execution_count": 214,
   "id": "41769db9",
   "metadata": {},
   "outputs": [
    {
     "name": "stdout",
     "output_type": "stream",
     "text": [
      "Gradient Boosting CV RMSE: 2933.422601468429\n",
      "Gradient Boosting Train RMSE: 2903.8291463940272, Train MAPE: 11.273836072292244%\n",
      "Gradient Boosting Test RMSE: 2909.183171113783, Test MAPE: 11.296176736071782%\n"
     ]
    }
   ],
   "source": [
    "from sklearn.ensemble import GradientBoostingRegressor\n",
    "\n",
    "# Initialize GradientBoostingRegressor\n",
    "gbr = GradientBoostingRegressor(n_estimators=250, random_state=42,max_features=\"sqrt\")\n",
    "\n",
    "# Fit the model\n",
    "gbr.fit(X_train, y_train)\n",
    "\n",
    "# Cross validation\n",
    "scores = cross_val_score(gbr, X_train, y_train, cv=5, scoring='neg_mean_squared_error')\n",
    "print(f'Gradient Boosting CV RMSE: {np.sqrt(-scores.mean())}') "
   ]
  },
  {
   "cell_type": "code",
   "execution_count": 270,
   "id": "efdd2d7a",
   "metadata": {},
   "outputs": [
    {
     "name": "stdout",
     "output_type": "stream",
     "text": [
      "Gradient Boosting Train RMSE: 2903.8291463940272, Train MAPE: 11.273836072292244%, Train R-squared: 0.9299398904874118\n",
      "Gradient Boosting Test RMSE: 2909.183171113783, Test MAPE: 11.296176736071782%, Test R-squared: 0.9299086549035724\n"
     ]
    }
   ],
   "source": [
    "# RMSE, MAPE & R-squared on Train\n",
    "y_train_pred = gbr.predict(X_train)\n",
    "rmse_train = np.sqrt(mean_squared_error(y_train, y_train_pred))\n",
    "mape_train = np.mean(np.abs((y_train - y_train_pred) / y_train)) * 100\n",
    "r2_train = r2_score(y_train, y_train_pred)\n",
    "print(f'Gradient Boosting Train RMSE: {rmse_train}, Train MAPE: {mape_train}%, Train R-squared: {r2_train}')\n",
    "\n",
    "# RMSE, MAPE & R-squared on Test\n",
    "y_test_pred = gbr.predict(X_test)\n",
    "rmse_test = np.sqrt(mean_squared_error(y_test, y_test_pred))\n",
    "mape_test = np.mean(np.abs((y_test - y_test_pred) / y_test)) * 100\n",
    "r2_test = r2_score(y_test, y_test_pred)\n",
    "print(f'Gradient Boosting Test RMSE: {rmse_test}, Test MAPE: {mape_test}%, Test R-squared: {r2_test}')"
   ]
  },
  {
   "cell_type": "code",
   "execution_count": 215,
   "id": "9ddd77b6",
   "metadata": {},
   "outputs": [
    {
     "data": {
      "image/png": "[encoded data removed]",
      "text/plain": [
       "<Figure size 720x720 with 1 Axes>"
      ]
     },
     "metadata": {
      "needs_background": "light"
     },
     "output_type": "display_data"
    }
   ],
   "source": [
    "# Plot feature importance\n",
    "importances = gbr.feature_importances_\n",
    "indices = np.argsort(importances)[-15:]  # Get indices of top 15 features\n",
    "\n",
    "plt.figure(figsize=(10,10))\n",
    "plt.title('Feature Importances')\n",
    "plt.barh(range(len(indices)), importances[indices], color='b', align='center')\n",
    "plt.yticks(range(len(indices)), [X_train.columns[i] for i in indices])\n",
    "plt.xlabel('Relative Importance')\n",
    "plt.show()"
   ]
  },
  {
   "cell_type": "code",
   "execution_count": null,
   "id": "858e0be0",
   "metadata": {},
   "outputs": [],
   "source": []
  }
 ],
 "metadata": {
  "kernelspec": {
   "display_name": "Python 3 (ipykernel)",
   "language": "python",
   "name": "python3"
  },
  "language_info": {
   "codemirror_mode": {
    "name": "ipython",
    "version": 3
   },
   "file_extension": ".py",
   "mimetype": "text/x-python",
   "name": "python",
   "nbconvert_exporter": "python",
   "pygments_lexer": "ipython3",
   "version": "3.9.7"
  }
 },
 "nbformat": 4,
 "nbformat_minor": 5
}
