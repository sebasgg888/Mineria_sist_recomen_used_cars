{
 "cells": [
  {
   "cell_type": "markdown",
   "metadata": {
    "application/vnd.databricks.v1+cell": {
     "cellMetadata": {},
     "inputWidgets": {},
     "nuid": "990e82d3-8974-4e05-871b-74835e331e5a",
     "showTitle": false,
     "title": ""
    }
   },
   "source": [
    "# XGBoost Regressor training\n",
    "- This is an auto-generated notebook.\n",
    "- To reproduce these results, attach this notebook to a cluster with runtime version **13.0.x-cpu-ml-scala2.12**, and rerun it.\n",
    "- Compare trials in the [MLflow experiment](#mlflow/experiments/2269912878111239).\n",
    "- Clone this notebook into your project folder by selecting **File > Clone** in the notebook toolbar."
   ]
  },
  {
   "cell_type": "code",
   "execution_count": 0,
   "metadata": {
    "application/vnd.databricks.v1+cell": {
     "cellMetadata": {},
     "inputWidgets": {},
     "nuid": "0dd2a22d-a1be-40d5-a27d-a819d8ee8d6c",
     "showTitle": false,
     "title": ""
    },
    "execution": {
     "iopub.execute_input": "2023-05-20T17:02:52.465708Z",
     "iopub.status.busy": "2023-05-20T17:02:52.465267Z",
     "iopub.status.idle": "2023-05-20T17:02:52.470961Z",
     "shell.execute_reply": "2023-05-20T17:02:52.470388Z"
    }
   },
   "outputs": [],
   "source": [
    "import mlflow\n",
    "import databricks.automl_runtime\n",
    "\n",
    "target_col = \"price\""
   ]
  },
  {
   "cell_type": "markdown",
   "metadata": {
    "application/vnd.databricks.v1+cell": {
     "cellMetadata": {},
     "inputWidgets": {},
     "nuid": "9381b32d-973b-4fab-92fe-95937be4a127",
     "showTitle": false,
     "title": ""
    }
   },
   "source": [
    "## Load Data"
   ]
  },
  {
   "cell_type": "code",
   "execution_count": 0,
   "metadata": {
    "application/vnd.databricks.v1+cell": {
     "cellMetadata": {},
     "inputWidgets": {},
     "nuid": "99f4399f-5f61-4b14-868f-2e73002f14a6",
     "showTitle": false,
     "title": ""
    },
    "execution": {
     "iopub.execute_input": "2023-05-20T17:02:52.474295Z",
     "iopub.status.busy": "2023-05-20T17:02:52.473914Z",
     "iopub.status.idle": "2023-05-20T17:02:53.681593Z",
     "shell.execute_reply": "2023-05-20T17:02:53.681089Z"
    }
   },
   "outputs": [
    {
     "output_type": "execute_result",
     "data": {
      "text/html": [
       "<div>\n",
       "<style scoped>\n",
       "    .dataframe tbody tr th:only-of-type {\n",
       "        vertical-align: middle;\n",
       "    }\n",
       "\n",
       "    .dataframe tbody tr th {\n",
       "        vertical-align: top;\n",
       "    }\n",
       "\n",
       "    .dataframe thead th {\n",
       "        text-align: right;\n",
       "    }\n",
       "</style>\n",
       "<table border=\"1\" class=\"dataframe\">\n",
       "  <thead>\n",
       "    <tr style=\"text-align: right;\">\n",
       "      <th></th>\n",
       "      <th>back_legroom</th>\n",
       "      <th>body_type</th>\n",
       "      <th>city</th>\n",
       "      <th>city_fuel_economy</th>\n",
       "      <th>daysonmarket</th>\n",
       "      <th>engine_cylinders</th>\n",
       "      <th>engine_displacement</th>\n",
       "      <th>engine_type</th>\n",
       "      <th>franchise_dealer</th>\n",
       "      <th>franchise_make</th>\n",
       "      <th>...</th>\n",
       "      <th>Sunroof/Moonroof</th>\n",
       "      <th>Remote Start</th>\n",
       "      <th>Leather Seats</th>\n",
       "      <th>Blind Spot Monitoring</th>\n",
       "      <th>Parking Sensors</th>\n",
       "      <th>Adaptive Cruise Control</th>\n",
       "      <th>Third Row Seating</th>\n",
       "      <th>word_count_description</th>\n",
       "      <th>price</th>\n",
       "      <th>_automl_split_col_cfda</th>\n",
       "    </tr>\n",
       "  </thead>\n",
       "  <tbody>\n",
       "    <tr>\n",
       "      <th>0</th>\n",
       "      <td>NaN</td>\n",
       "      <td>None</td>\n",
       "      <td>Abilene</td>\n",
       "      <td>19.0</td>\n",
       "      <td>15</td>\n",
       "      <td>V6</td>\n",
       "      <td>3500.0</td>\n",
       "      <td>V6</td>\n",
       "      <td>True</td>\n",
       "      <td>Ford</td>\n",
       "      <td>...</td>\n",
       "      <td>1</td>\n",
       "      <td>0</td>\n",
       "      <td>1</td>\n",
       "      <td>1</td>\n",
       "      <td>0</td>\n",
       "      <td>1</td>\n",
       "      <td>0</td>\n",
       "      <td>412</td>\n",
       "      <td>64500.0</td>\n",
       "      <td>train</td>\n",
       "    </tr>\n",
       "    <tr>\n",
       "      <th>1</th>\n",
       "      <td>NaN</td>\n",
       "      <td>None</td>\n",
       "      <td>Afton</td>\n",
       "      <td>NaN</td>\n",
       "      <td>21</td>\n",
       "      <td>I6 Diesel</td>\n",
       "      <td>6700.0</td>\n",
       "      <td>I6 Diesel</td>\n",
       "      <td>True</td>\n",
       "      <td>Dodge</td>\n",
       "      <td>...</td>\n",
       "      <td>0</td>\n",
       "      <td>0</td>\n",
       "      <td>0</td>\n",
       "      <td>0</td>\n",
       "      <td>0</td>\n",
       "      <td>0</td>\n",
       "      <td>0</td>\n",
       "      <td>11</td>\n",
       "      <td>17738.0</td>\n",
       "      <td>train</td>\n",
       "    </tr>\n",
       "    <tr>\n",
       "      <th>2</th>\n",
       "      <td>NaN</td>\n",
       "      <td>None</td>\n",
       "      <td>Albany</td>\n",
       "      <td>NaN</td>\n",
       "      <td>21</td>\n",
       "      <td>V8 Flex Fuel Vehicle</td>\n",
       "      <td>6700.0</td>\n",
       "      <td>V8 Flex Fuel Vehicle</td>\n",
       "      <td>True</td>\n",
       "      <td>Ford</td>\n",
       "      <td>...</td>\n",
       "      <td>0</td>\n",
       "      <td>0</td>\n",
       "      <td>0</td>\n",
       "      <td>0</td>\n",
       "      <td>0</td>\n",
       "      <td>0</td>\n",
       "      <td>0</td>\n",
       "      <td>141</td>\n",
       "      <td>52000.0</td>\n",
       "      <td>train</td>\n",
       "    </tr>\n",
       "    <tr>\n",
       "      <th>3</th>\n",
       "      <td>NaN</td>\n",
       "      <td>None</td>\n",
       "      <td>Albuquerque</td>\n",
       "      <td>20.0</td>\n",
       "      <td>1</td>\n",
       "      <td>H4</td>\n",
       "      <td>2400.0</td>\n",
       "      <td>H4</td>\n",
       "      <td>True</td>\n",
       "      <td>Subaru</td>\n",
       "      <td>...</td>\n",
       "      <td>1</td>\n",
       "      <td>0</td>\n",
       "      <td>0</td>\n",
       "      <td>0</td>\n",
       "      <td>0</td>\n",
       "      <td>0</td>\n",
       "      <td>0</td>\n",
       "      <td>141</td>\n",
       "      <td>41755.0</td>\n",
       "      <td>train</td>\n",
       "    </tr>\n",
       "    <tr>\n",
       "      <th>4</th>\n",
       "      <td>NaN</td>\n",
       "      <td>None</td>\n",
       "      <td>Albuquerque</td>\n",
       "      <td>27.0</td>\n",
       "      <td>9</td>\n",
       "      <td>I4</td>\n",
       "      <td>1600.0</td>\n",
       "      <td>I4</td>\n",
       "      <td>True</td>\n",
       "      <td>Kia</td>\n",
       "      <td>...</td>\n",
       "      <td>0</td>\n",
       "      <td>0</td>\n",
       "      <td>0</td>\n",
       "      <td>0</td>\n",
       "      <td>0</td>\n",
       "      <td>0</td>\n",
       "      <td>0</td>\n",
       "      <td>203</td>\n",
       "      <td>25610.0</td>\n",
       "      <td>train</td>\n",
       "    </tr>\n",
       "  </tbody>\n",
       "</table>\n",
       "<p>5 rows × 42 columns</p>\n",
       "</div>"
      ],
      "text/plain": [
       "   back_legroom body_type         city  city_fuel_economy  daysonmarket  \\\n",
       "0           NaN      None      Abilene               19.0            15   \n",
       "1           NaN      None        Afton                NaN            21   \n",
       "2           NaN      None       Albany                NaN            21   \n",
       "3           NaN      None  Albuquerque               20.0             1   \n",
       "4           NaN      None  Albuquerque               27.0             9   \n",
       "\n",
       "       engine_cylinders  engine_displacement           engine_type  \\\n",
       "0                    V6               3500.0                    V6   \n",
       "1             I6 Diesel               6700.0             I6 Diesel   \n",
       "2  V8 Flex Fuel Vehicle               6700.0  V8 Flex Fuel Vehicle   \n",
       "3                    H4               2400.0                    H4   \n",
       "4                    I4               1600.0                    I4   \n",
       "\n",
       "   franchise_dealer franchise_make  ...  Sunroof/Moonroof Remote Start  \\\n",
       "0              True           Ford  ...                 1            0   \n",
       "1              True          Dodge  ...                 0            0   \n",
       "2              True           Ford  ...                 0            0   \n",
       "3              True         Subaru  ...                 1            0   \n",
       "4              True            Kia  ...                 0            0   \n",
       "\n",
       "   Leather Seats  Blind Spot Monitoring  Parking Sensors  \\\n",
       "0              1                      1                0   \n",
       "1              0                      0                0   \n",
       "2              0                      0                0   \n",
       "3              0                      0                0   \n",
       "4              0                      0                0   \n",
       "\n",
       "  Adaptive Cruise Control Third Row Seating  word_count_description    price  \\\n",
       "0                       1                 0                     412  64500.0   \n",
       "1                       0                 0                      11  17738.0   \n",
       "2                       0                 0                     141  52000.0   \n",
       "3                       0                 0                     141  41755.0   \n",
       "4                       0                 0                     203  25610.0   \n",
       "\n",
       "  _automl_split_col_cfda  \n",
       "0                  train  \n",
       "1                  train  \n",
       "2                  train  \n",
       "3                  train  \n",
       "4                  train  \n",
       "\n",
       "[5 rows x 42 columns]"
      ]
     },
     "execution_count": 3,
     "metadata": {},
     "output_type": "execute_result"
    }
   ],
   "source": [
    "import mlflow\n",
    "import os\n",
    "import uuid\n",
    "import shutil\n",
    "import pandas as pd\n",
    "\n",
    "# Create temp directory to download input data from MLflow\n",
    "input_temp_dir = os.path.join(os.environ[\"SPARK_LOCAL_DIRS\"], \"tmp\", str(uuid.uuid4())[:8])\n",
    "os.makedirs(input_temp_dir)\n",
    "\n",
    "\n",
    "# Download the artifact and read it into a pandas DataFrame\n",
    "input_data_path = mlflow.artifacts.download_artifacts(run_id=\"135beb79f5374dc58a539680e27c8b0f\", artifact_path=\"data\", dst_path=input_temp_dir)\n",
    "\n",
    "df_loaded = pd.read_parquet(os.path.join(input_data_path, \"training_data\"))\n",
    "# Delete the temp data\n",
    "shutil.rmtree(input_temp_dir)\n",
    "\n",
    "# Preview data\n",
    "df_loaded.head(5)"
   ]
  },
  {
   "cell_type": "markdown",
   "metadata": {
    "application/vnd.databricks.v1+cell": {
     "cellMetadata": {},
     "inputWidgets": {},
     "nuid": "e1b58e9d-9288-4059-8050-11539cdb744e",
     "showTitle": false,
     "title": ""
    }
   },
   "source": [
    "### Select supported columns\n",
    "Select only the columns that are supported. This allows us to train a model that can predict on a dataset that has extra columns that are not used in training.\n",
    "`[]` are dropped in the pipelines. See the Alerts tab of the AutoML Experiment page for details on why these columns are dropped."
   ]
  },
  {
   "cell_type": "code",
   "execution_count": 0,
   "metadata": {
    "application/vnd.databricks.v1+cell": {
     "cellMetadata": {},
     "inputWidgets": {},
     "nuid": "d292e8ed-eb2e-4338-9ef6-427cf6f9006a",
     "showTitle": false,
     "title": ""
    },
    "execution": {
     "iopub.execute_input": "2023-05-20T17:02:53.693930Z",
     "iopub.status.busy": "2023-05-20T17:02:53.692805Z",
     "iopub.status.idle": "2023-05-20T17:02:54.205643Z",
     "shell.execute_reply": "2023-05-20T17:02:54.205033Z"
    }
   },
   "outputs": [],
   "source": [
    "from databricks.automl_runtime.sklearn.column_selector import ColumnSelector\n",
    "supported_cols = [\"width\", \"back_legroom\", \"engine_type\", \"mileage\", \"Heated Seats\", \"Bluetooth\", \"franchise_dealer\", \"franchise_make\", \"transmission\", \"listing_color\", \"Sunroof/Moonroof\", \"city\", \"Backup Camera\", \"daysonmarket\", \"fuel_type\", \"word_count_description\", \"wheel_system_display\", \"seller_rating\", \"is_new\", \"horsepower\", \"engine_cylinders\", \"body_type\", \"year\", \"Leather Seats\", \"city_fuel_economy\", \"wheelbase\", \"maximum_seating\", \"Navigation System\", \"Adaptive Cruise Control\", \"engine_displacement\", \"torque\", \"make_name\", \"front_legroom\", \"Parking Sensors\", \"Blind Spot Monitoring\", \"Remote Start\", \"height\", \"Third Row Seating\", \"model_name\", \"Alloy Wheels\"]\n",
    "col_selector = ColumnSelector(supported_cols)"
   ]
  },
  {
   "cell_type": "markdown",
   "metadata": {
    "application/vnd.databricks.v1+cell": {
     "cellMetadata": {},
     "inputWidgets": {},
     "nuid": "b3ef4809-f471-484a-84c4-816335ae3a8c",
     "showTitle": false,
     "title": ""
    }
   },
   "source": [
    "## Preprocessors"
   ]
  },
  {
   "cell_type": "markdown",
   "metadata": {
    "application/vnd.databricks.v1+cell": {
     "cellMetadata": {},
     "inputWidgets": {},
     "nuid": "63ca62ab-b297-44fc-a5bf-69eca3c29eb8",
     "showTitle": false,
     "title": ""
    }
   },
   "source": [
    "### Boolean columns\n",
    "For each column, impute missing values and then convert into ones and zeros."
   ]
  },
  {
   "cell_type": "code",
   "execution_count": 0,
   "metadata": {
    "application/vnd.databricks.v1+cell": {
     "cellMetadata": {},
     "inputWidgets": {},
     "nuid": "d3a2f15c-cca8-47b5-bd42-32c52430fef8",
     "showTitle": false,
     "title": ""
    },
    "execution": {
     "iopub.execute_input": "2023-05-20T17:02:54.213579Z",
     "iopub.status.busy": "2023-05-20T17:02:54.213224Z",
     "iopub.status.idle": "2023-05-20T17:02:54.223298Z",
     "shell.execute_reply": "2023-05-20T17:02:54.222784Z"
    }
   },
   "outputs": [],
   "source": [
    "from sklearn.compose import ColumnTransformer\n",
    "from sklearn.impute import SimpleImputer\n",
    "from sklearn.pipeline import Pipeline\n",
    "from sklearn.preprocessing import FunctionTransformer\n",
    "from sklearn.preprocessing import OneHotEncoder as SklearnOneHotEncoder\n",
    "\n",
    "\n",
    "bool_imputers = []\n",
    "\n",
    "bool_pipeline = Pipeline(steps=[\n",
    "    (\"cast_type\", FunctionTransformer(lambda df: df.astype(object))),\n",
    "    (\"imputers\", ColumnTransformer(bool_imputers, remainder=\"passthrough\")),\n",
    "    (\"onehot\", SklearnOneHotEncoder(handle_unknown=\"ignore\", drop=\"first\")),\n",
    "])\n",
    "\n",
    "bool_transformers = [(\"boolean\", bool_pipeline, [\"Adaptive Cruise Control\", \"is_new\", \"Heated Seats\", \"Bluetooth\", \"franchise_dealer\", \"Leather Seats\", \"Parking Sensors\", \"Sunroof/Moonroof\", \"Blind Spot Monitoring\", \"Third Row Seating\", \"Backup Camera\", \"Remote Start\", \"Navigation System\", \"Alloy Wheels\"])]"
   ]
  },
  {
   "cell_type": "markdown",
   "metadata": {
    "application/vnd.databricks.v1+cell": {
     "cellMetadata": {},
     "inputWidgets": {},
     "nuid": "56e9d8fd-4fed-4d23-9c3e-595a70d081c5",
     "showTitle": false,
     "title": ""
    }
   },
   "source": [
    "### Numerical columns\n",
    "\n",
    "Missing values for numerical columns are imputed with mean by default."
   ]
  },
  {
   "cell_type": "code",
   "execution_count": 0,
   "metadata": {
    "application/vnd.databricks.v1+cell": {
     "cellMetadata": {},
     "inputWidgets": {},
     "nuid": "9f98b59d-b6fa-4284-82c2-a45a15084e9c",
     "showTitle": false,
     "title": ""
    },
    "execution": {
     "iopub.execute_input": "2023-05-20T17:02:54.225985Z",
     "iopub.status.busy": "2023-05-20T17:02:54.225817Z",
     "iopub.status.idle": "2023-05-20T17:02:54.231283Z",
     "shell.execute_reply": "2023-05-20T17:02:54.230820Z"
    }
   },
   "outputs": [],
   "source": [
    "from sklearn.compose import ColumnTransformer\n",
    "from sklearn.impute import SimpleImputer\n",
    "from sklearn.pipeline import Pipeline\n",
    "from sklearn.preprocessing import FunctionTransformer, StandardScaler\n",
    "\n",
    "num_imputers = []\n",
    "num_imputers.append((\"impute_mean\", SimpleImputer(), [\"Adaptive Cruise Control\", \"Alloy Wheels\", \"Backup Camera\", \"Blind Spot Monitoring\", \"Bluetooth\", \"Heated Seats\", \"Leather Seats\", \"Navigation System\", \"Parking Sensors\", \"Remote Start\", \"Sunroof/Moonroof\", \"Third Row Seating\", \"back_legroom\", \"city_fuel_economy\", \"daysonmarket\", \"engine_displacement\", \"front_legroom\", \"height\", \"horsepower\", \"maximum_seating\", \"mileage\", \"seller_rating\", \"torque\", \"wheelbase\", \"width\", \"word_count_description\", \"year\"]))\n",
    "\n",
    "numerical_pipeline = Pipeline(steps=[\n",
    "    (\"converter\", FunctionTransformer(lambda df: df.apply(pd.to_numeric, errors='coerce'))),\n",
    "    (\"imputers\", ColumnTransformer(num_imputers)),\n",
    "    (\"standardizer\", StandardScaler()),\n",
    "])\n",
    "\n",
    "numerical_transformers = [(\"numerical\", numerical_pipeline, [\"width\", \"back_legroom\", \"mileage\", \"Heated Seats\", \"Bluetooth\", \"Sunroof/Moonroof\", \"Backup Camera\", \"daysonmarket\", \"word_count_description\", \"seller_rating\", \"horsepower\", \"year\", \"city_fuel_economy\", \"Leather Seats\", \"wheelbase\", \"maximum_seating\", \"Navigation System\", \"engine_displacement\", \"Adaptive Cruise Control\", \"torque\", \"front_legroom\", \"Parking Sensors\", \"Blind Spot Monitoring\", \"Remote Start\", \"height\", \"Third Row Seating\", \"Alloy Wheels\"])]"
   ]
  },
  {
   "cell_type": "markdown",
   "metadata": {
    "application/vnd.databricks.v1+cell": {
     "cellMetadata": {},
     "inputWidgets": {},
     "nuid": "0d22f4a6-ee7d-4d22-af1d-c9a5e7ea961e",
     "showTitle": false,
     "title": ""
    }
   },
   "source": [
    "### Categorical columns"
   ]
  },
  {
   "cell_type": "markdown",
   "metadata": {
    "application/vnd.databricks.v1+cell": {
     "cellMetadata": {},
     "inputWidgets": {},
     "nuid": "1d0b991a-957e-4a39-b37f-53d1039d3774",
     "showTitle": false,
     "title": ""
    }
   },
   "source": [
    "#### Low-cardinality categoricals\n",
    "Convert each low-cardinality categorical column into multiple binary columns through one-hot encoding.\n",
    "For each input categorical column (string or numeric), the number of output columns is equal to the number of unique values in the input column."
   ]
  },
  {
   "cell_type": "code",
   "execution_count": 0,
   "metadata": {
    "application/vnd.databricks.v1+cell": {
     "cellMetadata": {},
     "inputWidgets": {},
     "nuid": "5ed3bcee-0f28-4408-a8b7-9fc215e2b3be",
     "showTitle": false,
     "title": ""
    },
    "execution": {
     "iopub.execute_input": "2023-05-20T17:02:54.234132Z",
     "iopub.status.busy": "2023-05-20T17:02:54.233703Z",
     "iopub.status.idle": "2023-05-20T17:02:54.237894Z",
     "shell.execute_reply": "2023-05-20T17:02:54.237365Z"
    }
   },
   "outputs": [],
   "source": [
    "from databricks.automl_runtime.sklearn import OneHotEncoder\n",
    "from sklearn.compose import ColumnTransformer\n",
    "from sklearn.impute import SimpleImputer\n",
    "from sklearn.pipeline import Pipeline\n",
    "\n",
    "one_hot_imputers = []\n",
    "\n",
    "one_hot_pipeline = Pipeline(steps=[\n",
    "    (\"imputers\", ColumnTransformer(one_hot_imputers, remainder=\"passthrough\")),\n",
    "    (\"one_hot_encoder\", OneHotEncoder(handle_unknown=\"indicator\")),\n",
    "])\n",
    "\n",
    "categorical_one_hot_transformers = [(\"onehot\", one_hot_pipeline, [\"body_type\", \"engine_cylinders\", \"engine_type\", \"franchise_make\", \"fuel_type\", \"listing_color\", \"make_name\", \"transmission\", \"wheel_system_display\"])]"
   ]
  },
  {
   "cell_type": "markdown",
   "metadata": {
    "application/vnd.databricks.v1+cell": {
     "cellMetadata": {},
     "inputWidgets": {},
     "nuid": "8035f36d-c12e-431c-9a90-b6a76ed437a7",
     "showTitle": false,
     "title": ""
    }
   },
   "source": [
    "#### Medium-cardinality categoricals\n",
    "Convert each medium-cardinality categorical column into a numerical representation.\n",
    "Each string column is hashed to 1024 float columns.\n",
    "Each numeric column is imputed with zeros."
   ]
  },
  {
   "cell_type": "code",
   "execution_count": 0,
   "metadata": {
    "application/vnd.databricks.v1+cell": {
     "cellMetadata": {},
     "inputWidgets": {},
     "nuid": "c3cd9768-4a5e-4cfa-afb1-1e59eedf23df",
     "showTitle": false,
     "title": ""
    },
    "execution": {
     "iopub.execute_input": "2023-05-20T17:02:54.240628Z",
     "iopub.status.busy": "2023-05-20T17:02:54.240166Z",
     "iopub.status.idle": "2023-05-20T17:02:54.247842Z",
     "shell.execute_reply": "2023-05-20T17:02:54.247369Z"
    }
   },
   "outputs": [],
   "source": [
    "from sklearn.feature_extraction import FeatureHasher\n",
    "from sklearn.impute import SimpleImputer\n",
    "from sklearn.pipeline import Pipeline\n",
    "\n",
    "imputers = {\n",
    "}\n",
    "\n",
    "categorical_hash_transformers = []\n",
    "\n",
    "for col in [\"city\", \"model_name\"]:\n",
    "    hasher = FeatureHasher(n_features=1024, input_type=\"string\")\n",
    "    if col in imputers:\n",
    "        imputer_name, imputer = imputers[col]\n",
    "    else:\n",
    "        imputer_name, imputer = \"impute_string_\", SimpleImputer(fill_value='', missing_values=None, strategy='constant')\n",
    "    hash_pipeline = Pipeline(steps=[\n",
    "        (imputer_name, imputer),\n",
    "        (f\"{col}_hasher\", hasher),\n",
    "    ])\n",
    "    categorical_hash_transformers.append((f\"{col}_pipeline\", hash_pipeline, [col]))"
   ]
  },
  {
   "cell_type": "code",
   "execution_count": 0,
   "metadata": {
    "application/vnd.databricks.v1+cell": {
     "cellMetadata": {},
     "inputWidgets": {},
     "nuid": "d65fbabb-bf58-4de6-9ca9-30d8439e49c2",
     "showTitle": false,
     "title": ""
    },
    "execution": {
     "iopub.execute_input": "2023-05-20T17:02:54.250740Z",
     "iopub.status.busy": "2023-05-20T17:02:54.250355Z",
     "iopub.status.idle": "2023-05-20T17:02:54.253732Z",
     "shell.execute_reply": "2023-05-20T17:02:54.253178Z"
    }
   },
   "outputs": [],
   "source": [
    "from sklearn.compose import ColumnTransformer\n",
    "\n",
    "transformers = bool_transformers + numerical_transformers + categorical_one_hot_transformers + categorical_hash_transformers\n",
    "\n",
    "preprocessor = ColumnTransformer(transformers, remainder=\"passthrough\", sparse_threshold=1)"
   ]
  },
  {
   "cell_type": "markdown",
   "metadata": {
    "application/vnd.databricks.v1+cell": {
     "cellMetadata": {},
     "inputWidgets": {},
     "nuid": "32268388-2c17-44a0-91c7-8c5d9675f23e",
     "showTitle": false,
     "title": ""
    }
   },
   "source": [
    "## Train - Validation - Test Split\n",
    "The input data is split by AutoML into 3 sets:\n",
    "- Train (60% of the dataset used to train the model)\n",
    "- Validation (20% of the dataset used to tune the hyperparameters of the model)\n",
    "- Test (20% of the dataset used to report the true performance of the model on an unseen dataset)\n",
    "\n",
    "`_automl_split_col_cfda` contains the information of which set a given row belongs to.\n",
    "We use this column to split the dataset into the above 3 sets. \n",
    "The column should not be used for training so it is dropped after split is done."
   ]
  },
  {
   "cell_type": "code",
   "execution_count": 0,
   "metadata": {
    "application/vnd.databricks.v1+cell": {
     "cellMetadata": {},
     "inputWidgets": {},
     "nuid": "d1e39c29-a3e9-438c-b3fa-29324d644806",
     "showTitle": false,
     "title": ""
    },
    "execution": {
     "iopub.execute_input": "2023-05-20T17:02:54.256638Z",
     "iopub.status.busy": "2023-05-20T17:02:54.256223Z",
     "iopub.status.idle": "2023-05-20T17:02:54.450952Z",
     "shell.execute_reply": "2023-05-20T17:02:54.450307Z"
    }
   },
   "outputs": [],
   "source": [
    "# AutoML completed train - validation - test split internally and used _automl_split_col_cfda to specify the set\n",
    "split_train_df = df_loaded.loc[df_loaded._automl_split_col_cfda == \"train\"]\n",
    "split_val_df = df_loaded.loc[df_loaded._automl_split_col_cfda == \"val\"]\n",
    "split_test_df = df_loaded.loc[df_loaded._automl_split_col_cfda == \"test\"]\n",
    "\n",
    "# Separate target column from features and drop _automl_split_col_cfda\n",
    "X_train = split_train_df.drop([target_col, \"_automl_split_col_cfda\"], axis=1)\n",
    "y_train = split_train_df[target_col]\n",
    "\n",
    "X_val = split_val_df.drop([target_col, \"_automl_split_col_cfda\"], axis=1)\n",
    "y_val = split_val_df[target_col]\n",
    "\n",
    "X_test = split_test_df.drop([target_col, \"_automl_split_col_cfda\"], axis=1)\n",
    "y_test = split_test_df[target_col]"
   ]
  },
  {
   "cell_type": "markdown",
   "metadata": {
    "application/vnd.databricks.v1+cell": {
     "cellMetadata": {},
     "inputWidgets": {},
     "nuid": "f550b431-4f79-4361-8b8b-5416c568ccd2",
     "showTitle": false,
     "title": ""
    }
   },
   "source": [
    "## Train regression model\n",
    "- Log relevant metrics to MLflow to track runs\n",
    "- All the runs are logged under [this MLflow experiment](#mlflow/experiments/2269912878111239)\n",
    "- Change the model parameters and re-run the training cell to log a different trial to the MLflow experiment\n",
    "- To view the full list of tunable hyperparameters, check the output of the cell below"
   ]
  },
  {
   "cell_type": "code",
   "execution_count": 0,
   "metadata": {
    "application/vnd.databricks.v1+cell": {
     "cellMetadata": {},
     "inputWidgets": {},
     "nuid": "32422d65-804f-4f39-b67c-6f4742daeea9",
     "showTitle": false,
     "title": ""
    },
    "execution": {
     "iopub.execute_input": "2023-05-20T17:02:54.454216Z",
     "iopub.status.busy": "2023-05-20T17:02:54.453719Z",
     "iopub.status.idle": "2023-05-20T17:02:54.482323Z",
     "shell.execute_reply": "2023-05-20T17:02:54.481680Z"
    }
   },
   "outputs": [
    {
     "output_type": "stream",
     "name": "stdout",
     "output_type": "stream",
     "text": [
      "Help on class XGBRegressor in module xgboost.sklearn:\n\nclass XGBRegressor(XGBModel, sklearn.base.RegressorMixin)\n |  XGBRegressor(*, objective: Union[str, Callable[[numpy.ndarray, numpy.ndarray], Tuple[numpy.ndarray, numpy.ndarray]], NoneType] = 'reg:squarederror', **kwargs: Any) -> None\n |  \n |  Implementation of the scikit-learn API for XGBoost regression.\n |  \n |  \n |  Parameters\n |  ----------\n |  \n |      n_estimators : int\n |          Number of gradient boosted trees.  Equivalent to number of boosting\n |          rounds.\n |  \n |      max_depth :  Optional[int]\n |          Maximum tree depth for base learners.\n |      max_leaves :\n |          Maximum number of leaves; 0 indicates no limit.\n |      max_bin :\n |          If using histogram-based algorithm, maximum number of bins per feature\n |      grow_policy :\n |          Tree growing policy. 0: favor splitting at nodes closest to the node, i.e. grow\n |          depth-wise. 1: favor splitting at nodes with highest loss change.\n |      learning_rate : Optional[float]\n |          Boosting learning rate (xgb's \"eta\")\n |      verbosity : Optional[int]\n |          The degree of verbosity. Valid values are 0 (silent) - 3 (debug).\n |      objective : typing.Union[str, typing.Callable[[numpy.ndarray, numpy.ndarray], typing.Tuple[numpy.ndarray, numpy.ndarray]], NoneType]\n |          Specify the learning task and the corresponding learning objective or\n |          a custom objective function to be used (see note below).\n |      booster: Optional[str]\n |          Specify which booster to use: gbtree, gblinear or dart.\n |      tree_method: Optional[str]\n |          Specify which tree method to use.  Default to auto.  If this parameter is set to\n |          default, XGBoost will choose the most conservative option available.  It's\n |          recommended to study this option from the parameters document :doc:`tree method\n |          </treemethod>`\n |      n_jobs : Optional[int]\n |          Number of parallel threads used to run xgboost.  When used with other\n |          Scikit-Learn algorithms like grid search, you may choose which algorithm to\n |          parallelize and balance the threads.  Creating thread contention will\n |          significantly slow down both algorithms.\n |      gamma : Optional[float]\n |          (min_split_loss) Minimum loss reduction required to make a further partition on a\n |          leaf node of the tree.\n |      min_child_weight : Optional[float]\n |          Minimum sum of instance weight(hessian) needed in a child.\n |      max_delta_step : Optional[float]\n |          Maximum delta step we allow each tree's weight estimation to be.\n |      subsample : Optional[float]\n |          Subsample ratio of the training instance.\n |      sampling_method :\n |          Sampling method. Used only by `gpu_hist` tree method.\n |            - `uniform`: select random training instances uniformly.\n |            - `gradient_based` select random training instances with higher probability when\n |              the gradient and hessian are larger. (cf. CatBoost)\n |      colsample_bytree : Optional[float]\n |          Subsample ratio of columns when constructing each tree.\n |      colsample_bylevel : Optional[float]\n |          Subsample ratio of columns for each level.\n |      colsample_bynode : Optional[float]\n |          Subsample ratio of columns for each split.\n |      reg_alpha : Optional[float]\n |          L1 regularization term on weights (xgb's alpha).\n |      reg_lambda : Optional[float]\n |          L2 regularization term on weights (xgb's lambda).\n |      scale_pos_weight : Optional[float]\n |          Balancing of positive and negative weights.\n |      base_score : Optional[float]\n |          The initial prediction score of all instances, global bias.\n |      random_state : Optional[Union[numpy.random.RandomState, int]]\n |          Random number seed.\n |  \n |          .. note::\n |  \n |             Using gblinear booster with shotgun updater is nondeterministic as\n |             it uses Hogwild algorithm.\n |  \n |      missing : float, default np.nan\n |          Value in the data which needs to be present as a missing value.\n |      num_parallel_tree: Optional[int]\n |          Used for boosting random forest.\n |      monotone_constraints : Optional[Union[Dict[str, int], str]]\n |          Constraint of variable monotonicity.  See :doc:`tutorial </tutorials/monotonic>`\n |          for more information.\n |      interaction_constraints : Optional[Union[str, List[Tuple[str]]]]\n |          Constraints for interaction representing permitted interactions.  The\n |          constraints must be specified in the form of a nested list, e.g. ``[[0, 1], [2,\n |          3, 4]]``, where each inner list is a group of indices of features that are\n |          allowed to interact with each other.  See :doc:`tutorial\n |          </tutorials/feature_interaction_constraint>` for more information\n |      importance_type: Optional[str]\n |          The feature importance type for the feature_importances\\_ property:\n |  \n |          * For tree model, it's either \"gain\", \"weight\", \"cover\", \"total_gain\" or\n |            \"total_cover\".\n |          * For linear model, only \"weight\" is defined and it's the normalized coefficients\n |            without bias.\n |  \n |      gpu_id : Optional[int]\n |          Device ordinal.\n |      validate_parameters : Optional[bool]\n |          Give warnings for unknown parameter.\n |      predictor : Optional[str]\n |          Force XGBoost to use specific predictor, available choices are [cpu_predictor,\n |          gpu_predictor].\n |      enable_categorical : bool\n |  \n |          .. versionadded:: 1.5.0\n |  \n |          .. note:: This parameter is experimental\n |  \n |          Experimental support for categorical data.  When enabled, cudf/pandas.DataFrame\n |          should be used to specify categorical data type.  Also, JSON/UBJSON\n |          serialization format is required.\n |  \n |      feature_types : FeatureTypes\n |  \n |          .. versionadded:: 1.7.0\n |  \n |          Used for specifying feature types without constructing a dataframe. See\n |          :py:class:`DMatrix` for details.\n |  \n |      max_cat_to_onehot : Optional[int]\n |  \n |          .. versionadded:: 1.6.0\n |  \n |          .. note:: This parameter is experimental\n |  \n |          A threshold for deciding whether XGBoost should use one-hot encoding based split\n |          for categorical data.  When number of categories is lesser than the threshold\n |          then one-hot encoding is chosen, otherwise the categories will be partitioned\n |          into children nodes. Also, `enable_categorical` needs to be set to have\n |          categorical feature support. See :doc:`Categorical Data\n |          </tutorials/categorical>` and :ref:`cat-param` for details.\n |  \n |      max_cat_threshold : Optional[int]\n |  \n |          .. versionadded:: 1.7.0\n |  \n |          .. note:: This parameter is experimental\n |  \n |          Maximum number of categories considered for each split. Used only by\n |          partition-based splits for preventing over-fitting. Also, `enable_categorical`\n |          needs to be set to have categorical feature support. See :doc:`Categorical Data\n |          </tutorials/categorical>` and :ref:`cat-param` for details.\n |  \n |      eval_metric : Optional[Union[str, List[str], Callable]]\n |  \n |          .. versionadded:: 1.6.0\n |  \n |          Metric used for monitoring the training result and early stopping.  It can be a\n |          string or list of strings as names of predefined metric in XGBoost (See\n |          doc/parameter.rst), one of the metrics in :py:mod:`sklearn.metrics`, or any other\n |          user defined metric that looks like `sklearn.metrics`.\n |  \n |          If custom objective is also provided, then custom metric should implement the\n |          corresponding reverse link function.\n |  \n |          Unlike the `scoring` parameter commonly used in scikit-learn, when a callable\n |          object is provided, it's assumed to be a cost function and by default XGBoost will\n |          minimize the result during early stopping.\n |  \n |          For advanced usage on Early stopping like directly choosing to maximize instead of\n |          minimize, see :py:obj:`xgboost.callback.EarlyStopping`.\n |  \n |          See :doc:`Custom Objective and Evaluation Metric </tutorials/custom_metric_obj>`\n |          for more.\n |  \n |          .. note::\n |  \n |               This parameter replaces `eval_metric` in :py:meth:`fit` method.  The old one\n |               receives un-transformed prediction regardless of whether custom objective is\n |               being used.\n |  \n |          .. code-block:: python\n |  \n |              from sklearn.datasets import load_diabetes\n |              from sklearn.metrics import mean_absolute_error\n |              X, y = load_diabetes(return_X_y=True)\n |              reg = xgb.XGBRegressor(\n |                  tree_method=\"hist\",\n |                  eval_metric=mean_absolute_error,\n |              )\n |              reg.fit(X, y, eval_set=[(X, y)])\n |  \n |      early_stopping_rounds : Optional[int]\n |  \n |          .. versionadded:: 1.6.0\n |  \n |          Activates early stopping. Validation metric needs to improve at least once in\n |          every **early_stopping_rounds** round(s) to continue training.  Requires at least\n |          one item in **eval_set** in :py:meth:`fit`.\n |  \n |          The method returns the model from the last iteration (not the best one).  If\n |          there's more than one item in **eval_set**, the last entry will be used for early\n |          stopping.  If there's more than one metric in **eval_metric**, the last metric\n |          will be used for early stopping.\n |  \n |          If early stopping occurs, the model will have three additional fields:\n |          :py:attr:`best_score`, :py:attr:`best_iteration` and\n |          :py:attr:`best_ntree_limit`.\n |  \n |          .. note::\n |  \n |              This parameter replaces `early_stopping_rounds` in :py:meth:`fit` method.\n |  \n |      callbacks : Optional[List[TrainingCallback]]\n |          List of callback functions that are applied at end of each iteration.\n |          It is possible to use predefined callbacks by using\n |          :ref:`Callback API <callback_api>`.\n |  \n |          .. note::\n |  \n |             States in callback are not preserved during training, which means callback\n |             objects can not be reused for multiple training sessions without\n |             reinitialization or deepcopy.\n |  \n |          .. code-block:: python\n |  \n |              for params in parameters_grid:\n |                  # be sure to (re)initialize the callbacks before each run\n |                  callbacks = [xgb.callback.LearningRateScheduler(custom_rates)]\n |                  xgboost.train(params, Xy, callbacks=callbacks)\n |  \n |      kwargs : dict, optional\n |          Keyword arguments for XGBoost Booster object.  Full documentation of parameters\n |          can be found :doc:`here </parameter>`.\n |          Attempting to set a parameter via the constructor args and \\*\\*kwargs\n |          dict simultaneously will result in a TypeError.\n |  \n |          .. note:: \\*\\*kwargs unsupported by scikit-learn\n |  \n |              \\*\\*kwargs is unsupported by scikit-learn.  We do not guarantee\n |              that parameters passed via this argument will interact properly\n |              with scikit-learn.\n |  \n |          .. note::  Custom objective function\n |  \n |              A custom objective function can be provided for the ``objective``\n |              parameter. In this case, it should have the signature\n |              ``objective(y_true, y_pred) -> grad, hess``:\n |  \n |              y_true: array_like of shape [n_samples]\n |                  The target values\n |              y_pred: array_like of shape [n_samples]\n |                  The predicted values\n |  \n |              grad: array_like of shape [n_samples]\n |                  The value of the gradient for each sample point.\n |              hess: array_like of shape [n_samples]\n |                  The value of the second derivative for each sample point\n |  \n |  Method resolution order:\n |      XGBRegressor\n |      XGBModel\n |      sklearn.base.BaseEstimator\n |      sklearn.base.RegressorMixin\n |      builtins.object\n |  \n |  Methods defined here:\n |  \n |  __init__(self, *, objective: Union[str, Callable[[numpy.ndarray, numpy.ndarray], Tuple[numpy.ndarray, numpy.ndarray]], NoneType] = 'reg:squarederror', **kwargs: Any) -> None\n |      Initialize self.  See help(type(self)) for accurate signature.\n |  \n |  ----------------------------------------------------------------------\n |  Methods inherited from XGBModel:\n |  \n |  __sklearn_is_fitted__(self) -> bool\n |  \n |  apply(self, X: Any, ntree_limit: int = 0, iteration_range: Optional[Tuple[int, int]] = None) -> numpy.ndarray\n |      Return the predicted leaf every tree for each sample. If the model is trained with\n |      early stopping, then `best_iteration` is used automatically.\n |      \n |      Parameters\n |      ----------\n |      X : array_like, shape=[n_samples, n_features]\n |          Input features matrix.\n |      \n |      iteration_range :\n |          See :py:meth:`predict`.\n |      \n |      ntree_limit :\n |          Deprecated, use ``iteration_range`` instead.\n |      \n |      Returns\n |      -------\n |      X_leaves : array_like, shape=[n_samples, n_trees]\n |          For each datapoint x in X and for each tree, return the index of the\n |          leaf x ends up in. Leaves are numbered within\n |          ``[0; 2**(self.max_depth+1))``, possibly with gaps in the numbering.\n |  \n |  evals_result(self) -> Dict[str, Dict[str, List[float]]]\n |      Return the evaluation results.\n |      \n |      If **eval_set** is passed to the :py:meth:`fit` function, you can call\n |      ``evals_result()`` to get evaluation results for all passed **eval_sets**.  When\n |      **eval_metric** is also passed to the :py:meth:`fit` function, the\n |      **evals_result** will contain the **eval_metrics** passed to the :py:meth:`fit`\n |      function.\n |      \n |      The returned evaluation result is a dictionary:\n |      \n |      .. code-block:: python\n |      \n |          {'validation_0': {'logloss': ['0.604835', '0.531479']},\n |           'validation_1': {'logloss': ['0.41965', '0.17686']}}\n |      \n |      Returns\n |      -------\n |      evals_result\n |  \n |  fit(self, X: Any, y: Any, *, sample_weight: Optional[Any] = None, base_margin: Optional[Any] = None, eval_set: Optional[Sequence[Tuple[Any, Any]]] = None, eval_metric: Union[str, Sequence[str], Callable[[numpy.ndarray, xgboost.core.DMatrix], Tuple[str, float]], NoneType] = None, early_stopping_rounds: Optional[int] = None, verbose: Union[bool, int, NoneType] = True, xgb_model: Union[xgboost.core.Booster, ForwardRef('XGBModel'), str, NoneType] = None, sample_weight_eval_set: Optional[Sequence[Any]] = None, base_margin_eval_set: Optional[Sequence[Any]] = None, feature_weights: Optional[Any] = None, callbacks: Optional[Sequence[xgboost.callback.TrainingCallback]] = None) -> 'XGBModel'\n |      Fit gradient boosting model.\n |      \n |      Note that calling ``fit()`` multiple times will cause the model object to be\n |      re-fit from scratch. To resume training from a previous checkpoint, explicitly\n |      pass ``xgb_model`` argument.\n |      \n |      Parameters\n |      ----------\n |      X :\n |          Feature matrix\n |      y :\n |          Labels\n |      sample_weight :\n |          instance weights\n |      base_margin :\n |          global bias for each instance.\n |      eval_set :\n |          A list of (X, y) tuple pairs to use as validation sets, for which\n |          metrics will be computed.\n |          Validation metrics will help us track the performance of the model.\n |      \n |      eval_metric : str, list of str, or callable, optional\n |          .. deprecated:: 1.6.0\n |              Use `eval_metric` in :py:meth:`__init__` or :py:meth:`set_params` instead.\n |      \n |      early_stopping_rounds : int\n |          .. deprecated:: 1.6.0\n |              Use `early_stopping_rounds` in :py:meth:`__init__` or\n |              :py:meth:`set_params` instead.\n |      verbose :\n |          If `verbose` is True and an evaluation set is used, the evaluation metric\n |          measured on the validation set is printed to stdout at each boosting stage.\n |          If `verbose` is an integer, the evaluation metric is printed at each `verbose`\n |          boosting stage. The last boosting stage / the boosting stage found by using\n |          `early_stopping_rounds` is also printed.\n |      xgb_model :\n |          file name of stored XGBoost model or 'Booster' instance XGBoost model to be\n |          loaded before training (allows training continuation).\n |      sample_weight_eval_set :\n |          A list of the form [L_1, L_2, ..., L_n], where each L_i is an array like\n |          object storing instance weights for the i-th validation set.\n |      base_margin_eval_set :\n |          A list of the form [M_1, M_2, ..., M_n], where each M_i is an array like\n |          object storing base margin for the i-th validation set.\n |      feature_weights :\n |          Weight for each feature, defines the probability of each feature being\n |          selected when colsample is being used.  All values must be greater than 0,\n |          otherwise a `ValueError` is thrown.\n |      \n |      callbacks :\n |          .. deprecated:: 1.6.0\n |              Use `callbacks` in :py:meth:`__init__` or :py:meth:`set_params` instead.\n |  \n |  get_booster(self) -> xgboost.core.Booster\n |      Get the underlying xgboost Booster of this model.\n |      \n |      This will raise an exception when fit was not called\n |      \n |      Returns\n |      -------\n |      booster : a xgboost booster of underlying model\n |  \n |  get_num_boosting_rounds(self) -> int\n |      Gets the number of xgboost boosting rounds.\n |  \n |  get_params(self, deep: bool = True) -> Dict[str, Any]\n |      Get parameters.\n |  \n |  get_xgb_params(self) -> Dict[str, Any]\n |      Get xgboost specific parameters.\n |  \n |  load_model(self, fname: Union[str, bytearray, os.PathLike]) -> None\n |      Load the model from a file or bytearray. Path to file can be local\n |      or as an URI.\n |      \n |      The model is loaded from XGBoost format which is universal among the various\n |      XGBoost interfaces. Auxiliary attributes of the Python Booster object (such as\n |      feature_names) will not be loaded when using binary format.  To save those\n |      attributes, use JSON/UBJ instead.  See :doc:`Model IO </tutorials/saving_model>`\n |      for more info.\n |      \n |      .. code-block:: python\n |      \n |        model.load_model(\"model.json\")\n |        # or\n |        model.load_model(\"model.ubj\")\n |      \n |      Parameters\n |      ----------\n |      fname :\n |          Input file name or memory buffer(see also save_raw)\n |  \n |  predict(self, X: Any, output_margin: bool = False, ntree_limit: Optional[int] = None, validate_features: bool = True, base_margin: Optional[Any] = None, iteration_range: Optional[Tuple[int, int]] = None) -> numpy.ndarray\n |      Predict with `X`.  If the model is trained with early stopping, then `best_iteration`\n |      is used automatically.  For tree models, when data is on GPU, like cupy array or\n |      cuDF dataframe and `predictor` is not specified, the prediction is run on GPU\n |      automatically, otherwise it will run on CPU.\n |      \n |      .. note:: This function is only thread safe for `gbtree` and `dart`.\n |      \n |      Parameters\n |      ----------\n |      X :\n |          Data to predict with.\n |      output_margin :\n |          Whether to output the raw untransformed margin value.\n |      ntree_limit :\n |          Deprecated, use `iteration_range` instead.\n |      validate_features :\n |          When this is True, validate that the Booster's and data's feature_names are\n |          identical.  Otherwise, it is assumed that the feature_names are the same.\n |      base_margin :\n |          Margin added to prediction.\n |      iteration_range :\n |          Specifies which layer of trees are used in prediction.  For example, if a\n |          random forest is trained with 100 rounds.  Specifying ``iteration_range=(10,\n |          20)``, then only the forests built during [10, 20) (half open set) rounds\n |          are used in this prediction.\n |      \n |          .. versionadded:: 1.4.0\n |      \n |      Returns\n |      -------\n |      prediction\n |  \n |  save_model(self, fname: Union[str, os.PathLike]) -> None\n |      Save the model to a file.\n |      \n |      The model is saved in an XGBoost internal format which is universal among the\n |      various XGBoost interfaces. Auxiliary attributes of the Python Booster object\n |      (such as feature_names) will not be saved when using binary format.  To save\n |      those attributes, use JSON/UBJ instead. See :doc:`Model IO\n |      </tutorials/saving_model>` for more info.\n |      \n |      .. code-block:: python\n |      \n |        model.save_model(\"model.json\")\n |        # or\n |        model.save_model(\"model.ubj\")\n |      \n |      Parameters\n |      ----------\n |      fname : string or os.PathLike\n |          Output file name\n |  \n |  set_params(self, **params: Any) -> 'XGBModel'\n |      Set the parameters of this estimator.  Modification of the sklearn method to\n |      allow unknown kwargs. This allows using the full range of xgboost\n |      parameters that are not defined as member variables in sklearn grid\n |      search.\n |      \n |      Returns\n |      -------\n |      self\n |  \n |  ----------------------------------------------------------------------\n |  Readonly properties inherited from XGBModel:\n |  \n |  best_iteration\n |      The best iteration obtained by early stopping.  This attribute is 0-based,\n |      for instance if the best iteration is the first round, then best_iteration is 0.\n |  \n |  best_ntree_limit\n |  \n |  best_score\n |      The best score obtained by early stopping.\n |  \n |  coef_\n |      Coefficients property\n |      \n |      .. note:: Coefficients are defined only for linear learners\n |      \n |          Coefficients are only defined when the linear model is chosen as\n |          base learner (`booster=gblinear`). It is not defined for other base\n |          learner types, such as tree learners (`booster=gbtree`).\n |      \n |      Returns\n |      -------\n |      coef_ : array of shape ``[n_features]`` or ``[n_classes, n_features]``\n |  \n |  feature_importances_\n |      Feature importances property, return depends on `importance_type`\n |      parameter. When model trained with multi-class/multi-label/multi-target dataset,\n |      the feature importance is \"averaged\" over all targets. The \"average\" is defined\n |      based on the importance type. For instance, if the importance type is\n |      \"total_gain\", then the score is sum of loss change for each split from all\n |      trees.\n |      \n |      Returns\n |      -------\n |      feature_importances_ : array of shape ``[n_features]`` except for multi-class\n |      linear model, which returns an array with shape `(n_features, n_classes)`\n |  \n |  feature_names_in_\n |      Names of features seen during :py:meth:`fit`.  Defined only when `X` has feature\n |      names that are all strings.\n |  \n |  intercept_\n |      Intercept (bias) property\n |      \n |      .. note:: Intercept is defined only for linear learners\n |      \n |          Intercept (bias) is only defined when the linear model is chosen as base\n |          learner (`booster=gblinear`). It is not defined for other base learner types,\n |          such as tree learners (`booster=gbtree`).\n |      \n |      Returns\n |      -------\n |      intercept_ : array of shape ``(1,)`` or ``[n_classes]``\n |  \n |  n_features_in_\n |      Number of features seen during :py:meth:`fit`.\n |  \n |  ----------------------------------------------------------------------\n |  Methods inherited from sklearn.base.BaseEstimator:\n |  \n |  __getstate__(self)\n |  \n |  __repr__(self, N_CHAR_MAX=700)\n |      Return repr(self).\n |  \n |  __setstate__(self, state)\n |  \n |  ----------------------------------------------------------------------\n |  Data descriptors inherited from sklearn.base.BaseEstimator:\n |  \n |  __dict__\n |      dictionary for instance variables (if defined)\n |  \n |  __weakref__\n |      list of weak references to the object (if defined)\n |  \n |  ----------------------------------------------------------------------\n |  Methods inherited from sklearn.base.RegressorMixin:\n |  \n |  score(self, X, y, sample_weight=None)\n |      Return the coefficient of determination of the prediction.\n |      \n |      The coefficient of determination :math:`R^2` is defined as\n |      :math:`(1 - \\frac{u}{v})`, where :math:`u` is the residual\n |      sum of squares ``((y_true - y_pred)** 2).sum()`` and :math:`v`\n |      is the total sum of squares ``((y_true - y_true.mean()) ** 2).sum()``.\n |      The best possible score is 1.0 and it can be negative (because the\n |      model can be arbitrarily worse). A constant model that always predicts\n |      the expected value of `y`, disregarding the input features, would get\n |      a :math:`R^2` score of 0.0.\n |      \n |      Parameters\n |      ----------\n |      X : array-like of shape (n_samples, n_features)\n |          Test samples. For some estimators this may be a precomputed\n |          kernel matrix or a list of generic objects instead with shape\n |          ``(n_samples, n_samples_fitted)``, where ``n_samples_fitted``\n |          is the number of samples used in the fitting for the estimator.\n |      \n |      y : array-like of shape (n_samples,) or (n_samples, n_outputs)\n |          True values for `X`.\n |      \n |      sample_weight : array-like of shape (n_samples,), default=None\n |          Sample weights.\n |      \n |      Returns\n |      -------\n |      score : float\n |          :math:`R^2` of ``self.predict(X)`` wrt. `y`.\n |      \n |      Notes\n |      -----\n |      The :math:`R^2` score used when calling ``score`` on a regressor uses\n |      ``multioutput='uniform_average'`` from version 0.23 to keep consistent\n |      with default value of :func:`~sklearn.metrics.r2_score`.\n |      This influences the ``score`` method of all the multioutput\n |      regressors (except for\n |      :class:`~sklearn.multioutput.MultiOutputRegressor`).\n\n"
     ]
    }
   ],
   "source": [
    "from xgboost import XGBRegressor\n",
    "\n",
    "help(XGBRegressor)"
   ]
  },
  {
   "cell_type": "markdown",
   "metadata": {
    "application/vnd.databricks.v1+cell": {
     "cellMetadata": {},
     "inputWidgets": {},
     "nuid": "5272b1fe-8022-40bd-a650-8e37b9f8cdb8",
     "showTitle": false,
     "title": ""
    }
   },
   "source": [
    "### Define the objective function\n",
    "The objective function used to find optimal hyperparameters. By default, this notebook only runs\n",
    "this function once (`max_evals=1` in the `hyperopt.fmin` invocation) with fixed hyperparameters, but\n",
    "hyperparameters can be tuned by modifying `space`, defined below. `hyperopt.fmin` will then use this\n",
    "function's return value to search the space to minimize the loss."
   ]
  },
  {
   "cell_type": "code",
   "execution_count": 0,
   "metadata": {
    "application/vnd.databricks.v1+cell": {
     "cellMetadata": {},
     "inputWidgets": {},
     "nuid": "46ef0139-192b-48e9-964b-54f247e8f02d",
     "showTitle": false,
     "title": ""
    },
    "execution": {
     "iopub.execute_input": "2023-05-20T17:02:54.485323Z",
     "iopub.status.busy": "2023-05-20T17:02:54.484875Z",
     "iopub.status.idle": "2023-05-20T17:03:02.872216Z",
     "shell.execute_reply": "2023-05-20T17:03:02.871416Z"
    }
   },
   "outputs": [],
   "source": [
    "import mlflow\n",
    "from mlflow.models import Model, infer_signature, ModelSignature\n",
    "from mlflow.pyfunc import PyFuncModel\n",
    "from mlflow import pyfunc\n",
    "import sklearn\n",
    "from sklearn import set_config\n",
    "from sklearn.pipeline import Pipeline\n",
    "from hyperopt import hp, tpe, fmin, STATUS_OK, Trials\n",
    "\n",
    "\n",
    "# Create a separate pipeline to transform the validation dataset. This is used for early stopping.\n",
    "pipeline_val = Pipeline([\n",
    "    (\"column_selector\", col_selector),\n",
    "    (\"preprocessor\", preprocessor),\n",
    "])\n",
    "\n",
    "mlflow.sklearn.autolog(disable=True)\n",
    "pipeline_val.fit(X_train, y_train)\n",
    "X_val_processed = pipeline_val.transform(X_val)\n",
    "\n",
    "def objective(params):\n",
    "  with mlflow.start_run(experiment_id=\"2269912878111239\") as mlflow_run:\n",
    "    xgb_regressor = XGBRegressor(**params)\n",
    "\n",
    "    model = Pipeline([\n",
    "        (\"column_selector\", col_selector),\n",
    "        (\"preprocessor\", preprocessor),\n",
    "        (\"regressor\", xgb_regressor),\n",
    "    ])\n",
    "\n",
    "    # Enable automatic logging of input samples, metrics, parameters, and models\n",
    "    mlflow.sklearn.autolog(\n",
    "        log_input_examples=True,\n",
    "        silent=True,\n",
    "    )\n",
    "\n",
    "    model.fit(X_train, y_train, regressor__early_stopping_rounds=5, regressor__verbose=False, regressor__eval_set=[(X_val_processed,y_val)])\n",
    "\n",
    "    \n",
    "    # Log metrics for the training set\n",
    "    mlflow_model = Model()\n",
    "    pyfunc.add_to_model(mlflow_model, loader_module=\"mlflow.sklearn\")\n",
    "    pyfunc_model = PyFuncModel(model_meta=mlflow_model, model_impl=model)\n",
    "    X_train[target_col] = y_train\n",
    "    training_eval_result = mlflow.evaluate(\n",
    "        model=pyfunc_model,\n",
    "        data=X_train,\n",
    "        targets=target_col,\n",
    "        model_type=\"regressor\",\n",
    "        evaluator_config = {\"log_model_explainability\": False,\n",
    "                            \"metric_prefix\": \"training_\"}\n",
    "    )\n",
    "    # Log metrics for the validation set\n",
    "    X_val[target_col] = y_val\n",
    "    val_eval_result = mlflow.evaluate(\n",
    "        model=pyfunc_model,\n",
    "        data=X_val,\n",
    "        targets=target_col,\n",
    "        model_type=\"regressor\",\n",
    "        evaluator_config= {\"log_model_explainability\": False,\n",
    "                           \"metric_prefix\": \"val_\"}\n",
    "   )\n",
    "    xgb_val_metrics = val_eval_result.metrics\n",
    "    # Log metrics for the test set\n",
    "    X_test[target_col] = y_test\n",
    "    test_eval_result = mlflow.evaluate(\n",
    "        model=pyfunc_model,\n",
    "        data=X_test,\n",
    "        targets=target_col,\n",
    "        model_type=\"regressor\",\n",
    "        evaluator_config= {\"log_model_explainability\": False,\n",
    "                           \"metric_prefix\": \"test_\"}\n",
    "   )\n",
    "    xgb_test_metrics = test_eval_result.metrics\n",
    "\n",
    "    loss = xgb_val_metrics[\"val_root_mean_squared_error\"]\n",
    "\n",
    "    # Truncate metric key names so they can be displayed together\n",
    "    xgb_val_metrics = {k.replace(\"val_\", \"\"): v for k, v in xgb_val_metrics.items()}\n",
    "    xgb_test_metrics = {k.replace(\"test_\", \"\"): v for k, v in xgb_test_metrics.items()}\n",
    "\n",
    "    return {\n",
    "      \"loss\": loss,\n",
    "      \"status\": STATUS_OK,\n",
    "      \"val_metrics\": xgb_val_metrics,\n",
    "      \"test_metrics\": xgb_test_metrics,\n",
    "      \"model\": model,\n",
    "      \"run\": mlflow_run,\n",
    "    }"
   ]
  },
  {
   "cell_type": "markdown",
   "metadata": {
    "application/vnd.databricks.v1+cell": {
     "cellMetadata": {},
     "inputWidgets": {},
     "nuid": "578bc0f6-c83a-41d5-91c4-5ece593126e4",
     "showTitle": false,
     "title": ""
    }
   },
   "source": [
    "### Configure the hyperparameter search space\n",
    "Configure the search space of parameters. Parameters below are all constant expressions but can be\n",
    "modified to widen the search space. For example, when training a decision tree regressor, to allow\n",
    "the maximum tree depth to be either 2 or 3, set the key of 'max_depth' to\n",
    "`hp.choice('max_depth', [2, 3])`. Be sure to also increase `max_evals` in the `fmin` call below.\n",
    "\n",
    "See https://docs.databricks.com/applications/machine-learning/automl-hyperparam-tuning/index.html\n",
    "for more information on hyperparameter tuning as well as\n",
    "http://hyperopt.github.io/hyperopt/getting-started/search_spaces/ for documentation on supported\n",
    "search expressions.\n",
    "\n",
    "For documentation on parameters used by the model in use, please see:\n",
    "https://xgboost.readthedocs.io/en/stable/python/python_api.html#xgboost.XGBRegressor\n",
    "\n",
    "NOTE: The above URL points to a stable version of the documentation corresponding to the last\n",
    "released version of the package. The documentation may differ slightly for the package version\n",
    "used by this notebook."
   ]
  },
  {
   "cell_type": "code",
   "execution_count": 0,
   "metadata": {
    "application/vnd.databricks.v1+cell": {
     "cellMetadata": {},
     "inputWidgets": {},
     "nuid": "418d9cd3-eee5-404f-95fd-8d5f4b564ed1",
     "showTitle": false,
     "title": ""
    },
    "execution": {
     "iopub.execute_input": "2023-05-20T17:03:02.876863Z",
     "iopub.status.busy": "2023-05-20T17:03:02.875382Z",
     "iopub.status.idle": "2023-05-20T17:03:02.883751Z",
     "shell.execute_reply": "2023-05-20T17:03:02.883197Z"
    }
   },
   "outputs": [],
   "source": [
    "space = {\n",
    "  \"colsample_bytree\": 0.4083358039938078,\n",
    "  \"learning_rate\": 0.013395134292080604,\n",
    "  \"max_depth\": 8,\n",
    "  \"min_child_weight\": 5,\n",
    "  \"n_estimators\": 809,\n",
    "  \"n_jobs\": 100,\n",
    "  \"subsample\": 0.4328791315533923,\n",
    "  \"verbosity\": 0,\n",
    "  \"random_state\": 664894627,\n",
    "}"
   ]
  },
  {
   "cell_type": "markdown",
   "metadata": {
    "application/vnd.databricks.v1+cell": {
     "cellMetadata": {},
     "inputWidgets": {},
     "nuid": "7f7d7bb8-32ff-43c1-82af-f39b1af9c315",
     "showTitle": false,
     "title": ""
    }
   },
   "source": [
    "### Run trials\n",
    "When widening the search space and training multiple models, switch to `SparkTrials` to parallelize\n",
    "training on Spark:\n",
    "```\n",
    "from hyperopt import SparkTrials\n",
    "trials = SparkTrials()\n",
    "```\n",
    "\n",
    "NOTE: While `Trials` starts an MLFlow run for each set of hyperparameters, `SparkTrials` only starts\n",
    "one top-level run; it will start a subrun for each set of hyperparameters.\n",
    "\n",
    "See http://hyperopt.github.io/hyperopt/scaleout/spark/ for more info."
   ]
  },
  {
   "cell_type": "code",
   "execution_count": 0,
   "metadata": {
    "application/vnd.databricks.v1+cell": {
     "cellMetadata": {},
     "inputWidgets": {},
     "nuid": "4896eaa4-cf9d-4483-8aec-3d2c6abee5d7",
     "showTitle": false,
     "title": ""
    },
    "execution": {
     "iopub.execute_input": "2023-05-20T17:03:02.888290Z",
     "iopub.status.busy": "2023-05-20T17:03:02.887156Z",
     "iopub.status.idle": "2023-05-20T17:05:43.322947Z",
     "shell.execute_reply": "2023-05-20T17:05:43.322364Z"
    }
   },
   "outputs": [
    {
     "output_type": "stream",
     "name": "stdout",
     "output_type": "stream",
     "text": [
      "\r  0%|          | 0/1 [00:00<?, ?trial/s, best loss=?]"
     ]
    },
    {
     "output_type": "stream",
     "name": "stderr",
     "output_type": "stream",
     "text": [
      "/databricks/python/lib/python3.10/site-packages/xgboost/sklearn.py:835: UserWarning: `early_stopping_rounds` in `fit` method is deprecated for better compatibility with scikit-learn, use `early_stopping_rounds` in constructor or`set_params` instead.\n  warnings.warn(\n\n"
     ]
    },
    {
     "output_type": "stream",
     "name": "stderr",
     "output_type": "stream",
     "text": [
      "2023/05/20 17:05:20 INFO mlflow.models.evaluation.base: Evaluating the model with the default evaluator.\n\n"
     ]
    },
    {
     "output_type": "stream",
     "name": "stderr",
     "output_type": "stream",
     "text": [
      "2023/05/20 17:05:33 INFO mlflow.models.evaluation.base: Evaluating the model with the default evaluator.\n\n"
     ]
    },
    {
     "output_type": "stream",
     "name": "stderr",
     "output_type": "stream",
     "text": [
      "2023/05/20 17:05:38 INFO mlflow.models.evaluation.base: Evaluating the model with the default evaluator.\n\n"
     ]
    },
    {
     "output_type": "stream",
     "name": "stdout",
     "output_type": "stream",
     "text": [
      "\r100%|██████████| 1/1 [02:40<00:00, 160.21s/trial, best loss: 9340.882052273802]"
     ]
    },
    {
     "output_type": "stream",
     "name": "stdout",
     "output_type": "stream",
     "text": [
      "\r100%|██████████| 1/1 [02:40<00:00, 160.21s/trial, best loss: 9340.882052273802]"
     ]
    },
    {
     "output_type": "stream",
     "name": "stdout",
     "output_type": "stream",
     "text": [
      "\n"
     ]
    },
    {
     "output_type": "display_data",
     "data": {
      "text/html": [
       "<div>\n",
       "<style scoped>\n",
       "    .dataframe tbody tr th:only-of-type {\n",
       "        vertical-align: middle;\n",
       "    }\n",
       "\n",
       "    .dataframe tbody tr th {\n",
       "        vertical-align: top;\n",
       "    }\n",
       "\n",
       "    .dataframe thead th {\n",
       "        text-align: right;\n",
       "    }\n",
       "</style>\n",
       "<table border=\"1\" class=\"dataframe\">\n",
       "  <thead>\n",
       "    <tr style=\"text-align: right;\">\n",
       "      <th></th>\n",
       "      <th>score</th>\n",
       "      <th>example_count</th>\n",
       "      <th>mean_absolute_error</th>\n",
       "      <th>mean_squared_error</th>\n",
       "      <th>root_mean_squared_error</th>\n",
       "      <th>sum_on_target</th>\n",
       "      <th>mean_on_target</th>\n",
       "      <th>r2_score</th>\n",
       "      <th>max_error</th>\n",
       "      <th>mean_absolute_percentage_error</th>\n",
       "    </tr>\n",
       "  </thead>\n",
       "  <tbody>\n",
       "    <tr>\n",
       "      <th>validation</th>\n",
       "      <td>0.794053</td>\n",
       "      <td>58594</td>\n",
       "      <td>3041.707155</td>\n",
       "      <td>8.725208e+07</td>\n",
       "      <td>9340.882052</td>\n",
       "      <td>1.735786e+09</td>\n",
       "      <td>29623.959299</td>\n",
       "      <td>0.794053</td>\n",
       "      <td>1.729983e+06</td>\n",
       "      <td>0.118345</td>\n",
       "    </tr>\n",
       "    <tr>\n",
       "      <th>test</th>\n",
       "      <td>0.571676</td>\n",
       "      <td>58953</td>\n",
       "      <td>3128.563202</td>\n",
       "      <td>2.044898e+08</td>\n",
       "      <td>14299.993031</td>\n",
       "      <td>1.749000e+09</td>\n",
       "      <td>29667.708135</td>\n",
       "      <td>0.571676</td>\n",
       "      <td>2.153822e+06</td>\n",
       "      <td>0.119330</td>\n",
       "    </tr>\n",
       "  </tbody>\n",
       "</table>\n",
       "</div>"
      ],
      "text/plain": [
       "               score  example_count  mean_absolute_error  mean_squared_error  \\\n",
       "validation  0.794053          58594          3041.707155        8.725208e+07   \n",
       "test        0.571676          58953          3128.563202        2.044898e+08   \n",
       "\n",
       "            root_mean_squared_error  sum_on_target  mean_on_target  r2_score  \\\n",
       "validation              9340.882052   1.735786e+09    29623.959299  0.794053   \n",
       "test                   14299.993031   1.749000e+09    29667.708135  0.571676   \n",
       "\n",
       "               max_error  mean_absolute_percentage_error  \n",
       "validation  1.729983e+06                        0.118345  \n",
       "test        2.153822e+06                        0.119330  "
      ]
     },
     "metadata": {},
     "output_type": "display_data"
    },
    {
     "output_type": "execute_result",
     "data": {
      "text/html": [
       "<style>#sk-container-id-2 {color: black;background-color: white;}#sk-container-id-2 pre{padding: 0;}#sk-container-id-2 div.sk-toggleable {background-color: white;}#sk-container-id-2 label.sk-toggleable__label {cursor: pointer;display: block;width: 100%;margin-bottom: 0;padding: 0.3em;box-sizing: border-box;text-align: center;}#sk-container-id-2 label.sk-toggleable__label-arrow:before {content: \"▸\";float: left;margin-right: 0.25em;color: #696969;}#sk-container-id-2 label.sk-toggleable__label-arrow:hover:before {color: black;}#sk-container-id-2 div.sk-estimator:hover label.sk-toggleable__label-arrow:before {color: black;}#sk-container-id-2 div.sk-toggleable__content {max-height: 0;max-width: 0;overflow: hidden;text-align: left;background-color: #f0f8ff;}#sk-container-id-2 div.sk-toggleable__content pre {margin: 0.2em;color: black;border-radius: 0.25em;background-color: #f0f8ff;}#sk-container-id-2 input.sk-toggleable__control:checked~div.sk-toggleable__content {max-height: 200px;max-width: 100%;overflow: auto;}#sk-container-id-2 input.sk-toggleable__control:checked~label.sk-toggleable__label-arrow:before {content: \"▾\";}#sk-container-id-2 div.sk-estimator input.sk-toggleable__control:checked~label.sk-toggleable__label {background-color: #d4ebff;}#sk-container-id-2 div.sk-label input.sk-toggleable__control:checked~label.sk-toggleable__label {background-color: #d4ebff;}#sk-container-id-2 input.sk-hidden--visually {border: 0;clip: rect(1px 1px 1px 1px);clip: rect(1px, 1px, 1px, 1px);height: 1px;margin: -1px;overflow: hidden;padding: 0;position: absolute;width: 1px;}#sk-container-id-2 div.sk-estimator {font-family: monospace;background-color: #f0f8ff;border: 1px dotted black;border-radius: 0.25em;box-sizing: border-box;margin-bottom: 0.5em;}#sk-container-id-2 div.sk-estimator:hover {background-color: #d4ebff;}#sk-container-id-2 div.sk-parallel-item::after {content: \"\";width: 100%;border-bottom: 1px solid gray;flex-grow: 1;}#sk-container-id-2 div.sk-label:hover label.sk-toggleable__label {background-color: #d4ebff;}#sk-container-id-2 div.sk-serial::before {content: \"\";position: absolute;border-left: 1px solid gray;box-sizing: border-box;top: 0;bottom: 0;left: 50%;z-index: 0;}#sk-container-id-2 div.sk-serial {display: flex;flex-direction: column;align-items: center;background-color: white;padding-right: 0.2em;padding-left: 0.2em;position: relative;}#sk-container-id-2 div.sk-item {position: relative;z-index: 1;}#sk-container-id-2 div.sk-parallel {display: flex;align-items: stretch;justify-content: center;background-color: white;position: relative;}#sk-container-id-2 div.sk-item::before, #sk-container-id-2 div.sk-parallel-item::before {content: \"\";position: absolute;border-left: 1px solid gray;box-sizing: border-box;top: 0;bottom: 0;left: 50%;z-index: -1;}#sk-container-id-2 div.sk-parallel-item {display: flex;flex-direction: column;z-index: 1;position: relative;background-color: white;}#sk-container-id-2 div.sk-parallel-item:first-child::after {align-self: flex-end;width: 50%;}#sk-container-id-2 div.sk-parallel-item:last-child::after {align-self: flex-start;width: 50%;}#sk-container-id-2 div.sk-parallel-item:only-child::after {width: 0;}#sk-container-id-2 div.sk-dashed-wrapped {border: 1px dashed gray;margin: 0 0.4em 0.5em 0.4em;box-sizing: border-box;padding-bottom: 0.4em;background-color: white;}#sk-container-id-2 div.sk-label label {font-family: monospace;font-weight: bold;display: inline-block;line-height: 1.2em;}#sk-container-id-2 div.sk-label-container {text-align: center;}#sk-container-id-2 div.sk-container {/* jupyter's `normalize.less` sets `[hidden] { display: none; }` but bootstrap.min.css set `[hidden] { display: none !important; }` so we also need the `!important` here to be able to override the default hidden behavior on the sphinx rendered scikit-learn.org. See: https://github.com/scikit-learn/scikit-learn/issues/21755 */display: inline-block !important;position: relative;}#sk-container-id-2 div.sk-text-repr-fallback {display: none;}</style><div id=\"sk-container-id-2\" class=\"sk-top-container\"><div class=\"sk-text-repr-fallback\"><pre>Pipeline(steps=[(&#x27;column_selector&#x27;,\n",
       "                 ColumnSelector(cols=[&#x27;width&#x27;, &#x27;back_legroom&#x27;, &#x27;engine_type&#x27;,\n",
       "                                      &#x27;mileage&#x27;, &#x27;Heated Seats&#x27;, &#x27;Bluetooth&#x27;,\n",
       "                                      &#x27;franchise_dealer&#x27;, &#x27;franchise_make&#x27;,\n",
       "                                      &#x27;transmission&#x27;, &#x27;listing_color&#x27;,\n",
       "                                      &#x27;Sunroof/Moonroof&#x27;, &#x27;city&#x27;,\n",
       "                                      &#x27;Backup Camera&#x27;, &#x27;daysonmarket&#x27;,\n",
       "                                      &#x27;fuel_type&#x27;, &#x27;word_count_description&#x27;,\n",
       "                                      &#x27;wheel_system_display&#x27;, &#x27;seller_rating&#x27;,\n",
       "                                      &#x27;is_new&#x27;, &#x27;horsepower&#x27;,...\n",
       "                              grow_policy=None, importance_type=None,\n",
       "                              interaction_constraints=None,\n",
       "                              learning_rate=0.013395134292080604, max_bin=None,\n",
       "                              max_cat_threshold=None, max_cat_to_onehot=None,\n",
       "                              max_delta_step=None, max_depth=8, max_leaves=None,\n",
       "                              min_child_weight=5, missing=nan,\n",
       "                              monotone_constraints=None, n_estimators=809,\n",
       "                              n_jobs=100, num_parallel_tree=None,\n",
       "                              predictor=None, random_state=664894627, ...))])</pre><b>In a Jupyter environment, please rerun this cell to show the HTML representation or trust the notebook. <br />On GitHub, the HTML representation is unable to render, please try loading this page with nbviewer.org.</b></div><div class=\"sk-container\" hidden><div class=\"sk-item sk-dashed-wrapped\"><div class=\"sk-label-container\"><div class=\"sk-label sk-toggleable\"><input class=\"sk-toggleable__control sk-hidden--visually\" id=\"sk-estimator-id-30\" type=\"checkbox\" ><label for=\"sk-estimator-id-30\" class=\"sk-toggleable__label sk-toggleable__label-arrow\">Pipeline</label><div class=\"sk-toggleable__content\"><pre>Pipeline(steps=[(&#x27;column_selector&#x27;,\n",
       "                 ColumnSelector(cols=[&#x27;width&#x27;, &#x27;back_legroom&#x27;, &#x27;engine_type&#x27;,\n",
       "                                      &#x27;mileage&#x27;, &#x27;Heated Seats&#x27;, &#x27;Bluetooth&#x27;,\n",
       "                                      &#x27;franchise_dealer&#x27;, &#x27;franchise_make&#x27;,\n",
       "                                      &#x27;transmission&#x27;, &#x27;listing_color&#x27;,\n",
       "                                      &#x27;Sunroof/Moonroof&#x27;, &#x27;city&#x27;,\n",
       "                                      &#x27;Backup Camera&#x27;, &#x27;daysonmarket&#x27;,\n",
       "                                      &#x27;fuel_type&#x27;, &#x27;word_count_description&#x27;,\n",
       "                                      &#x27;wheel_system_display&#x27;, &#x27;seller_rating&#x27;,\n",
       "                                      &#x27;is_new&#x27;, &#x27;horsepower&#x27;,...\n",
       "                              grow_policy=None, importance_type=None,\n",
       "                              interaction_constraints=None,\n",
       "                              learning_rate=0.013395134292080604, max_bin=None,\n",
       "                              max_cat_threshold=None, max_cat_to_onehot=None,\n",
       "                              max_delta_step=None, max_depth=8, max_leaves=None,\n",
       "                              min_child_weight=5, missing=nan,\n",
       "                              monotone_constraints=None, n_estimators=809,\n",
       "                              n_jobs=100, num_parallel_tree=None,\n",
       "                              predictor=None, random_state=664894627, ...))])</pre></div></div></div><div class=\"sk-serial\"><div class=\"sk-item\"><div class=\"sk-estimator sk-toggleable\"><input class=\"sk-toggleable__control sk-hidden--visually\" id=\"sk-estimator-id-31\" type=\"checkbox\" ><label for=\"sk-estimator-id-31\" class=\"sk-toggleable__label sk-toggleable__label-arrow\">ColumnSelector</label><div class=\"sk-toggleable__content\"><pre>ColumnSelector(cols=[&#x27;width&#x27;, &#x27;back_legroom&#x27;, &#x27;engine_type&#x27;, &#x27;mileage&#x27;,\n",
       "                     &#x27;Heated Seats&#x27;, &#x27;Bluetooth&#x27;, &#x27;franchise_dealer&#x27;,\n",
       "                     &#x27;franchise_make&#x27;, &#x27;transmission&#x27;, &#x27;listing_color&#x27;,\n",
       "                     &#x27;Sunroof/Moonroof&#x27;, &#x27;city&#x27;, &#x27;Backup Camera&#x27;,\n",
       "                     &#x27;daysonmarket&#x27;, &#x27;fuel_type&#x27;, &#x27;word_count_description&#x27;,\n",
       "                     &#x27;wheel_system_display&#x27;, &#x27;seller_rating&#x27;, &#x27;is_new&#x27;,\n",
       "                     &#x27;horsepower&#x27;, &#x27;engine_cylinders&#x27;, &#x27;body_type&#x27;, &#x27;year&#x27;,\n",
       "                     &#x27;Leather Seats&#x27;, &#x27;city_fuel_economy&#x27;, &#x27;wheelbase&#x27;,\n",
       "                     &#x27;maximum_seating&#x27;, &#x27;Navigation System&#x27;,\n",
       "                     &#x27;Adaptive Cruise Control&#x27;, &#x27;engine_displacement&#x27;, ...])</pre></div></div></div><div class=\"sk-item sk-dashed-wrapped\"><div class=\"sk-label-container\"><div class=\"sk-label sk-toggleable\"><input class=\"sk-toggleable__control sk-hidden--visually\" id=\"sk-estimator-id-32\" type=\"checkbox\" ><label for=\"sk-estimator-id-32\" class=\"sk-toggleable__label sk-toggleable__label-arrow\">preprocessor: ColumnTransformer</label><div class=\"sk-toggleable__content\"><pre>ColumnTransformer(remainder=&#x27;passthrough&#x27;, sparse_threshold=1,\n",
       "                  transformers=[(&#x27;boolean&#x27;,\n",
       "                                 Pipeline(steps=[(&#x27;cast_type&#x27;,\n",
       "                                                  FunctionTransformer(func=&lt;function &lt;lambda&gt; at 0x7f359c2cec20&gt;)),\n",
       "                                                 (&#x27;imputers&#x27;,\n",
       "                                                  ColumnTransformer(remainder=&#x27;passthrough&#x27;,\n",
       "                                                                    transformers=[])),\n",
       "                                                 (&#x27;onehot&#x27;,\n",
       "                                                  OneHotEncoder(drop=&#x27;first&#x27;,\n",
       "                                                                handle_unknown=&#x27;ignore&#x27;))]),\n",
       "                                 [&#x27;Adaptive Cruise Control&#x27;, &#x27;is_new&#x27;,\n",
       "                                  &#x27;H...\n",
       "                                                  SimpleImputer(fill_value=&#x27;&#x27;,\n",
       "                                                                missing_values=None,\n",
       "                                                                strategy=&#x27;constant&#x27;)),\n",
       "                                                 (&#x27;city_hasher&#x27;,\n",
       "                                                  FeatureHasher(input_type=&#x27;string&#x27;,\n",
       "                                                                n_features=1024))]),\n",
       "                                 [&#x27;city&#x27;]),\n",
       "                                (&#x27;model_name_pipeline&#x27;,\n",
       "                                 Pipeline(steps=[(&#x27;impute_string_&#x27;,\n",
       "                                                  SimpleImputer(fill_value=&#x27;&#x27;,\n",
       "                                                                missing_values=None,\n",
       "                                                                strategy=&#x27;constant&#x27;)),\n",
       "                                                 (&#x27;model_name_hasher&#x27;,\n",
       "                                                  FeatureHasher(input_type=&#x27;string&#x27;,\n",
       "                                                                n_features=1024))]),\n",
       "                                 [&#x27;model_name&#x27;])])</pre></div></div></div><div class=\"sk-parallel\"><div class=\"sk-parallel-item\"><div class=\"sk-item\"><div class=\"sk-label-container\"><div class=\"sk-label sk-toggleable\"><input class=\"sk-toggleable__control sk-hidden--visually\" id=\"sk-estimator-id-33\" type=\"checkbox\" ><label for=\"sk-estimator-id-33\" class=\"sk-toggleable__label sk-toggleable__label-arrow\">boolean</label><div class=\"sk-toggleable__content\"><pre>[&#x27;Adaptive Cruise Control&#x27;, &#x27;is_new&#x27;, &#x27;Heated Seats&#x27;, &#x27;Bluetooth&#x27;, &#x27;franchise_dealer&#x27;, &#x27;Leather Seats&#x27;, &#x27;Parking Sensors&#x27;, &#x27;Sunroof/Moonroof&#x27;, &#x27;Blind Spot Monitoring&#x27;, &#x27;Third Row Seating&#x27;, &#x27;Backup Camera&#x27;, &#x27;Remote Start&#x27;, &#x27;Navigation System&#x27;, &#x27;Alloy Wheels&#x27;]</pre></div></div></div><div class=\"sk-serial\"><div class=\"sk-item\"><div class=\"sk-serial\"><div class=\"sk-item\"><div class=\"sk-estimator sk-toggleable\"><input class=\"sk-toggleable__control sk-hidden--visually\" id=\"sk-estimator-id-34\" type=\"checkbox\" ><label for=\"sk-estimator-id-34\" class=\"sk-toggleable__label sk-toggleable__label-arrow\">FunctionTransformer</label><div class=\"sk-toggleable__content\"><pre>FunctionTransformer(func=&lt;function &lt;lambda&gt; at 0x7f359c2cec20&gt;)</pre></div></div></div><div class=\"sk-item sk-dashed-wrapped\"><div class=\"sk-label-container\"><div class=\"sk-label sk-toggleable\"><input class=\"sk-toggleable__control sk-hidden--visually\" id=\"sk-estimator-id-35\" type=\"checkbox\" ><label for=\"sk-estimator-id-35\" class=\"sk-toggleable__label sk-toggleable__label-arrow\">imputers: ColumnTransformer</label><div class=\"sk-toggleable__content\"><pre>ColumnTransformer(remainder=&#x27;passthrough&#x27;, transformers=[])</pre></div></div></div><div class=\"sk-parallel\"><div class=\"sk-parallel-item\"><div class=\"sk-item\"><div class=\"sk-label-container\"><div class=\"sk-label sk-toggleable\"><input class=\"sk-toggleable__control sk-hidden--visually\" id=\"sk-estimator-id-36\" type=\"checkbox\" ><label for=\"sk-estimator-id-36\" class=\"sk-toggleable__label sk-toggleable__label-arrow\">remainder</label><div class=\"sk-toggleable__content\"><pre></pre></div></div></div><div class=\"sk-serial\"><div class=\"sk-item\"><div class=\"sk-estimator sk-toggleable\"><input class=\"sk-toggleable__control sk-hidden--visually\" id=\"sk-estimator-id-37\" type=\"checkbox\" ><label for=\"sk-estimator-id-37\" class=\"sk-toggleable__label sk-toggleable__label-arrow\">passthrough</label><div class=\"sk-toggleable__content\"><pre>passthrough</pre></div></div></div></div></div></div></div></div><div class=\"sk-item\"><div class=\"sk-estimator sk-toggleable\"><input class=\"sk-toggleable__control sk-hidden--visually\" id=\"sk-estimator-id-38\" type=\"checkbox\" ><label for=\"sk-estimator-id-38\" class=\"sk-toggleable__label sk-toggleable__label-arrow\">OneHotEncoder</label><div class=\"sk-toggleable__content\"><pre>OneHotEncoder(drop=&#x27;first&#x27;, handle_unknown=&#x27;ignore&#x27;)</pre></div></div></div></div></div></div></div></div><div class=\"sk-parallel-item\"><div class=\"sk-item\"><div class=\"sk-label-container\"><div class=\"sk-label sk-toggleable\"><input class=\"sk-toggleable__control sk-hidden--visually\" id=\"sk-estimator-id-39\" type=\"checkbox\" ><label for=\"sk-estimator-id-39\" class=\"sk-toggleable__label sk-toggleable__label-arrow\">numerical</label><div class=\"sk-toggleable__content\"><pre>[&#x27;width&#x27;, &#x27;back_legroom&#x27;, &#x27;mileage&#x27;, &#x27;Heated Seats&#x27;, &#x27;Bluetooth&#x27;, &#x27;Sunroof/Moonroof&#x27;, &#x27;Backup Camera&#x27;, &#x27;daysonmarket&#x27;, &#x27;word_count_description&#x27;, &#x27;seller_rating&#x27;, &#x27;horsepower&#x27;, &#x27;year&#x27;, &#x27;city_fuel_economy&#x27;, &#x27;Leather Seats&#x27;, &#x27;wheelbase&#x27;, &#x27;maximum_seating&#x27;, &#x27;Navigation System&#x27;, &#x27;engine_displacement&#x27;, &#x27;Adaptive Cruise Control&#x27;, &#x27;torque&#x27;, &#x27;front_legroom&#x27;, &#x27;Parking Sensors&#x27;, &#x27;Blind Spot Monitoring&#x27;, &#x27;Remote Start&#x27;, &#x27;height&#x27;, &#x27;Third Row Seating&#x27;, &#x27;Alloy Wheels&#x27;]</pre></div></div></div><div class=\"sk-serial\"><div class=\"sk-item\"><div class=\"sk-serial\"><div class=\"sk-item\"><div class=\"sk-estimator sk-toggleable\"><input class=\"sk-toggleable__control sk-hidden--visually\" id=\"sk-estimator-id-40\" type=\"checkbox\" ><label for=\"sk-estimator-id-40\" class=\"sk-toggleable__label sk-toggleable__label-arrow\">FunctionTransformer</label><div class=\"sk-toggleable__content\"><pre>FunctionTransformer(func=&lt;function &lt;lambda&gt; at 0x7f355ce00310&gt;)</pre></div></div></div><div class=\"sk-item sk-dashed-wrapped\"><div class=\"sk-label-container\"><div class=\"sk-label sk-toggleable\"><input class=\"sk-toggleable__control sk-hidden--visually\" id=\"sk-estimator-id-41\" type=\"checkbox\" ><label for=\"sk-estimator-id-41\" class=\"sk-toggleable__label sk-toggleable__label-arrow\">imputers: ColumnTransformer</label><div class=\"sk-toggleable__content\"><pre>ColumnTransformer(transformers=[(&#x27;impute_mean&#x27;, SimpleImputer(),\n",
       "                                 [&#x27;Adaptive Cruise Control&#x27;, &#x27;Alloy Wheels&#x27;,\n",
       "                                  &#x27;Backup Camera&#x27;, &#x27;Blind Spot Monitoring&#x27;,\n",
       "                                  &#x27;Bluetooth&#x27;, &#x27;Heated Seats&#x27;, &#x27;Leather Seats&#x27;,\n",
       "                                  &#x27;Navigation System&#x27;, &#x27;Parking Sensors&#x27;,\n",
       "                                  &#x27;Remote Start&#x27;, &#x27;Sunroof/Moonroof&#x27;,\n",
       "                                  &#x27;Third Row Seating&#x27;, &#x27;back_legroom&#x27;,\n",
       "                                  &#x27;city_fuel_economy&#x27;, &#x27;daysonmarket&#x27;,\n",
       "                                  &#x27;engine_displacement&#x27;, &#x27;front_legroom&#x27;,\n",
       "                                  &#x27;height&#x27;, &#x27;horsepower&#x27;, &#x27;maximum_seating&#x27;,\n",
       "                                  &#x27;mileage&#x27;, &#x27;seller_rating&#x27;, &#x27;torque&#x27;,\n",
       "                                  &#x27;wheelbase&#x27;, &#x27;width&#x27;,\n",
       "                                  &#x27;word_count_description&#x27;, &#x27;year&#x27;])])</pre></div></div></div><div class=\"sk-parallel\"><div class=\"sk-parallel-item\"><div class=\"sk-item\"><div class=\"sk-label-container\"><div class=\"sk-label sk-toggleable\"><input class=\"sk-toggleable__control sk-hidden--visually\" id=\"sk-estimator-id-42\" type=\"checkbox\" ><label for=\"sk-estimator-id-42\" class=\"sk-toggleable__label sk-toggleable__label-arrow\">impute_mean</label><div class=\"sk-toggleable__content\"><pre>[&#x27;Adaptive Cruise Control&#x27;, &#x27;Alloy Wheels&#x27;, &#x27;Backup Camera&#x27;, &#x27;Blind Spot Monitoring&#x27;, &#x27;Bluetooth&#x27;, &#x27;Heated Seats&#x27;, &#x27;Leather Seats&#x27;, &#x27;Navigation System&#x27;, &#x27;Parking Sensors&#x27;, &#x27;Remote Start&#x27;, &#x27;Sunroof/Moonroof&#x27;, &#x27;Third Row Seating&#x27;, &#x27;back_legroom&#x27;, &#x27;city_fuel_economy&#x27;, &#x27;daysonmarket&#x27;, &#x27;engine_displacement&#x27;, &#x27;front_legroom&#x27;, &#x27;height&#x27;, &#x27;horsepower&#x27;, &#x27;maximum_seating&#x27;, &#x27;mileage&#x27;, &#x27;seller_rating&#x27;, &#x27;torque&#x27;, &#x27;wheelbase&#x27;, &#x27;width&#x27;, &#x27;word_count_description&#x27;, &#x27;year&#x27;]</pre></div></div></div><div class=\"sk-serial\"><div class=\"sk-item\"><div class=\"sk-estimator sk-toggleable\"><input class=\"sk-toggleable__control sk-hidden--visually\" id=\"sk-estimator-id-43\" type=\"checkbox\" ><label for=\"sk-estimator-id-43\" class=\"sk-toggleable__label sk-toggleable__label-arrow\">SimpleImputer</label><div class=\"sk-toggleable__content\"><pre>SimpleImputer()</pre></div></div></div></div></div></div></div></div><div class=\"sk-item\"><div class=\"sk-estimator sk-toggleable\"><input class=\"sk-toggleable__control sk-hidden--visually\" id=\"sk-estimator-id-44\" type=\"checkbox\" ><label for=\"sk-estimator-id-44\" class=\"sk-toggleable__label sk-toggleable__label-arrow\">StandardScaler</label><div class=\"sk-toggleable__content\"><pre>StandardScaler()</pre></div></div></div></div></div></div></div></div><div class=\"sk-parallel-item\"><div class=\"sk-item\"><div class=\"sk-label-container\"><div class=\"sk-label sk-toggleable\"><input class=\"sk-toggleable__control sk-hidden--visually\" id=\"sk-estimator-id-45\" type=\"checkbox\" ><label for=\"sk-estimator-id-45\" class=\"sk-toggleable__label sk-toggleable__label-arrow\">onehot</label><div class=\"sk-toggleable__content\"><pre>[&#x27;body_type&#x27;, &#x27;engine_cylinders&#x27;, &#x27;engine_type&#x27;, &#x27;franchise_make&#x27;, &#x27;fuel_type&#x27;, &#x27;listing_color&#x27;, &#x27;make_name&#x27;, &#x27;transmission&#x27;, &#x27;wheel_system_display&#x27;]</pre></div></div></div><div class=\"sk-serial\"><div class=\"sk-item\"><div class=\"sk-serial\"><div class=\"sk-item sk-dashed-wrapped\"><div class=\"sk-label-container\"><div class=\"sk-label sk-toggleable\"><input class=\"sk-toggleable__control sk-hidden--visually\" id=\"sk-estimator-id-46\" type=\"checkbox\" ><label for=\"sk-estimator-id-46\" class=\"sk-toggleable__label sk-toggleable__label-arrow\">imputers: ColumnTransformer</label><div class=\"sk-toggleable__content\"><pre>ColumnTransformer(remainder=&#x27;passthrough&#x27;, transformers=[])</pre></div></div></div><div class=\"sk-parallel\"><div class=\"sk-parallel-item\"><div class=\"sk-item\"><div class=\"sk-label-container\"><div class=\"sk-label sk-toggleable\"><input class=\"sk-toggleable__control sk-hidden--visually\" id=\"sk-estimator-id-47\" type=\"checkbox\" ><label for=\"sk-estimator-id-47\" class=\"sk-toggleable__label sk-toggleable__label-arrow\">remainder</label><div class=\"sk-toggleable__content\"><pre></pre></div></div></div><div class=\"sk-serial\"><div class=\"sk-item\"><div class=\"sk-estimator sk-toggleable\"><input class=\"sk-toggleable__control sk-hidden--visually\" id=\"sk-estimator-id-48\" type=\"checkbox\" ><label for=\"sk-estimator-id-48\" class=\"sk-toggleable__label sk-toggleable__label-arrow\">passthrough</label><div class=\"sk-toggleable__content\"><pre>passthrough</pre></div></div></div></div></div></div></div></div><div class=\"sk-item\"><div class=\"sk-estimator sk-toggleable\"><input class=\"sk-toggleable__control sk-hidden--visually\" id=\"sk-estimator-id-49\" type=\"checkbox\" ><label for=\"sk-estimator-id-49\" class=\"sk-toggleable__label sk-toggleable__label-arrow\">OneHotEncoder</label><div class=\"sk-toggleable__content\"><pre>OneHotEncoder()</pre></div></div></div></div></div></div></div></div><div class=\"sk-parallel-item\"><div class=\"sk-item\"><div class=\"sk-label-container\"><div class=\"sk-label sk-toggleable\"><input class=\"sk-toggleable__control sk-hidden--visually\" id=\"sk-estimator-id-50\" type=\"checkbox\" ><label for=\"sk-estimator-id-50\" class=\"sk-toggleable__label sk-toggleable__label-arrow\">city_pipeline</label><div class=\"sk-toggleable__content\"><pre>[&#x27;city&#x27;]</pre></div></div></div><div class=\"sk-serial\"><div class=\"sk-item\"><div class=\"sk-serial\"><div class=\"sk-item\"><div class=\"sk-estimator sk-toggleable\"><input class=\"sk-toggleable__control sk-hidden--visually\" id=\"sk-estimator-id-51\" type=\"checkbox\" ><label for=\"sk-estimator-id-51\" class=\"sk-toggleable__label sk-toggleable__label-arrow\">SimpleImputer</label><div class=\"sk-toggleable__content\"><pre>SimpleImputer(fill_value=&#x27;&#x27;, missing_values=None, strategy=&#x27;constant&#x27;)</pre></div></div></div><div class=\"sk-item\"><div class=\"sk-estimator sk-toggleable\"><input class=\"sk-toggleable__control sk-hidden--visually\" id=\"sk-estimator-id-52\" type=\"checkbox\" ><label for=\"sk-estimator-id-52\" class=\"sk-toggleable__label sk-toggleable__label-arrow\">FeatureHasher</label><div class=\"sk-toggleable__content\"><pre>FeatureHasher(input_type=&#x27;string&#x27;, n_features=1024)</pre></div></div></div></div></div></div></div></div><div class=\"sk-parallel-item\"><div class=\"sk-item\"><div class=\"sk-label-container\"><div class=\"sk-label sk-toggleable\"><input class=\"sk-toggleable__control sk-hidden--visually\" id=\"sk-estimator-id-53\" type=\"checkbox\" ><label for=\"sk-estimator-id-53\" class=\"sk-toggleable__label sk-toggleable__label-arrow\">model_name_pipeline</label><div class=\"sk-toggleable__content\"><pre>[&#x27;model_name&#x27;]</pre></div></div></div><div class=\"sk-serial\"><div class=\"sk-item\"><div class=\"sk-serial\"><div class=\"sk-item\"><div class=\"sk-estimator sk-toggleable\"><input class=\"sk-toggleable__control sk-hidden--visually\" id=\"sk-estimator-id-54\" type=\"checkbox\" ><label for=\"sk-estimator-id-54\" class=\"sk-toggleable__label sk-toggleable__label-arrow\">SimpleImputer</label><div class=\"sk-toggleable__content\"><pre>SimpleImputer(fill_value=&#x27;&#x27;, missing_values=None, strategy=&#x27;constant&#x27;)</pre></div></div></div><div class=\"sk-item\"><div class=\"sk-estimator sk-toggleable\"><input class=\"sk-toggleable__control sk-hidden--visually\" id=\"sk-estimator-id-55\" type=\"checkbox\" ><label for=\"sk-estimator-id-55\" class=\"sk-toggleable__label sk-toggleable__label-arrow\">FeatureHasher</label><div class=\"sk-toggleable__content\"><pre>FeatureHasher(input_type=&#x27;string&#x27;, n_features=1024)</pre></div></div></div></div></div></div></div></div><div class=\"sk-parallel-item\"><div class=\"sk-item\"><div class=\"sk-label-container\"><div class=\"sk-label sk-toggleable\"><input class=\"sk-toggleable__control sk-hidden--visually\" id=\"sk-estimator-id-56\" type=\"checkbox\" ><label for=\"sk-estimator-id-56\" class=\"sk-toggleable__label sk-toggleable__label-arrow\">remainder</label><div class=\"sk-toggleable__content\"><pre>[]</pre></div></div></div><div class=\"sk-serial\"><div class=\"sk-item\"><div class=\"sk-estimator sk-toggleable\"><input class=\"sk-toggleable__control sk-hidden--visually\" id=\"sk-estimator-id-57\" type=\"checkbox\" ><label for=\"sk-estimator-id-57\" class=\"sk-toggleable__label sk-toggleable__label-arrow\">passthrough</label><div class=\"sk-toggleable__content\"><pre>passthrough</pre></div></div></div></div></div></div></div></div><div class=\"sk-item\"><div class=\"sk-estimator sk-toggleable\"><input class=\"sk-toggleable__control sk-hidden--visually\" id=\"sk-estimator-id-58\" type=\"checkbox\" ><label for=\"sk-estimator-id-58\" class=\"sk-toggleable__label sk-toggleable__label-arrow\">XGBRegressor</label><div class=\"sk-toggleable__content\"><pre>XGBRegressor(base_score=None, booster=None, callbacks=None,\n",
       "             colsample_bylevel=None, colsample_bynode=None,\n",
       "             colsample_bytree=0.4083358039938078, early_stopping_rounds=None,\n",
       "             enable_categorical=False, eval_metric=None, feature_types=None,\n",
       "             gamma=None, gpu_id=None, grow_policy=None, importance_type=None,\n",
       "             interaction_constraints=None, learning_rate=0.013395134292080604,\n",
       "             max_bin=None, max_cat_threshold=None, max_cat_to_onehot=None,\n",
       "             max_delta_step=None, max_depth=8, max_leaves=None,\n",
       "             min_child_weight=5, missing=nan, monotone_constraints=None,\n",
       "             n_estimators=809, n_jobs=100, num_parallel_tree=None,\n",
       "             predictor=None, random_state=664894627, ...)</pre></div></div></div></div></div></div></div>"
      ],
      "text/plain": [
       "Pipeline(steps=[('column_selector',\n",
       "                 ColumnSelector(cols=['width', 'back_legroom', 'engine_type',\n",
       "                                      'mileage', 'Heated Seats', 'Bluetooth',\n",
       "                                      'franchise_dealer', 'franchise_make',\n",
       "                                      'transmission', 'listing_color',\n",
       "                                      'Sunroof/Moonroof', 'city',\n",
       "                                      'Backup Camera', 'daysonmarket',\n",
       "                                      'fuel_type', 'word_count_description',\n",
       "                                      'wheel_system_display', 'seller_rating',\n",
       "                                      'is_new', 'horsepower',...\n",
       "                              grow_policy=None, importance_type=None,\n",
       "                              interaction_constraints=None,\n",
       "                              learning_rate=0.013395134292080604, max_bin=None,\n",
       "                              max_cat_threshold=None, max_cat_to_onehot=None,\n",
       "                              max_delta_step=None, max_depth=8, max_leaves=None,\n",
       "                              min_child_weight=5, missing=nan,\n",
       "                              monotone_constraints=None, n_estimators=809,\n",
       "                              n_jobs=100, num_parallel_tree=None,\n",
       "                              predictor=None, random_state=664894627, ...))])"
      ]
     },
     "execution_count": 14,
     "metadata": {},
     "output_type": "execute_result"
    }
   ],
   "source": [
    "trials = Trials()\n",
    "fmin(objective,\n",
    "     space=space,\n",
    "     algo=tpe.suggest,\n",
    "     max_evals=1,  # Increase this when widening the hyperparameter search space.\n",
    "     trials=trials)\n",
    "\n",
    "best_result = trials.best_trial[\"result\"]\n",
    "model = best_result[\"model\"]\n",
    "mlflow_run = best_result[\"run\"]\n",
    "\n",
    "display(\n",
    "  pd.DataFrame(\n",
    "    [best_result[\"val_metrics\"], best_result[\"test_metrics\"]],\n",
    "    index=[\"validation\", \"test\"]))\n",
    "\n",
    "set_config(display=\"diagram\")\n",
    "model"
   ]
  },
  {
   "cell_type": "markdown",
   "metadata": {
    "application/vnd.databricks.v1+cell": {
     "cellMetadata": {},
     "inputWidgets": {},
     "nuid": "b1376cfd-ad76-4a34-9790-151d9bc4f6eb",
     "showTitle": false,
     "title": ""
    }
   },
   "source": [
    "## Feature importance\n",
    "\n",
    "SHAP is a game-theoretic approach to explain machine learning models, providing a summary plot\n",
    "of the relationship between features and model output. Features are ranked in descending order of\n",
    "importance, and impact/color describe the correlation between the feature and the target variable.\n",
    "- Generating SHAP feature importance is a very memory intensive operation, so to ensure that AutoML can run trials without\n",
    "  running out of memory, we disable SHAP by default.<br />\n",
    "  You can set the flag defined below to `shap_enabled = True` and re-run this notebook to see the SHAP plots.\n",
    "- To reduce the computational overhead of each trial, a single example is sampled from the validation set to explain.<br />\n",
    "  For more thorough results, increase the sample size of explanations, or provide your own examples to explain.\n",
    "- SHAP cannot explain models using data with nulls; if your dataset has any, both the background data and\n",
    "  examples to explain will be imputed using the mode (most frequent values). This affects the computed\n",
    "  SHAP values, as the imputed samples may not match the actual data distribution.\n",
    "\n",
    "For more information on how to read Shapley values, see the [SHAP documentation](https://shap.readthedocs.io/en/latest/example_notebooks/overviews/An%20introduction%20to%20explainable%20AI%20with%20Shapley%20values.html)."
   ]
  },
  {
   "cell_type": "code",
   "execution_count": 0,
   "metadata": {
    "application/vnd.databricks.v1+cell": {
     "cellMetadata": {},
     "inputWidgets": {},
     "nuid": "c80fa17c-f5f5-4145-957e-35e76bb93ace",
     "showTitle": false,
     "title": ""
    },
    "execution": {
     "iopub.execute_input": "2023-05-20T17:05:43.330773Z",
     "iopub.status.busy": "2023-05-20T17:05:43.325731Z",
     "iopub.status.idle": "2023-05-20T17:05:43.335584Z",
     "shell.execute_reply": "2023-05-20T17:05:43.334816Z"
    }
   },
   "outputs": [],
   "source": [
    "# Set this flag to True and re-run the notebook to see the SHAP plots\n",
    "shap_enabled = False"
   ]
  },
  {
   "cell_type": "code",
   "execution_count": 0,
   "metadata": {
    "application/vnd.databricks.v1+cell": {
     "cellMetadata": {},
     "inputWidgets": {},
     "nuid": "171f1714-eb9b-4893-bafd-c317beb5b906",
     "showTitle": false,
     "title": ""
    },
    "execution": {
     "iopub.execute_input": "2023-05-20T17:05:43.339207Z",
     "iopub.status.busy": "2023-05-20T17:05:43.339036Z",
     "iopub.status.idle": "2023-05-20T17:05:43.345474Z",
     "shell.execute_reply": "2023-05-20T17:05:43.344811Z"
    }
   },
   "outputs": [],
   "source": [
    "if shap_enabled:\n",
    "    mlflow.autolog(disable=True)\n",
    "    mlflow.sklearn.autolog(disable=True)\n",
    "    from shap import KernelExplainer, summary_plot\n",
    "    # SHAP cannot explain models using data with nulls.\n",
    "    # To enable SHAP to succeed, both the background data and examples to explain are imputed with the mode (most frequent values).\n",
    "    mode = X_train.mode().iloc[0]\n",
    "\n",
    "    # Sample background data for SHAP Explainer. Increase the sample size to reduce variance.\n",
    "    train_sample = X_train.sample(n=min(100, X_train.shape[0]), random_state=664894627).fillna(mode)\n",
    "\n",
    "    # Sample some rows from the validation set to explain. Increase the sample size for more thorough results.\n",
    "    example = X_val.sample(n=min(100, X_val.shape[0]), random_state=664894627).fillna(mode)\n",
    "\n",
    "    # Use Kernel SHAP to explain feature importance on the sampled rows from the validation set.\n",
    "    predict = lambda x: model.predict(pd.DataFrame(x, columns=X_train.columns))\n",
    "    explainer = KernelExplainer(predict, train_sample, link=\"identity\")\n",
    "    shap_values = explainer.shap_values(example, l1_reg=False, nsamples=500)\n",
    "    summary_plot(shap_values, example)"
   ]
  },
  {
   "cell_type": "markdown",
   "metadata": {
    "application/vnd.databricks.v1+cell": {
     "cellMetadata": {},
     "inputWidgets": {},
     "nuid": "3166fa40-d5b6-482b-b2cd-dedfdc226914",
     "showTitle": false,
     "title": ""
    }
   },
   "source": [
    "## Inference\n",
    "[The MLflow Model Registry](https://docs.databricks.com/applications/mlflow/model-registry.html) is a collaborative hub where teams can share ML models, work together from experimentation to online testing and production, integrate with approval and governance workflows, and monitor ML deployments and their performance. The snippets below show how to add the model trained in this notebook to the model registry and to retrieve it later for inference.\n",
    "\n",
    "> **NOTE:** The `model_uri` for the model already trained in this notebook can be found in the cell below\n",
    "\n",
    "### Register to Model Registry\n",
    "```\n",
    "model_name = \"Example\"\n",
    "\n",
    "model_uri = f\"runs:/{ mlflow_run.info.run_id }/model\"\n",
    "registered_model_version = mlflow.register_model(model_uri, model_name)\n",
    "```\n",
    "\n",
    "### Load from Model Registry\n",
    "```\n",
    "model_name = \"Example\"\n",
    "model_version = registered_model_version.version\n",
    "\n",
    "model_uri=f\"models:/{model_name}/{model_version}\"\n",
    "model = mlflow.pyfunc.load_model(model_uri=model_uri)\n",
    "model.predict(input_X)\n",
    "```\n",
    "\n",
    "### Load model without registering\n",
    "```\n",
    "model_uri = f\"runs:/{ mlflow_run.info.run_id }/model\"\n",
    "\n",
    "model = mlflow.pyfunc.load_model(model_uri=model_uri)\n",
    "model.predict(input_X)\n",
    "```"
   ]
  },
  {
   "cell_type": "code",
   "execution_count": 0,
   "metadata": {
    "application/vnd.databricks.v1+cell": {
     "cellMetadata": {},
     "inputWidgets": {},
     "nuid": "d388996f-3947-4ff7-9f89-6a15693d0b27",
     "showTitle": false,
     "title": ""
    },
    "execution": {
     "iopub.execute_input": "2023-05-20T17:05:43.348913Z",
     "iopub.status.busy": "2023-05-20T17:05:43.348746Z",
     "iopub.status.idle": "2023-05-20T17:05:43.353799Z",
     "shell.execute_reply": "2023-05-20T17:05:43.353118Z"
    }
   },
   "outputs": [
    {
     "output_type": "stream",
     "name": "stdout",
     "output_type": "stream",
     "text": [
      "runs:/a0878f4057aa45cfaa456b90b375381b/model\n"
     ]
    }
   ],
   "source": [
    "# model_uri for the generated model\n",
    "print(f\"runs:/{ mlflow_run.info.run_id }/model\")"
   ]
  }
 ],
 "metadata": {
  "application/vnd.databricks.v1+notebook": {
   "dashboards": [],
   "language": "python",
   "notebookMetadata": {
    "pythonIndentUnit": 4
   },
   "notebookName": "XGboost_ML_Pyspark",
   "widgets": {}
  },
  "language_info": {
   "codemirror_mode": {
    "name": "ipython",
    "version": 3
   },
   "file_extension": ".py",
   "mimetype": "text/x-python",
   "name": "python",
   "nbconvert_exporter": "python",
   "pygments_lexer": "ipython3",
   "version": "3.10.6"
  },
  "name": "XGBoostRegressor-91294d39f4f1a13b41662c0b02d318d4"
 },
 "nbformat": 4,
 "nbformat_minor": 0
}
